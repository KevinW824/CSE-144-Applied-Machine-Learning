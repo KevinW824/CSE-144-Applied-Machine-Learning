{
  "nbformat": 4,
  "nbformat_minor": 0,
  "metadata": {
    "colab": {
      "name": "Summer_21_Assignment_1.ipynb",
      "provenance": [],
      "include_colab_link": true
    },
    "kernelspec": {
      "name": "python3",
      "display_name": "Python 3"
    }
  },
  "cells": [
    {
      "cell_type": "markdown",
      "metadata": {
        "id": "view-in-github",
        "colab_type": "text"
      },
      "source": [
        "<a href=\"https://colab.research.google.com/github/KevinW824/CSE-144-Applied-Machine-Learning/blob/main/Summer_21_Assignment_1.ipynb\" target=\"_parent\"><img src=\"https://colab.research.google.com/assets/colab-badge.svg\" alt=\"Open In Colab\"/></a>"
      ]
    },
    {
      "cell_type": "code",
      "metadata": {
        "id": "2IlwhV0z2nMr"
      },
      "source": [
        "%matplotlib inline"
      ],
      "execution_count": 126,
      "outputs": []
    },
    {
      "cell_type": "markdown",
      "metadata": {
        "id": "Chprzdhe2nMw"
      },
      "source": [
        "# Assignment 1\n",
        "\n",
        "**DUE: Sunday June 27 at 11:59pm**\n",
        "\n",
        "Turn in the assignment via Canvas.\n",
        "\n",
        "To write legible answers you will need to be familiar with both [Markdown](https://github.com/adam-p/markdown-here/wiki/Markdown-Cheatsheet) and [Latex](https://www.latex-tutorial.com/tutorials/amsmath/)\n",
        "\n",
        "Before you turn this problem in, make sure everything runs as expected. First, restart the kernel (in the menubar, select Runtime→→Restart runtime) and then run all cells (in the menubar, select Runtime→→Run All).\n",
        "\n",
        "Make sure you fill in any place that says \"YOUR CODE HERE\" or \"YOUR ANSWER HERE\", as well as your name below:"
      ]
    },
    {
      "cell_type": "code",
      "metadata": {
        "id": "8jeWubXE2nMx"
      },
      "source": [
        "NAME = \"Kevin Wang\"\n",
        "STUDENT_ID = \"1769263\""
      ],
      "execution_count": 127,
      "outputs": []
    },
    {
      "cell_type": "markdown",
      "metadata": {
        "id": "7hWGANrgdWdk"
      },
      "source": [
        "## Problem 1 - Discrete Probability\n"
      ]
    },
    {
      "cell_type": "markdown",
      "metadata": {
        "id": "v5FtL8JZdYeh"
      },
      "source": [
        "When playing football, Sammy the Slug ALWAYS scores between 0 to 4 goals. The discrete probability distribution for the number of goals scored in a match is given in the table below where **x** is the number of goals scored in a game and **P(x)** is the probability of scoring **x** points.\n",
        "\n",
        "| x      | P(x) |\n",
        "| ----------- | ----------- |\n",
        "| 0     | 0.01   |\n",
        "| 1     | 0.03   |\n",
        "| 2     | 0.21   |\n",
        "| 3     | 0.46   |\n",
        "| 4     | 0.26   |"
      ]
    },
    {
      "cell_type": "markdown",
      "metadata": {
        "id": "9heUpjFRek9C"
      },
      "source": [
        "### a) (1 point)\n",
        "\n",
        "What is the probability that Sammy Scores 1 point in a match? "
      ]
    },
    {
      "cell_type": "markdown",
      "metadata": {
        "id": "dwM2rh4ofqkE"
      },
      "source": [
        "$P(x=1) = 0.03$"
      ]
    },
    {
      "cell_type": "markdown",
      "metadata": {
        "id": "QdR6qrLCftTH"
      },
      "source": [
        "What is the probability that Sammy scores 4 points in a match?"
      ]
    },
    {
      "cell_type": "markdown",
      "metadata": {
        "id": "VJ7GDXOJfwGf"
      },
      "source": [
        "$P(x) = 0.26$"
      ]
    },
    {
      "cell_type": "markdown",
      "metadata": {
        "id": "zKendEfUey73"
      },
      "source": [
        "### b) (1 point)\n",
        "\n",
        "\n",
        "What is $P(1<x<4)$?"
      ]
    },
    {
      "cell_type": "markdown",
      "metadata": {
        "id": "2LCnzS6JfyMA"
      },
      "source": [
        "$P(1 < x < 4) = P(x = 2) + P(x = 3)\\\\\n",
        "= 0.21 + 0.46\\\\\n",
        "= 0.67$"
      ]
    },
    {
      "cell_type": "markdown",
      "metadata": {
        "id": "1YqmH5HTAAUF"
      },
      "source": [
        "### c) (3 points)"
      ]
    },
    {
      "cell_type": "markdown",
      "metadata": {
        "id": "CFSIqmecgFZ-"
      },
      "source": [
        "What is $P(1\\leq x \\leq 4)$?"
      ]
    },
    {
      "cell_type": "markdown",
      "metadata": {
        "id": "1NS7mSq-gGom"
      },
      "source": [
        "$P(1 < x < 4) = P(x = 1) + P(x = 2) + P(x = 3) + P(x = 4)\\\\\n",
        "= 0.03 + 0.21 + 0.46 + 0.26\\\\\n",
        "= 0.96$"
      ]
    },
    {
      "cell_type": "markdown",
      "metadata": {
        "id": "FsorH57-gB5M"
      },
      "source": [
        "### d) (3 points)\n",
        "\n",
        "What is the Expectation of this distribution?"
      ]
    },
    {
      "cell_type": "markdown",
      "metadata": {
        "id": "_nCfLpv8gWvI"
      },
      "source": [
        "$E(X) = P(x = 0)\\cdot 0 + P(x = 1)\\cdot 1 + P(x = 2)\\cdot 2 + P(x = 3)\\cdot 3 + P(x = 4)\\cdot 4\\\\\n",
        "= 0.01\\cdot 0 + 0.03\\cdot 1 + 0.21\\cdot 2 + 0.46\\cdot 3 + 0.26\\cdot 4\\\\\n",
        "= 0 + 0.03 + 0.42 + 1.38 + 1.04\\\\\n",
        "= 2.87$"
      ]
    },
    {
      "cell_type": "markdown",
      "metadata": {
        "id": "pWZveDLbgX3P"
      },
      "source": [
        "### e) (3 points)\n",
        "\n",
        "What is the variance of this distribution?"
      ]
    },
    {
      "cell_type": "markdown",
      "metadata": {
        "id": "5kpGqbtqgcEI"
      },
      "source": [
        "$\\mu = E(x) = 2.87\\\\\n",
        "\\mu^2 = 8.23\\\\\n",
        "E(X^2) = P(x = 0)\\cdot 0^2 + P(x = 1)\\cdot 1^2 + P(x = 2)\\cdot 2^2 + P(x = 3)\\cdot 3^2 + P(x = 4)\\cdot 4^2\\\\\n",
        "= 0 + 0.03 + 0.84 + 4.14 + 4.16\\\\\n",
        "= 9.17\\\\\n",
        "Var(X) = E(X^2) - \\mu^2 = 9.17 - 8.23 = 0.94$"
      ]
    },
    {
      "cell_type": "markdown",
      "metadata": {
        "id": "wC8thn7rlRQW"
      },
      "source": [
        "## Problem 2 - Continuous Probability\n",
        "\n",
        "Sammy the slug also participates on the UCSC swim team. The probability that Sammy the Slug completes the 400m swim in $x$ seconds is modeled by the probability density function:\n",
        "$$f(x)=0.019e^{-0.019x}$$\n",
        "for $0\\leq x\\leq \\infty$."
      ]
    },
    {
      "cell_type": "markdown",
      "metadata": {
        "id": "EugkCQrWmzSy"
      },
      "source": [
        "### a.) (4 points)\n",
        "\n",
        "what is the probability that Sammy the Slug finishes the 400m swim in 200 seconds or less (hint: what is $F(200)$)? \n"
      ]
    },
    {
      "cell_type": "markdown",
      "metadata": {
        "id": "2co2pjdlobCx"
      },
      "source": [
        "$P(t \\leq 200s) = \\int_0^{200} 0.019e^{-0.019x} \\,dx\\\\\n",
        "= 0.9776$"
      ]
    },
    {
      "cell_type": "markdown",
      "metadata": {
        "id": "FrJ1hKatYaiU"
      },
      "source": [
        "## Problem 3 -  Monte Carlo Simulation\n",
        "\n",
        "Monte Carlo simulations can yield numeric solutions to probability problems that aren't possible to solve analytically. These simulations are also often easy to code up, and so also provide a way to check one's calculations for problems that amenable to analysis. So this is an important technique to become familiar with.\n",
        "\n",
        "Basically, one creates a simulation of the situation, and runs many trials that allow one to estimate the probabilities by computing proportions. \n",
        "\n",
        "First we give you an example of a Monte Carlo simulation, and then you'll solve such a problem yourself.\n",
        "\n",
        "### Example\n",
        "\n",
        "If you toss a coin 10 times, with what probability are you likely to see the subsequence {H, H, T, T} appear?\n",
        "\n",
        "Be patient, this may take a bit to run, but notice how straightforward the coding is. The simplicity of the Monte Carlo method makes it very powerful."
      ]
    },
    {
      "cell_type": "code",
      "metadata": {
        "id": "vBn1ndB3oJxa",
        "colab": {
          "base_uri": "https://localhost:8080/"
        },
        "outputId": "9b5f6759-5ecf-48b1-911b-ec29f488d085"
      },
      "source": [
        "from numpy.random import randint\n",
        "import numpy as np\n",
        "\n",
        "num_tosses = 10    # tosses per trial\n",
        "num_trials = 100000\n",
        "\n",
        "# This sets the feedback interval so we know the program hasn't crashed.\n",
        "feedback = int(np.round(num_trials / 10))\n",
        "\n",
        "num_seq_found = 0   # to count the number of target subsequences detected\n",
        "for t in range(1, num_trials + 1):\n",
        "    \n",
        "    # To see the progress.\n",
        "    if t % feedback == 0:  \n",
        "        print(np.round(100 * t / num_trials, 1), '%  complete:   prob =', num_seq_found / t)\n",
        "        \n",
        "    # Roll the die num_tosses times.\n",
        "    trial = [randint(1, 3) for _ in range(num_tosses)]\n",
        "    # Find the indices of all the 1s.\n",
        "    heads = [i for i in range(num_tosses) if trial[i] == 1]\n",
        "    \n",
        "    # Search for the correct pattern.\n",
        "    for j in heads:\n",
        "        if j < num_tosses - 3 and trial[j] == 1 and trial[j + 1] == 1 and trial[j + 2] == 2 and trial[j + 3] == 2:\n",
        "            # We've found the target subsequence.\n",
        "            num_seq_found += 1\n",
        "    \n",
        "print('Probability of this subsequence =', num_seq_found / num_trials)"
      ],
      "execution_count": 128,
      "outputs": [
        {
          "output_type": "stream",
          "text": [
            "10.0 %  complete:   prob = 0.4424\n",
            "20.0 %  complete:   prob = 0.4357\n",
            "30.0 %  complete:   prob = 0.43566666666666665\n",
            "40.0 %  complete:   prob = 0.4362\n",
            "50.0 %  complete:   prob = 0.43746\n",
            "60.0 %  complete:   prob = 0.43798333333333334\n",
            "70.0 %  complete:   prob = 0.4377142857142857\n",
            "80.0 %  complete:   prob = 0.4373875\n",
            "90.0 %  complete:   prob = 0.4377\n",
            "100.0 %  complete:   prob = 0.43785\n",
            "Probability of this subsequence = 0.43785\n"
          ],
          "name": "stdout"
        }
      ]
    },
    {
      "cell_type": "markdown",
      "metadata": {
        "id": "IT-eRCtiYaib"
      },
      "source": [
        "### a) (6 points)\n",
        "\n",
        "Consider two dice: One fair and one unfair. The unfair die has a 50% chance to land on the 3 face, and even chance for the rest of the faces.\n",
        "\n",
        "Write code that rolls both dice and computes the sum.\n",
        "\n",
        "Do this many times, and give the mean of all the sums.  This will converge to the expected average sum of both randomly rolled dice. You may need to run this several times to be sure of your accuracy. You can check the correctness of your Monte Carlo Simulation by solving this problem analytically.\n",
        "\n",
        "Hint:\n",
        "\n",
        "https://docs.scipy.org/doc/numpy-1.14.0/reference/generated/numpy.random.choice.html"
      ]
    },
    {
      "cell_type": "code",
      "metadata": {
        "id": "H4GVkg25oJxd",
        "outputId": "334c8ec5-bc3d-4194-ecb7-46877042d95e",
        "colab": {
          "base_uri": "https://localhost:8080/"
        }
      },
      "source": [
        "import numpy as np\n",
        "from numpy.random import choice\n",
        "\n",
        "num_trials = 100000\n",
        "\n",
        "# YOUR CODE HERE\n",
        "\n",
        "mean_sum = None\n",
        "print('mean sum =', mean_sum)"
      ],
      "execution_count": 129,
      "outputs": [
        {
          "output_type": "stream",
          "text": [
            "mean sum = None\n"
          ],
          "name": "stdout"
        }
      ]
    },
    {
      "cell_type": "markdown",
      "metadata": {
        "id": "OuwF3Y2b2nN3"
      },
      "source": [
        "## Problem 4 - Heart Disease Dataset\n",
        "\n",
        "When a data scientist first encounters a new dataset, the first step is data exploration. The dataset we'll be using is derived from the Heart database from the UCI Machine Learning Repository."
      ]
    },
    {
      "cell_type": "code",
      "metadata": {
        "id": "QZJlh8ZH2nN4"
      },
      "source": [
        "# Useful libraries\n",
        "import numpy as np\n",
        "import pandas as pd\n",
        "import matplotlib.pyplot as plt\n",
        "import seaborn as sns"
      ],
      "execution_count": 130,
      "outputs": []
    },
    {
      "cell_type": "markdown",
      "metadata": {
        "id": "YLCeUi8K2ycm"
      },
      "source": [
        "### a) Read in the Data (4 points)\n",
        "This is much easier when you have the data on your own hard drive! Just run the next couple of code blocks. You'll have to paste your authorization code at one point...\n"
      ]
    },
    {
      "cell_type": "code",
      "metadata": {
        "id": "Xnm4IUVn2va9",
        "colab": {
          "base_uri": "https://localhost:8080/"
        },
        "outputId": "263128c6-5261-45f3-c800-be02d456bd49"
      },
      "source": [
        "!pip install PyDrive\n",
        "from pydrive.auth import GoogleAuth\n",
        "from pydrive.drive import GoogleDrive\n",
        "from google.colab import auth\n",
        "from oauth2client.client import GoogleCredentials"
      ],
      "execution_count": 131,
      "outputs": [
        {
          "output_type": "stream",
          "text": [
            "Requirement already satisfied: PyDrive in /usr/local/lib/python3.7/dist-packages (1.3.1)\n",
            "Requirement already satisfied: google-api-python-client>=1.2 in /usr/local/lib/python3.7/dist-packages (from PyDrive) (1.12.8)\n",
            "Requirement already satisfied: PyYAML>=3.0 in /usr/local/lib/python3.7/dist-packages (from PyDrive) (3.13)\n",
            "Requirement already satisfied: oauth2client>=4.0.0 in /usr/local/lib/python3.7/dist-packages (from PyDrive) (4.1.3)\n",
            "Requirement already satisfied: six<2dev,>=1.13.0 in /usr/local/lib/python3.7/dist-packages (from google-api-python-client>=1.2->PyDrive) (1.15.0)\n",
            "Requirement already satisfied: google-api-core<2dev,>=1.21.0 in /usr/local/lib/python3.7/dist-packages (from google-api-python-client>=1.2->PyDrive) (1.26.3)\n",
            "Requirement already satisfied: uritemplate<4dev,>=3.0.0 in /usr/local/lib/python3.7/dist-packages (from google-api-python-client>=1.2->PyDrive) (3.0.1)\n",
            "Requirement already satisfied: google-auth-httplib2>=0.0.3 in /usr/local/lib/python3.7/dist-packages (from google-api-python-client>=1.2->PyDrive) (0.0.4)\n",
            "Requirement already satisfied: httplib2<1dev,>=0.15.0 in /usr/local/lib/python3.7/dist-packages (from google-api-python-client>=1.2->PyDrive) (0.17.4)\n",
            "Requirement already satisfied: google-auth>=1.16.0 in /usr/local/lib/python3.7/dist-packages (from google-api-python-client>=1.2->PyDrive) (1.31.0)\n",
            "Requirement already satisfied: pyasn1>=0.1.7 in /usr/local/lib/python3.7/dist-packages (from oauth2client>=4.0.0->PyDrive) (0.4.8)\n",
            "Requirement already satisfied: pyasn1-modules>=0.0.5 in /usr/local/lib/python3.7/dist-packages (from oauth2client>=4.0.0->PyDrive) (0.2.8)\n",
            "Requirement already satisfied: rsa>=3.1.4 in /usr/local/lib/python3.7/dist-packages (from oauth2client>=4.0.0->PyDrive) (4.7.2)\n",
            "Requirement already satisfied: setuptools>=40.3.0 in /usr/local/lib/python3.7/dist-packages (from google-api-core<2dev,>=1.21.0->google-api-python-client>=1.2->PyDrive) (57.0.0)\n",
            "Requirement already satisfied: protobuf>=3.12.0 in /usr/local/lib/python3.7/dist-packages (from google-api-core<2dev,>=1.21.0->google-api-python-client>=1.2->PyDrive) (3.12.4)\n",
            "Requirement already satisfied: pytz in /usr/local/lib/python3.7/dist-packages (from google-api-core<2dev,>=1.21.0->google-api-python-client>=1.2->PyDrive) (2018.9)\n",
            "Requirement already satisfied: requests<3.0.0dev,>=2.18.0 in /usr/local/lib/python3.7/dist-packages (from google-api-core<2dev,>=1.21.0->google-api-python-client>=1.2->PyDrive) (2.23.0)\n",
            "Requirement already satisfied: googleapis-common-protos<2.0dev,>=1.6.0 in /usr/local/lib/python3.7/dist-packages (from google-api-core<2dev,>=1.21.0->google-api-python-client>=1.2->PyDrive) (1.53.0)\n",
            "Requirement already satisfied: packaging>=14.3 in /usr/local/lib/python3.7/dist-packages (from google-api-core<2dev,>=1.21.0->google-api-python-client>=1.2->PyDrive) (20.9)\n",
            "Requirement already satisfied: cachetools<5.0,>=2.0.0 in /usr/local/lib/python3.7/dist-packages (from google-auth>=1.16.0->google-api-python-client>=1.2->PyDrive) (4.2.2)\n",
            "Requirement already satisfied: chardet<4,>=3.0.2 in /usr/local/lib/python3.7/dist-packages (from requests<3.0.0dev,>=2.18.0->google-api-core<2dev,>=1.21.0->google-api-python-client>=1.2->PyDrive) (3.0.4)\n",
            "Requirement already satisfied: certifi>=2017.4.17 in /usr/local/lib/python3.7/dist-packages (from requests<3.0.0dev,>=2.18.0->google-api-core<2dev,>=1.21.0->google-api-python-client>=1.2->PyDrive) (2021.5.30)\n",
            "Requirement already satisfied: urllib3!=1.25.0,!=1.25.1,<1.26,>=1.21.1 in /usr/local/lib/python3.7/dist-packages (from requests<3.0.0dev,>=2.18.0->google-api-core<2dev,>=1.21.0->google-api-python-client>=1.2->PyDrive) (1.24.3)\n",
            "Requirement already satisfied: idna<3,>=2.5 in /usr/local/lib/python3.7/dist-packages (from requests<3.0.0dev,>=2.18.0->google-api-core<2dev,>=1.21.0->google-api-python-client>=1.2->PyDrive) (2.10)\n",
            "Requirement already satisfied: pyparsing>=2.0.2 in /usr/local/lib/python3.7/dist-packages (from packaging>=14.3->google-api-core<2dev,>=1.21.0->google-api-python-client>=1.2->PyDrive) (2.4.7)\n"
          ],
          "name": "stdout"
        }
      ]
    },
    {
      "cell_type": "code",
      "metadata": {
        "id": "osP9dVT02_m1"
      },
      "source": [
        "auth.authenticate_user()\n",
        "gauth = GoogleAuth()\n",
        "gauth.credentials = GoogleCredentials.get_application_default()\n",
        "drive = GoogleDrive(gauth)"
      ],
      "execution_count": 132,
      "outputs": []
    },
    {
      "cell_type": "code",
      "metadata": {
        "id": "rYrU50rO2nN6",
        "outputId": "23d73180-cd6f-4212-bcc7-213332bfcc9a",
        "colab": {
          "base_uri": "https://localhost:8080/"
        }
      },
      "source": [
        "downloaded = drive.CreateFile({'id':\"1qF_Ees7ETr5BiPnHTabyeIH1KQVkViUK\"})   # Replace the id with id of file you want to access\n",
        "downloaded.GetContentFile('Heart.csv')        # Replace the file name with your file\n",
        "\n",
        "# Finally we can actually read in the data.\n",
        "data = pd.read_csv('Heart.csv')\n",
        "\n",
        "# How many rows and columns are in this dataset?\n",
        "### YOUR CODE HERE ###\n",
        "print(len(data))\n",
        "print(len(data.columns))"
      ],
      "execution_count": 133,
      "outputs": [
        {
          "output_type": "stream",
          "text": [
            "306\n",
            "15\n"
          ],
          "name": "stdout"
        }
      ]
    },
    {
      "cell_type": "markdown",
      "metadata": {
        "id": "ugFGZQiI1bVr"
      },
      "source": [
        "Number of rows: 306\n",
        "\n",
        "Number of columns: 15"
      ]
    },
    {
      "cell_type": "markdown",
      "metadata": {
        "id": "tSuWlktS2nN9"
      },
      "source": [
        "### b) Understanding the Data (15 points)\n",
        "\n",
        "Look for a data description file whenever you explore a new dataset. This is a codebook (or text file) that tells you what each data item represents. The following is a data dictionary for this dataset, which is derived from one in the UCI Machine Learning Dataset Repository."
      ]
    },
    {
      "cell_type": "markdown",
      "metadata": {
        "id": "u6EthXyP2nN-"
      },
      "source": [
        "Age: The person's age in years\n",
        "\n",
        "Sex: The person's sex (1 = male, 0 = female)\n",
        "\n",
        "ChestPain: The chest pain experienced <br>\n",
        ".............typical angina  <br>\n",
        ".............atypical angina <br>\n",
        ".............non-anginal pain  <br>\n",
        ".............asymptomatic\n",
        "\n",
        "RestBP: The person's resting blood pressure (mm Hg on admission to the hospital)\n",
        "\n",
        "Chol: The person's cholesterol measurement in mg/dl\n",
        "\n",
        "Fbs: The person's fasting blood sugar (> 120 mg/dl, 1 = true; 0 = false)\n",
        "\n",
        "RestECG: Resting electrocardiographic measurement <br>\n",
        ".............0: normal <br>\n",
        ".............1: having ST-T wave abnormality <br>\n",
        ".............2: showing probable left ventricular hypertrophy by Estes' criteria\n",
        "\n",
        "MaxHR: The person's maximum heart rate achieved\n",
        "\n",
        "ExAng: Exercise induced angina (1 = yes; 0 = no)\n",
        "\n",
        "Oldpeak: ST depression induced by exercise relative to rest <br>\n",
        "..............('ST' relates to positions on the ECG plot.)\n",
        "\n",
        "Slope: the slope of the peak exercise ST segment <br>\n",
        "...........1: upsloping <br>\n",
        "...........2: flat <br>\n",
        "...........3: downsloping\n",
        "\n",
        "Ca: The number of major vessels (0-3)\n",
        "\n",
        "Thal: A blood disorder called thalassemia <br>\n",
        "...........normal <br>\n",
        "...........fixed <br>\n",
        "...........reversable\n",
        "\n",
        "AHD: Heart disease ('No', 'Yes') -  The target we would like to predict."
      ]
    },
    {
      "cell_type": "code",
      "metadata": {
        "id": "3OtUkDID2nN-",
        "outputId": "108d0f65-d63c-48eb-d861-88ba87f811b1",
        "colab": {
          "base_uri": "https://localhost:8080/",
          "height": 205
        }
      },
      "source": [
        "# Show the first few rows of the data.\n",
        "### YOUR CODE HERE ###\n",
        "data.head()"
      ],
      "execution_count": 134,
      "outputs": [
        {
          "output_type": "execute_result",
          "data": {
            "text/html": [
              "<div>\n",
              "<style scoped>\n",
              "    .dataframe tbody tr th:only-of-type {\n",
              "        vertical-align: middle;\n",
              "    }\n",
              "\n",
              "    .dataframe tbody tr th {\n",
              "        vertical-align: top;\n",
              "    }\n",
              "\n",
              "    .dataframe thead th {\n",
              "        text-align: right;\n",
              "    }\n",
              "</style>\n",
              "<table border=\"1\" class=\"dataframe\">\n",
              "  <thead>\n",
              "    <tr style=\"text-align: right;\">\n",
              "      <th></th>\n",
              "      <th>Unnamed: 0</th>\n",
              "      <th>Age</th>\n",
              "      <th>Sex</th>\n",
              "      <th>ChestPain</th>\n",
              "      <th>RestBP</th>\n",
              "      <th>Chol</th>\n",
              "      <th>Fbs</th>\n",
              "      <th>RestECG</th>\n",
              "      <th>MaxHR</th>\n",
              "      <th>ExAng</th>\n",
              "      <th>Oldpeak</th>\n",
              "      <th>Slope</th>\n",
              "      <th>Ca</th>\n",
              "      <th>Thal</th>\n",
              "      <th>AHD</th>\n",
              "    </tr>\n",
              "  </thead>\n",
              "  <tbody>\n",
              "    <tr>\n",
              "      <th>0</th>\n",
              "      <td>1</td>\n",
              "      <td>63</td>\n",
              "      <td>1</td>\n",
              "      <td>typical</td>\n",
              "      <td>145</td>\n",
              "      <td>233</td>\n",
              "      <td>1</td>\n",
              "      <td>2</td>\n",
              "      <td>150</td>\n",
              "      <td>0</td>\n",
              "      <td>2.3</td>\n",
              "      <td>3</td>\n",
              "      <td>0.0</td>\n",
              "      <td>fixed</td>\n",
              "      <td>No</td>\n",
              "    </tr>\n",
              "    <tr>\n",
              "      <th>1</th>\n",
              "      <td>2</td>\n",
              "      <td>67</td>\n",
              "      <td>1</td>\n",
              "      <td>asymptomatic</td>\n",
              "      <td>160</td>\n",
              "      <td>286</td>\n",
              "      <td>0</td>\n",
              "      <td>2</td>\n",
              "      <td>108</td>\n",
              "      <td>1</td>\n",
              "      <td>1.5</td>\n",
              "      <td>2</td>\n",
              "      <td>3.0</td>\n",
              "      <td>normal</td>\n",
              "      <td>Yes</td>\n",
              "    </tr>\n",
              "    <tr>\n",
              "      <th>2</th>\n",
              "      <td>3</td>\n",
              "      <td>67</td>\n",
              "      <td>1</td>\n",
              "      <td>asymptomatic</td>\n",
              "      <td>120</td>\n",
              "      <td>229</td>\n",
              "      <td>0</td>\n",
              "      <td>2</td>\n",
              "      <td>129</td>\n",
              "      <td>1</td>\n",
              "      <td>2.6</td>\n",
              "      <td>2</td>\n",
              "      <td>2.0</td>\n",
              "      <td>reversable</td>\n",
              "      <td>Yes</td>\n",
              "    </tr>\n",
              "    <tr>\n",
              "      <th>3</th>\n",
              "      <td>4</td>\n",
              "      <td>37</td>\n",
              "      <td>1</td>\n",
              "      <td>nonanginal</td>\n",
              "      <td>130</td>\n",
              "      <td>250</td>\n",
              "      <td>0</td>\n",
              "      <td>0</td>\n",
              "      <td>187</td>\n",
              "      <td>0</td>\n",
              "      <td>3.5</td>\n",
              "      <td>3</td>\n",
              "      <td>0.0</td>\n",
              "      <td>normal</td>\n",
              "      <td>No</td>\n",
              "    </tr>\n",
              "    <tr>\n",
              "      <th>4</th>\n",
              "      <td>5</td>\n",
              "      <td>41</td>\n",
              "      <td>0</td>\n",
              "      <td>nontypical</td>\n",
              "      <td>130</td>\n",
              "      <td>204</td>\n",
              "      <td>0</td>\n",
              "      <td>2</td>\n",
              "      <td>172</td>\n",
              "      <td>0</td>\n",
              "      <td>1.4</td>\n",
              "      <td>1</td>\n",
              "      <td>0.0</td>\n",
              "      <td>normal</td>\n",
              "      <td>No</td>\n",
              "    </tr>\n",
              "  </tbody>\n",
              "</table>\n",
              "</div>"
            ],
            "text/plain": [
              "   Unnamed: 0  Age  Sex     ChestPain  ...  Slope   Ca        Thal  AHD\n",
              "0           1   63    1       typical  ...      3  0.0       fixed   No\n",
              "1           2   67    1  asymptomatic  ...      2  3.0      normal  Yes\n",
              "2           3   67    1  asymptomatic  ...      2  2.0  reversable  Yes\n",
              "3           4   37    1    nonanginal  ...      3  0.0      normal   No\n",
              "4           5   41    0    nontypical  ...      1  0.0      normal   No\n",
              "\n",
              "[5 rows x 15 columns]"
            ]
          },
          "metadata": {
            "tags": []
          },
          "execution_count": 134
        }
      ]
    },
    {
      "cell_type": "code",
      "metadata": {
        "id": "C116JGsY2nOA",
        "outputId": "a5f30f62-cd99-49c9-d828-f8f0a04d23dc",
        "colab": {
          "base_uri": "https://localhost:8080/"
        }
      },
      "source": [
        "# Print out the \"info\" of the dataset.\n",
        "### YOUR CODE HERE ###\n",
        "data.info()"
      ],
      "execution_count": 135,
      "outputs": [
        {
          "output_type": "stream",
          "text": [
            "<class 'pandas.core.frame.DataFrame'>\n",
            "RangeIndex: 306 entries, 0 to 305\n",
            "Data columns (total 15 columns):\n",
            " #   Column      Non-Null Count  Dtype  \n",
            "---  ------      --------------  -----  \n",
            " 0   Unnamed: 0  306 non-null    int64  \n",
            " 1   Age         306 non-null    int64  \n",
            " 2   Sex         306 non-null    int64  \n",
            " 3   ChestPain   306 non-null    object \n",
            " 4   RestBP      306 non-null    int64  \n",
            " 5   Chol        306 non-null    int64  \n",
            " 6   Fbs         306 non-null    int64  \n",
            " 7   RestECG     306 non-null    int64  \n",
            " 8   MaxHR       306 non-null    int64  \n",
            " 9   ExAng       306 non-null    int64  \n",
            " 10  Oldpeak     306 non-null    float64\n",
            " 11  Slope       306 non-null    int64  \n",
            " 12  Ca          302 non-null    float64\n",
            " 13  Thal        304 non-null    object \n",
            " 14  AHD         306 non-null    object \n",
            "dtypes: float64(2), int64(10), object(3)\n",
            "memory usage: 36.0+ KB\n"
          ],
          "name": "stdout"
        }
      ]
    },
    {
      "cell_type": "markdown",
      "metadata": {
        "id": "5JRzQNLl2nOE"
      },
      "source": [
        "The above output can help you to see how much missing data is in the dataset. How many null values (missing values) exists in the data?"
      ]
    },
    {
      "cell_type": "markdown",
      "metadata": {
        "id": "n4bmW83H2O_D"
      },
      "source": [
        "4 from Ca and 2 from Thal, 6 in total"
      ]
    },
    {
      "cell_type": "markdown",
      "metadata": {
        "id": "K-m5AXWe2TWf"
      },
      "source": [
        "What to do about missing values is very good question. Sometimes one replaces such missing values with the mean of all the values that are present for this variable. But to keep things simple here we will simply delete any rows with missing data.\n",
        "\n",
        "Use the code cell below to drop null values from the data. [hint: you can use dropna() function]"
      ]
    },
    {
      "cell_type": "code",
      "metadata": {
        "id": "hOepmrOg2nOE"
      },
      "source": [
        "# Drop any rows with missing data\n",
        "### YOUR CODE HERE ###\n",
        "data = data.dropna()"
      ],
      "execution_count": 136,
      "outputs": []
    },
    {
      "cell_type": "markdown",
      "metadata": {
        "id": "FoLwru912nOH"
      },
      "source": [
        "Another useful Pandas dataframe method is describe(). The describe method gives summary statistics for each column, which can help you to identify outliers."
      ]
    },
    {
      "cell_type": "code",
      "metadata": {
        "id": "eU_RHFpE2nOI",
        "outputId": "c53082c7-788b-4495-8ff1-8ae3f083f20e",
        "colab": {
          "base_uri": "https://localhost:8080/",
          "height": 299
        }
      },
      "source": [
        "# The describe method of a Pandas dataframe yields much useful information.\n",
        "data.describe()"
      ],
      "execution_count": 137,
      "outputs": [
        {
          "output_type": "execute_result",
          "data": {
            "text/html": [
              "<div>\n",
              "<style scoped>\n",
              "    .dataframe tbody tr th:only-of-type {\n",
              "        vertical-align: middle;\n",
              "    }\n",
              "\n",
              "    .dataframe tbody tr th {\n",
              "        vertical-align: top;\n",
              "    }\n",
              "\n",
              "    .dataframe thead th {\n",
              "        text-align: right;\n",
              "    }\n",
              "</style>\n",
              "<table border=\"1\" class=\"dataframe\">\n",
              "  <thead>\n",
              "    <tr style=\"text-align: right;\">\n",
              "      <th></th>\n",
              "      <th>Unnamed: 0</th>\n",
              "      <th>Age</th>\n",
              "      <th>Sex</th>\n",
              "      <th>RestBP</th>\n",
              "      <th>Chol</th>\n",
              "      <th>Fbs</th>\n",
              "      <th>RestECG</th>\n",
              "      <th>MaxHR</th>\n",
              "      <th>ExAng</th>\n",
              "      <th>Oldpeak</th>\n",
              "      <th>Slope</th>\n",
              "      <th>Ca</th>\n",
              "    </tr>\n",
              "  </thead>\n",
              "  <tbody>\n",
              "    <tr>\n",
              "      <th>count</th>\n",
              "      <td>300.000000</td>\n",
              "      <td>300.000000</td>\n",
              "      <td>300.000000</td>\n",
              "      <td>300.000000</td>\n",
              "      <td>300.000000</td>\n",
              "      <td>300.000000</td>\n",
              "      <td>300.000000</td>\n",
              "      <td>300.000000</td>\n",
              "      <td>300.000000</td>\n",
              "      <td>300.000000</td>\n",
              "      <td>300.000000</td>\n",
              "      <td>300.000000</td>\n",
              "    </tr>\n",
              "    <tr>\n",
              "      <th>mean</th>\n",
              "      <td>152.216667</td>\n",
              "      <td>55.036667</td>\n",
              "      <td>0.676667</td>\n",
              "      <td>139.423333</td>\n",
              "      <td>247.073333</td>\n",
              "      <td>0.143333</td>\n",
              "      <td>0.993333</td>\n",
              "      <td>150.076667</td>\n",
              "      <td>0.326667</td>\n",
              "      <td>1.130333</td>\n",
              "      <td>1.610000</td>\n",
              "      <td>0.670000</td>\n",
              "    </tr>\n",
              "    <tr>\n",
              "      <th>std</th>\n",
              "      <td>88.235071</td>\n",
              "      <td>13.237299</td>\n",
              "      <td>0.468530</td>\n",
              "      <td>134.670429</td>\n",
              "      <td>52.367188</td>\n",
              "      <td>0.350998</td>\n",
              "      <td>0.994948</td>\n",
              "      <td>27.094362</td>\n",
              "      <td>0.469778</td>\n",
              "      <td>1.645887</td>\n",
              "      <td>0.621171</td>\n",
              "      <td>0.936674</td>\n",
              "    </tr>\n",
              "    <tr>\n",
              "      <th>min</th>\n",
              "      <td>1.000000</td>\n",
              "      <td>29.000000</td>\n",
              "      <td>0.000000</td>\n",
              "      <td>94.000000</td>\n",
              "      <td>126.000000</td>\n",
              "      <td>0.000000</td>\n",
              "      <td>0.000000</td>\n",
              "      <td>2.000000</td>\n",
              "      <td>0.000000</td>\n",
              "      <td>0.000000</td>\n",
              "      <td>1.000000</td>\n",
              "      <td>0.000000</td>\n",
              "    </tr>\n",
              "    <tr>\n",
              "      <th>25%</th>\n",
              "      <td>75.750000</td>\n",
              "      <td>47.750000</td>\n",
              "      <td>0.000000</td>\n",
              "      <td>120.000000</td>\n",
              "      <td>211.000000</td>\n",
              "      <td>0.000000</td>\n",
              "      <td>0.000000</td>\n",
              "      <td>132.750000</td>\n",
              "      <td>0.000000</td>\n",
              "      <td>0.000000</td>\n",
              "      <td>1.000000</td>\n",
              "      <td>0.000000</td>\n",
              "    </tr>\n",
              "    <tr>\n",
              "      <th>50%</th>\n",
              "      <td>151.500000</td>\n",
              "      <td>56.000000</td>\n",
              "      <td>1.000000</td>\n",
              "      <td>130.000000</td>\n",
              "      <td>242.500000</td>\n",
              "      <td>0.000000</td>\n",
              "      <td>1.000000</td>\n",
              "      <td>153.000000</td>\n",
              "      <td>0.000000</td>\n",
              "      <td>0.800000</td>\n",
              "      <td>2.000000</td>\n",
              "      <td>0.000000</td>\n",
              "    </tr>\n",
              "    <tr>\n",
              "      <th>75%</th>\n",
              "      <td>228.250000</td>\n",
              "      <td>61.000000</td>\n",
              "      <td>1.000000</td>\n",
              "      <td>140.000000</td>\n",
              "      <td>276.250000</td>\n",
              "      <td>0.000000</td>\n",
              "      <td>2.000000</td>\n",
              "      <td>166.250000</td>\n",
              "      <td>1.000000</td>\n",
              "      <td>1.800000</td>\n",
              "      <td>2.000000</td>\n",
              "      <td>1.000000</td>\n",
              "    </tr>\n",
              "    <tr>\n",
              "      <th>max</th>\n",
              "      <td>306.000000</td>\n",
              "      <td>222.000000</td>\n",
              "      <td>1.000000</td>\n",
              "      <td>2444.000000</td>\n",
              "      <td>564.000000</td>\n",
              "      <td>1.000000</td>\n",
              "      <td>2.000000</td>\n",
              "      <td>293.000000</td>\n",
              "      <td>1.000000</td>\n",
              "      <td>21.200000</td>\n",
              "      <td>3.000000</td>\n",
              "      <td>3.000000</td>\n",
              "    </tr>\n",
              "  </tbody>\n",
              "</table>\n",
              "</div>"
            ],
            "text/plain": [
              "       Unnamed: 0         Age         Sex  ...     Oldpeak       Slope          Ca\n",
              "count  300.000000  300.000000  300.000000  ...  300.000000  300.000000  300.000000\n",
              "mean   152.216667   55.036667    0.676667  ...    1.130333    1.610000    0.670000\n",
              "std     88.235071   13.237299    0.468530  ...    1.645887    0.621171    0.936674\n",
              "min      1.000000   29.000000    0.000000  ...    0.000000    1.000000    0.000000\n",
              "25%     75.750000   47.750000    0.000000  ...    0.000000    1.000000    0.000000\n",
              "50%    151.500000   56.000000    1.000000  ...    0.800000    2.000000    0.000000\n",
              "75%    228.250000   61.000000    1.000000  ...    1.800000    2.000000    1.000000\n",
              "max    306.000000  222.000000    1.000000  ...   21.200000    3.000000    3.000000\n",
              "\n",
              "[8 rows x 12 columns]"
            ]
          },
          "metadata": {
            "tags": []
          },
          "execution_count": 137
        }
      ]
    },
    {
      "cell_type": "markdown",
      "metadata": {
        "id": "jVnRhHh82nOK"
      },
      "source": [
        "Outliers are values far removed from the other data values, and are usually typos or other errors. Looking at the data description above, do you spot any possible outliers in the data?"
      ]
    },
    {
      "cell_type": "markdown",
      "metadata": {
        "id": "MV8k7xzv3Twl"
      },
      "source": [
        "Age, RestBP, Chol, MaxHR, Oldpeak"
      ]
    },
    {
      "cell_type": "markdown",
      "metadata": {
        "id": "czNvxv173JNh"
      },
      "source": [
        "### c) Outlier Detection \\& Elimination (8 points)\n",
        "In this section, We'll remove any ages that are more than 4 standard deviations from the mean.\n",
        "\n",
        "To accomplish this: \n",
        "\n",
        "1) You'll make a new column called AgeZ to hold the z-transformed values of the Age column. \n",
        "\n",
        "\n",
        "2) Then, any AgeZ value that's less than -4 or more than 4 should be flagged as an outlier. \n",
        "\n",
        "\n",
        "3) Remove those entries from the dataset.\n",
        "\n",
        "Remember that standardizing the data (or z-transform) is making your data have a zero mean and unit variance. This can be done with:\n",
        "\n",
        "$$x \\to_{stdize}  \\frac{x - \\mu}{\\sigma}$$\n",
        "Where $\\mu$ is your mean and $\\sigma$ is your standard deviation.\n"
      ]
    },
    {
      "cell_type": "code",
      "metadata": {
        "id": "LzKOPmvf2nOL",
        "outputId": "14bc2281-69db-4b77-8ab3-c275b30ff3c3",
        "colab": {
          "base_uri": "https://localhost:8080/",
          "height": 299
        }
      },
      "source": [
        "data['AgeZ'] = (data['Age'] - data['Age'].mean()) / data['Age'].std(ddof=0)\n",
        "\n",
        "# Delete any rows for which AgeZ is greater than 4 or less than -4.\n",
        "data = data.drop(data[(data['AgeZ'] > 4)].index)\n",
        "data = data.drop(data[(data['AgeZ'] < -4)].index)\n",
        "\n",
        "# Cleanup - delete the z-tranform column since we don't need it any more.\n",
        "data = data.drop(columns=['AgeZ'])\n",
        "\n",
        "# Let's take another look.\n",
        "data.describe()"
      ],
      "execution_count": 138,
      "outputs": [
        {
          "output_type": "execute_result",
          "data": {
            "text/html": [
              "<div>\n",
              "<style scoped>\n",
              "    .dataframe tbody tr th:only-of-type {\n",
              "        vertical-align: middle;\n",
              "    }\n",
              "\n",
              "    .dataframe tbody tr th {\n",
              "        vertical-align: top;\n",
              "    }\n",
              "\n",
              "    .dataframe thead th {\n",
              "        text-align: right;\n",
              "    }\n",
              "</style>\n",
              "<table border=\"1\" class=\"dataframe\">\n",
              "  <thead>\n",
              "    <tr style=\"text-align: right;\">\n",
              "      <th></th>\n",
              "      <th>Unnamed: 0</th>\n",
              "      <th>Age</th>\n",
              "      <th>Sex</th>\n",
              "      <th>RestBP</th>\n",
              "      <th>Chol</th>\n",
              "      <th>Fbs</th>\n",
              "      <th>RestECG</th>\n",
              "      <th>MaxHR</th>\n",
              "      <th>ExAng</th>\n",
              "      <th>Oldpeak</th>\n",
              "      <th>Slope</th>\n",
              "      <th>Ca</th>\n",
              "    </tr>\n",
              "  </thead>\n",
              "  <tbody>\n",
              "    <tr>\n",
              "      <th>count</th>\n",
              "      <td>299.000000</td>\n",
              "      <td>299.000000</td>\n",
              "      <td>299.000000</td>\n",
              "      <td>299.000000</td>\n",
              "      <td>299.000000</td>\n",
              "      <td>299.000000</td>\n",
              "      <td>299.000000</td>\n",
              "      <td>299.000000</td>\n",
              "      <td>299.000000</td>\n",
              "      <td>299.000000</td>\n",
              "      <td>299.000000</td>\n",
              "      <td>299.000000</td>\n",
              "    </tr>\n",
              "    <tr>\n",
              "      <th>mean</th>\n",
              "      <td>151.705686</td>\n",
              "      <td>54.478261</td>\n",
              "      <td>0.675585</td>\n",
              "      <td>139.387960</td>\n",
              "      <td>247.424749</td>\n",
              "      <td>0.143813</td>\n",
              "      <td>0.996656</td>\n",
              "      <td>150.571906</td>\n",
              "      <td>0.324415</td>\n",
              "      <td>1.124749</td>\n",
              "      <td>1.605351</td>\n",
              "      <td>0.672241</td>\n",
              "    </tr>\n",
              "    <tr>\n",
              "      <th>std</th>\n",
              "      <td>87.937251</td>\n",
              "      <td>9.052904</td>\n",
              "      <td>0.468941</td>\n",
              "      <td>134.894801</td>\n",
              "      <td>52.099449</td>\n",
              "      <td>0.351488</td>\n",
              "      <td>0.994948</td>\n",
              "      <td>25.743782</td>\n",
              "      <td>0.468941</td>\n",
              "      <td>1.645797</td>\n",
              "      <td>0.616962</td>\n",
              "      <td>0.937438</td>\n",
              "    </tr>\n",
              "    <tr>\n",
              "      <th>min</th>\n",
              "      <td>1.000000</td>\n",
              "      <td>29.000000</td>\n",
              "      <td>0.000000</td>\n",
              "      <td>94.000000</td>\n",
              "      <td>126.000000</td>\n",
              "      <td>0.000000</td>\n",
              "      <td>0.000000</td>\n",
              "      <td>71.000000</td>\n",
              "      <td>0.000000</td>\n",
              "      <td>0.000000</td>\n",
              "      <td>1.000000</td>\n",
              "      <td>0.000000</td>\n",
              "    </tr>\n",
              "    <tr>\n",
              "      <th>25%</th>\n",
              "      <td>75.500000</td>\n",
              "      <td>47.500000</td>\n",
              "      <td>0.000000</td>\n",
              "      <td>120.000000</td>\n",
              "      <td>211.000000</td>\n",
              "      <td>0.000000</td>\n",
              "      <td>0.000000</td>\n",
              "      <td>133.000000</td>\n",
              "      <td>0.000000</td>\n",
              "      <td>0.000000</td>\n",
              "      <td>1.000000</td>\n",
              "      <td>0.000000</td>\n",
              "    </tr>\n",
              "    <tr>\n",
              "      <th>50%</th>\n",
              "      <td>151.000000</td>\n",
              "      <td>56.000000</td>\n",
              "      <td>1.000000</td>\n",
              "      <td>130.000000</td>\n",
              "      <td>243.000000</td>\n",
              "      <td>0.000000</td>\n",
              "      <td>1.000000</td>\n",
              "      <td>153.000000</td>\n",
              "      <td>0.000000</td>\n",
              "      <td>0.800000</td>\n",
              "      <td>2.000000</td>\n",
              "      <td>0.000000</td>\n",
              "    </tr>\n",
              "    <tr>\n",
              "      <th>75%</th>\n",
              "      <td>227.500000</td>\n",
              "      <td>61.000000</td>\n",
              "      <td>1.000000</td>\n",
              "      <td>140.000000</td>\n",
              "      <td>276.500000</td>\n",
              "      <td>0.000000</td>\n",
              "      <td>2.000000</td>\n",
              "      <td>166.500000</td>\n",
              "      <td>1.000000</td>\n",
              "      <td>1.700000</td>\n",
              "      <td>2.000000</td>\n",
              "      <td>1.000000</td>\n",
              "    </tr>\n",
              "    <tr>\n",
              "      <th>max</th>\n",
              "      <td>306.000000</td>\n",
              "      <td>77.000000</td>\n",
              "      <td>1.000000</td>\n",
              "      <td>2444.000000</td>\n",
              "      <td>564.000000</td>\n",
              "      <td>1.000000</td>\n",
              "      <td>2.000000</td>\n",
              "      <td>293.000000</td>\n",
              "      <td>1.000000</td>\n",
              "      <td>21.200000</td>\n",
              "      <td>3.000000</td>\n",
              "      <td>3.000000</td>\n",
              "    </tr>\n",
              "  </tbody>\n",
              "</table>\n",
              "</div>"
            ],
            "text/plain": [
              "       Unnamed: 0         Age         Sex  ...     Oldpeak       Slope          Ca\n",
              "count  299.000000  299.000000  299.000000  ...  299.000000  299.000000  299.000000\n",
              "mean   151.705686   54.478261    0.675585  ...    1.124749    1.605351    0.672241\n",
              "std     87.937251    9.052904    0.468941  ...    1.645797    0.616962    0.937438\n",
              "min      1.000000   29.000000    0.000000  ...    0.000000    1.000000    0.000000\n",
              "25%     75.500000   47.500000    0.000000  ...    0.000000    1.000000    0.000000\n",
              "50%    151.000000   56.000000    1.000000  ...    0.800000    2.000000    0.000000\n",
              "75%    227.500000   61.000000    1.000000  ...    1.700000    2.000000    1.000000\n",
              "max    306.000000   77.000000    1.000000  ...   21.200000    3.000000    3.000000\n",
              "\n",
              "[8 rows x 12 columns]"
            ]
          },
          "metadata": {
            "tags": []
          },
          "execution_count": 138
        }
      ]
    },
    {
      "cell_type": "markdown",
      "metadata": {
        "id": "j4YIpqol2nON"
      },
      "source": [
        "Notice that now the Age column is much more reasonable.  "
      ]
    },
    {
      "cell_type": "markdown",
      "metadata": {
        "id": "CJvLHq_m2nOO"
      },
      "source": [
        "Perform the same process to eliminate any extreme outliers (more than 4 standard deviations away from the mean) for RestBP, MaxHR, and the Oldpeak variables. Delete those exta columns after you have removed the outliers."
      ]
    },
    {
      "cell_type": "code",
      "metadata": {
        "id": "jrizwTo22nOO",
        "outputId": "b7f3acd1-560a-4bfe-f1d1-09bd9c954dca",
        "colab": {
          "base_uri": "https://localhost:8080/",
          "height": 299
        }
      },
      "source": [
        "### YOUR CODE HERE ###\n",
        "for col in data:\n",
        "    if data[col].dtype != object:\n",
        "        data['Z-tran'] = (data[col] - data[col].mean()) / data[col].std(ddof=0)\n",
        "        data = data.drop(data[(data['Z-tran'] > 4)].index)\n",
        "        data = data.drop(data[(data['Z-tran'] < -4)].index)\n",
        "        data = data.drop(columns=['Z-tran'])\n",
        "\n",
        "# Leave this for your last line.\n",
        "data.describe()"
      ],
      "execution_count": 139,
      "outputs": [
        {
          "output_type": "execute_result",
          "data": {
            "text/html": [
              "<div>\n",
              "<style scoped>\n",
              "    .dataframe tbody tr th:only-of-type {\n",
              "        vertical-align: middle;\n",
              "    }\n",
              "\n",
              "    .dataframe tbody tr th {\n",
              "        vertical-align: top;\n",
              "    }\n",
              "\n",
              "    .dataframe thead th {\n",
              "        text-align: right;\n",
              "    }\n",
              "</style>\n",
              "<table border=\"1\" class=\"dataframe\">\n",
              "  <thead>\n",
              "    <tr style=\"text-align: right;\">\n",
              "      <th></th>\n",
              "      <th>Unnamed: 0</th>\n",
              "      <th>Age</th>\n",
              "      <th>Sex</th>\n",
              "      <th>RestBP</th>\n",
              "      <th>Chol</th>\n",
              "      <th>Fbs</th>\n",
              "      <th>RestECG</th>\n",
              "      <th>MaxHR</th>\n",
              "      <th>ExAng</th>\n",
              "      <th>Oldpeak</th>\n",
              "      <th>Slope</th>\n",
              "      <th>Ca</th>\n",
              "    </tr>\n",
              "  </thead>\n",
              "  <tbody>\n",
              "    <tr>\n",
              "      <th>count</th>\n",
              "      <td>294.000000</td>\n",
              "      <td>294.000000</td>\n",
              "      <td>294.000000</td>\n",
              "      <td>294.000000</td>\n",
              "      <td>294.000000</td>\n",
              "      <td>294.000000</td>\n",
              "      <td>294.000000</td>\n",
              "      <td>294.000000</td>\n",
              "      <td>294.000000</td>\n",
              "      <td>294.000000</td>\n",
              "      <td>294.000000</td>\n",
              "      <td>294.000000</td>\n",
              "    </tr>\n",
              "    <tr>\n",
              "      <th>mean</th>\n",
              "      <td>151.289116</td>\n",
              "      <td>54.489796</td>\n",
              "      <td>0.683673</td>\n",
              "      <td>131.693878</td>\n",
              "      <td>246.653061</td>\n",
              "      <td>0.146259</td>\n",
              "      <td>0.993197</td>\n",
              "      <td>149.551020</td>\n",
              "      <td>0.329932</td>\n",
              "      <td>1.034354</td>\n",
              "      <td>1.595238</td>\n",
              "      <td>0.673469</td>\n",
              "    </tr>\n",
              "    <tr>\n",
              "      <th>std</th>\n",
              "      <td>87.396988</td>\n",
              "      <td>9.052269</td>\n",
              "      <td>0.465835</td>\n",
              "      <td>17.736837</td>\n",
              "      <td>48.603312</td>\n",
              "      <td>0.353968</td>\n",
              "      <td>0.994844</td>\n",
              "      <td>23.043862</td>\n",
              "      <td>0.470990</td>\n",
              "      <td>1.131798</td>\n",
              "      <td>0.615037</td>\n",
              "      <td>0.932268</td>\n",
              "    </tr>\n",
              "    <tr>\n",
              "      <th>min</th>\n",
              "      <td>1.000000</td>\n",
              "      <td>29.000000</td>\n",
              "      <td>0.000000</td>\n",
              "      <td>94.000000</td>\n",
              "      <td>126.000000</td>\n",
              "      <td>0.000000</td>\n",
              "      <td>0.000000</td>\n",
              "      <td>71.000000</td>\n",
              "      <td>0.000000</td>\n",
              "      <td>0.000000</td>\n",
              "      <td>1.000000</td>\n",
              "      <td>0.000000</td>\n",
              "    </tr>\n",
              "    <tr>\n",
              "      <th>25%</th>\n",
              "      <td>75.250000</td>\n",
              "      <td>48.000000</td>\n",
              "      <td>0.000000</td>\n",
              "      <td>120.000000</td>\n",
              "      <td>211.250000</td>\n",
              "      <td>0.000000</td>\n",
              "      <td>0.000000</td>\n",
              "      <td>133.000000</td>\n",
              "      <td>0.000000</td>\n",
              "      <td>0.000000</td>\n",
              "      <td>1.000000</td>\n",
              "      <td>0.000000</td>\n",
              "    </tr>\n",
              "    <tr>\n",
              "      <th>50%</th>\n",
              "      <td>150.500000</td>\n",
              "      <td>56.000000</td>\n",
              "      <td>1.000000</td>\n",
              "      <td>130.000000</td>\n",
              "      <td>243.000000</td>\n",
              "      <td>0.000000</td>\n",
              "      <td>1.000000</td>\n",
              "      <td>152.500000</td>\n",
              "      <td>0.000000</td>\n",
              "      <td>0.800000</td>\n",
              "      <td>2.000000</td>\n",
              "      <td>0.000000</td>\n",
              "    </tr>\n",
              "    <tr>\n",
              "      <th>75%</th>\n",
              "      <td>226.750000</td>\n",
              "      <td>61.000000</td>\n",
              "      <td>1.000000</td>\n",
              "      <td>140.000000</td>\n",
              "      <td>275.750000</td>\n",
              "      <td>0.000000</td>\n",
              "      <td>2.000000</td>\n",
              "      <td>166.000000</td>\n",
              "      <td>1.000000</td>\n",
              "      <td>1.600000</td>\n",
              "      <td>2.000000</td>\n",
              "      <td>1.000000</td>\n",
              "    </tr>\n",
              "    <tr>\n",
              "      <th>max</th>\n",
              "      <td>302.000000</td>\n",
              "      <td>77.000000</td>\n",
              "      <td>1.000000</td>\n",
              "      <td>200.000000</td>\n",
              "      <td>417.000000</td>\n",
              "      <td>1.000000</td>\n",
              "      <td>2.000000</td>\n",
              "      <td>202.000000</td>\n",
              "      <td>1.000000</td>\n",
              "      <td>5.600000</td>\n",
              "      <td>3.000000</td>\n",
              "      <td>3.000000</td>\n",
              "    </tr>\n",
              "  </tbody>\n",
              "</table>\n",
              "</div>"
            ],
            "text/plain": [
              "       Unnamed: 0         Age         Sex  ...     Oldpeak       Slope          Ca\n",
              "count  294.000000  294.000000  294.000000  ...  294.000000  294.000000  294.000000\n",
              "mean   151.289116   54.489796    0.683673  ...    1.034354    1.595238    0.673469\n",
              "std     87.396988    9.052269    0.465835  ...    1.131798    0.615037    0.932268\n",
              "min      1.000000   29.000000    0.000000  ...    0.000000    1.000000    0.000000\n",
              "25%     75.250000   48.000000    0.000000  ...    0.000000    1.000000    0.000000\n",
              "50%    150.500000   56.000000    1.000000  ...    0.800000    2.000000    0.000000\n",
              "75%    226.750000   61.000000    1.000000  ...    1.600000    2.000000    1.000000\n",
              "max    302.000000   77.000000    1.000000  ...    5.600000    3.000000    3.000000\n",
              "\n",
              "[8 rows x 12 columns]"
            ]
          },
          "metadata": {
            "tags": []
          },
          "execution_count": 139
        }
      ]
    },
    {
      "cell_type": "markdown",
      "metadata": {
        "id": "kls093zf2nOR"
      },
      "source": [
        "### d) Data Visualization (8 points)\n",
        "\n",
        "Sometimes it's useful to look at a pairwise plot of all the variables. Below we do this for all but the first column. Be patient, this takes a minute to complete. Notice that the main diagonal has histogram plots for each variable, which gives you a sense of the distribution of values of each variable."
      ]
    },
    {
      "cell_type": "code",
      "metadata": {
        "id": "KadsSpNR2nOR"
      },
      "source": [
        "# Make a pairplot of all the variables (columns), excepting the first column.\n",
        "# plt.rcParams['figure.figsize'] = (15, 15)\n",
        "# sns.pairplot(data.drop(columns='Unnamed: 0'))"
      ],
      "execution_count": 140,
      "outputs": []
    },
    {
      "cell_type": "markdown",
      "metadata": {
        "id": "4PuRhYp32nOU"
      },
      "source": [
        "Let's look at a larger plot of the patient age distribution for the patients in this dataset."
      ]
    },
    {
      "cell_type": "code",
      "metadata": {
        "id": "eWpVLgZK2nOU",
        "outputId": "3cfacc8c-bbf4-4b99-bd2e-6355ed42b9e5",
        "colab": {
          "base_uri": "https://localhost:8080/",
          "height": 366
        }
      },
      "source": [
        "# Plot the patient age distribution.\n",
        "plt.rcParams['figure.figsize'] = (7, 4)\n",
        "sns.distplot(data['Age'])\n",
        "plt.title('Age Distribution')"
      ],
      "execution_count": 141,
      "outputs": [
        {
          "output_type": "stream",
          "text": [
            "/usr/local/lib/python3.7/dist-packages/seaborn/distributions.py:2557: FutureWarning: `distplot` is a deprecated function and will be removed in a future version. Please adapt your code to use either `displot` (a figure-level function with similar flexibility) or `histplot` (an axes-level function for histograms).\n",
            "  warnings.warn(msg, FutureWarning)\n"
          ],
          "name": "stderr"
        },
        {
          "output_type": "execute_result",
          "data": {
            "text/plain": [
              "Text(0.5, 1.0, 'Age Distribution')"
            ]
          },
          "metadata": {
            "tags": []
          },
          "execution_count": 141
        },
        {
          "output_type": "display_data",
          "data": {
            "image/png": "[encoded data removed]",
            "text/plain": [
              "<Figure size 504x288 with 1 Axes>"
            ]
          },
          "metadata": {
            "tags": [],
            "needs_background": "light"
          }
        }
      ]
    },
    {
      "cell_type": "markdown",
      "metadata": {
        "id": "iRAR3b_52nOX"
      },
      "source": [
        "Plot the distribution of patient cholesterol levels."
      ]
    },
    {
      "cell_type": "code",
      "metadata": {
        "id": "O2sCbr9z2nOY",
        "outputId": "5f75096b-5cf6-468e-fe7b-718ddd975148",
        "colab": {
          "base_uri": "https://localhost:8080/",
          "height": 366
        }
      },
      "source": [
        "### YOUR CODE HERE ###\n",
        "plt.rcParams['figure.figsize'] = (7, 4)\n",
        "sns.distplot(data['Chol'])\n",
        "plt.title('Cholesterol Level Distribution')"
      ],
      "execution_count": 142,
      "outputs": [
        {
          "output_type": "stream",
          "text": [
            "/usr/local/lib/python3.7/dist-packages/seaborn/distributions.py:2557: FutureWarning: `distplot` is a deprecated function and will be removed in a future version. Please adapt your code to use either `displot` (a figure-level function with similar flexibility) or `histplot` (an axes-level function for histograms).\n",
            "  warnings.warn(msg, FutureWarning)\n"
          ],
          "name": "stderr"
        },
        {
          "output_type": "execute_result",
          "data": {
            "text/plain": [
              "Text(0.5, 1.0, 'Cholesterol Level Distribution')"
            ]
          },
          "metadata": {
            "tags": []
          },
          "execution_count": 142
        },
        {
          "output_type": "display_data",
          "data": {
            "image/png": "[encoded data removed]",
            "text/plain": [
              "<Figure size 504x288 with 1 Axes>"
            ]
          },
          "metadata": {
            "tags": [],
            "needs_background": "light"
          }
        }
      ]
    },
    {
      "cell_type": "markdown",
      "metadata": {
        "id": "-QLPhTCq2nOa"
      },
      "source": [
        "### e) Data Normalization (8 points)\n",
        "\n",
        "We've already seen how the z-transform can be used to rescale values. We used this to help eliminate outliers, but such transforms can also be useful prior to applying machine learning algorithms, and often improves the algorithms performance. \n",
        "\n",
        "Another common transform is to map all the variable values into the interval $[0,1]$, via the transform:\n",
        "\n",
        "$$x \\to  \\frac{x - \\min}{\\max - \\min}$$\n",
        "\n",
        "Let's create a new column ('NewAge') mapping all ages into the interval $[0,1]$."
      ]
    },
    {
      "cell_type": "code",
      "metadata": {
        "id": "cEvlQDXm2nOb",
        "outputId": "3a6a435a-a8f4-4c57-e1e1-38bc8c4f34a8",
        "colab": {
          "base_uri": "https://localhost:8080/"
        }
      },
      "source": [
        "# Create a new column, NewAge, to hold the normalized Age variable.\n",
        "data['NewAge'] = (data['Age'] - data['Age'].min()) / (data['Age'].max() - data['Age'].min()) ### YOUR CODE HERE ###\n",
        "\n",
        "# Take a look at the new age column.\n",
        "data['NewAge']"
      ],
      "execution_count": 143,
      "outputs": [
        {
          "output_type": "execute_result",
          "data": {
            "text/plain": [
              "0      0.708333\n",
              "1      0.791667\n",
              "2      0.791667\n",
              "3      0.166667\n",
              "4      0.250000\n",
              "         ...   \n",
              "297    0.583333\n",
              "298    0.333333\n",
              "299    0.812500\n",
              "300    0.583333\n",
              "301    0.583333\n",
              "Name: NewAge, Length: 294, dtype: float64"
            ]
          },
          "metadata": {
            "tags": []
          },
          "execution_count": 143
        }
      ]
    },
    {
      "cell_type": "code",
      "metadata": {
        "id": "hvWHd-vZ2nOd"
      },
      "source": [
        "# We don't need this column, so we delete it. (It was just to show you how to do this.)\n",
        "data = data.drop(columns=['NewAge'])"
      ],
      "execution_count": 144,
      "outputs": []
    },
    {
      "cell_type": "markdown",
      "metadata": {
        "id": "gObPkanN2nOg"
      },
      "source": [
        "Map the minimum to 0 and maximum to 1 (in other words, normalize the column) for the RestBP, Chol, and MaxHR columns. Don't create new columns, just replace the existing ones with the transformed data."
      ]
    },
    {
      "cell_type": "code",
      "metadata": {
        "id": "MSjXg7Go2nOg",
        "outputId": "28b92371-a10e-4d4e-e495-e502aa987190",
        "colab": {
          "base_uri": "https://localhost:8080/",
          "height": 299
        }
      },
      "source": [
        "### YOUR CODE HERE ###\n",
        "for col in data:\n",
        "    if data[col].dtype != object:\n",
        "        data[col] = (data[col] - data[col].min()) / (data[col].max() - data[col].min())\n",
        "\n",
        "# Leave this for your last line.\n",
        "data.describe()"
      ],
      "execution_count": 145,
      "outputs": [
        {
          "output_type": "execute_result",
          "data": {
            "text/html": [
              "<div>\n",
              "<style scoped>\n",
              "    .dataframe tbody tr th:only-of-type {\n",
              "        vertical-align: middle;\n",
              "    }\n",
              "\n",
              "    .dataframe tbody tr th {\n",
              "        vertical-align: top;\n",
              "    }\n",
              "\n",
              "    .dataframe thead th {\n",
              "        text-align: right;\n",
              "    }\n",
              "</style>\n",
              "<table border=\"1\" class=\"dataframe\">\n",
              "  <thead>\n",
              "    <tr style=\"text-align: right;\">\n",
              "      <th></th>\n",
              "      <th>Unnamed: 0</th>\n",
              "      <th>Age</th>\n",
              "      <th>Sex</th>\n",
              "      <th>RestBP</th>\n",
              "      <th>Chol</th>\n",
              "      <th>Fbs</th>\n",
              "      <th>RestECG</th>\n",
              "      <th>MaxHR</th>\n",
              "      <th>ExAng</th>\n",
              "      <th>Oldpeak</th>\n",
              "      <th>Slope</th>\n",
              "      <th>Ca</th>\n",
              "    </tr>\n",
              "  </thead>\n",
              "  <tbody>\n",
              "    <tr>\n",
              "      <th>count</th>\n",
              "      <td>294.000000</td>\n",
              "      <td>294.000000</td>\n",
              "      <td>294.000000</td>\n",
              "      <td>294.000000</td>\n",
              "      <td>294.000000</td>\n",
              "      <td>294.000000</td>\n",
              "      <td>294.000000</td>\n",
              "      <td>294.000000</td>\n",
              "      <td>294.000000</td>\n",
              "      <td>294.000000</td>\n",
              "      <td>294.000000</td>\n",
              "      <td>294.000000</td>\n",
              "    </tr>\n",
              "    <tr>\n",
              "      <th>mean</th>\n",
              "      <td>0.499299</td>\n",
              "      <td>0.531037</td>\n",
              "      <td>0.683673</td>\n",
              "      <td>0.355603</td>\n",
              "      <td>0.414615</td>\n",
              "      <td>0.146259</td>\n",
              "      <td>0.496599</td>\n",
              "      <td>0.599626</td>\n",
              "      <td>0.329932</td>\n",
              "      <td>0.184706</td>\n",
              "      <td>0.297619</td>\n",
              "      <td>0.224490</td>\n",
              "    </tr>\n",
              "    <tr>\n",
              "      <th>std</th>\n",
              "      <td>0.290355</td>\n",
              "      <td>0.188589</td>\n",
              "      <td>0.465835</td>\n",
              "      <td>0.167329</td>\n",
              "      <td>0.167022</td>\n",
              "      <td>0.353968</td>\n",
              "      <td>0.497422</td>\n",
              "      <td>0.175907</td>\n",
              "      <td>0.470990</td>\n",
              "      <td>0.202107</td>\n",
              "      <td>0.307519</td>\n",
              "      <td>0.310756</td>\n",
              "    </tr>\n",
              "    <tr>\n",
              "      <th>min</th>\n",
              "      <td>0.000000</td>\n",
              "      <td>0.000000</td>\n",
              "      <td>0.000000</td>\n",
              "      <td>0.000000</td>\n",
              "      <td>0.000000</td>\n",
              "      <td>0.000000</td>\n",
              "      <td>0.000000</td>\n",
              "      <td>0.000000</td>\n",
              "      <td>0.000000</td>\n",
              "      <td>0.000000</td>\n",
              "      <td>0.000000</td>\n",
              "      <td>0.000000</td>\n",
              "    </tr>\n",
              "    <tr>\n",
              "      <th>25%</th>\n",
              "      <td>0.246678</td>\n",
              "      <td>0.395833</td>\n",
              "      <td>0.000000</td>\n",
              "      <td>0.245283</td>\n",
              "      <td>0.292955</td>\n",
              "      <td>0.000000</td>\n",
              "      <td>0.000000</td>\n",
              "      <td>0.473282</td>\n",
              "      <td>0.000000</td>\n",
              "      <td>0.000000</td>\n",
              "      <td>0.000000</td>\n",
              "      <td>0.000000</td>\n",
              "    </tr>\n",
              "    <tr>\n",
              "      <th>50%</th>\n",
              "      <td>0.496678</td>\n",
              "      <td>0.562500</td>\n",
              "      <td>1.000000</td>\n",
              "      <td>0.339623</td>\n",
              "      <td>0.402062</td>\n",
              "      <td>0.000000</td>\n",
              "      <td>0.500000</td>\n",
              "      <td>0.622137</td>\n",
              "      <td>0.000000</td>\n",
              "      <td>0.142857</td>\n",
              "      <td>0.500000</td>\n",
              "      <td>0.000000</td>\n",
              "    </tr>\n",
              "    <tr>\n",
              "      <th>75%</th>\n",
              "      <td>0.750000</td>\n",
              "      <td>0.666667</td>\n",
              "      <td>1.000000</td>\n",
              "      <td>0.433962</td>\n",
              "      <td>0.514605</td>\n",
              "      <td>0.000000</td>\n",
              "      <td>1.000000</td>\n",
              "      <td>0.725191</td>\n",
              "      <td>1.000000</td>\n",
              "      <td>0.285714</td>\n",
              "      <td>0.500000</td>\n",
              "      <td>0.333333</td>\n",
              "    </tr>\n",
              "    <tr>\n",
              "      <th>max</th>\n",
              "      <td>1.000000</td>\n",
              "      <td>1.000000</td>\n",
              "      <td>1.000000</td>\n",
              "      <td>1.000000</td>\n",
              "      <td>1.000000</td>\n",
              "      <td>1.000000</td>\n",
              "      <td>1.000000</td>\n",
              "      <td>1.000000</td>\n",
              "      <td>1.000000</td>\n",
              "      <td>1.000000</td>\n",
              "      <td>1.000000</td>\n",
              "      <td>1.000000</td>\n",
              "    </tr>\n",
              "  </tbody>\n",
              "</table>\n",
              "</div>"
            ],
            "text/plain": [
              "       Unnamed: 0         Age         Sex  ...     Oldpeak       Slope          Ca\n",
              "count  294.000000  294.000000  294.000000  ...  294.000000  294.000000  294.000000\n",
              "mean     0.499299    0.531037    0.683673  ...    0.184706    0.297619    0.224490\n",
              "std      0.290355    0.188589    0.465835  ...    0.202107    0.307519    0.310756\n",
              "min      0.000000    0.000000    0.000000  ...    0.000000    0.000000    0.000000\n",
              "25%      0.246678    0.395833    0.000000  ...    0.000000    0.000000    0.000000\n",
              "50%      0.496678    0.562500    1.000000  ...    0.142857    0.500000    0.000000\n",
              "75%      0.750000    0.666667    1.000000  ...    0.285714    0.500000    0.333333\n",
              "max      1.000000    1.000000    1.000000  ...    1.000000    1.000000    1.000000\n",
              "\n",
              "[8 rows x 12 columns]"
            ]
          },
          "metadata": {
            "tags": []
          },
          "execution_count": 145
        }
      ]
    },
    {
      "cell_type": "markdown",
      "metadata": {
        "id": "0PRmp0GI2nOi"
      },
      "source": [
        "### f) Converting Categorical Data to Numeric Values (6 points)\n",
        "\n",
        "It's frequently useful to convert categorical (non-numeric) values to numeric ones. The last variable in the data frame, AHD, has categorical values 'No' if the patient has no heart disease, and 'Yes' if they do. Convert these values to 0 for 'No' and 1 for 'Yes'."
      ]
    },
    {
      "cell_type": "code",
      "metadata": {
        "id": "A0vh80Yc2nOj",
        "outputId": "14f51065-9c53-4b35-bd86-25b5ec989759",
        "colab": {
          "base_uri": "https://localhost:8080/"
        }
      },
      "source": [
        "### YOUR CODE HERE ###\n",
        "data['AHD'] = data['AHD'].map({'Yes': 1, 'No': 0})\n",
        "print(data['AHD'])"
      ],
      "execution_count": 146,
      "outputs": [
        {
          "output_type": "stream",
          "text": [
            "0      0\n",
            "1      1\n",
            "2      1\n",
            "3      0\n",
            "4      0\n",
            "      ..\n",
            "297    1\n",
            "298    1\n",
            "299    1\n",
            "300    1\n",
            "301    1\n",
            "Name: AHD, Length: 294, dtype: int64\n"
          ],
          "name": "stdout"
        }
      ]
    },
    {
      "cell_type": "markdown",
      "metadata": {
        "id": "Zmj1yFJU2nOm"
      },
      "source": [
        "### g) One-Hot-Encoding (10 points)\n",
        "\n",
        "One-hot-encoding is another often used way of converting categorical data to numeric. For example, instead of the categories 'cold', 'warm', 'hot', we form a seperate column for each of these attributes, so that what was represented as 'cold' is now $[1,0,0]$ and what was 'hot' is now $[0,0,1]$.  There is a built in command for doing this in the sklearn package.\n",
        "\n",
        "Similar to what you've learned from the class exercise of lecture 2, add new columns for one-hot-encoding of 'Thal' column. Use 'Thal' as the prefix. Then drop the original column."
      ]
    },
    {
      "cell_type": "code",
      "metadata": {
        "id": "jiPkdXxE2nOo",
        "outputId": "2501c426-5a60-4772-8957-3a94a47bee32",
        "colab": {
          "base_uri": "https://localhost:8080/",
          "height": 485
        }
      },
      "source": [
        "# Concatentate new one-hot encodings with the original dataframe.\n",
        "from sklearn.preprocessing import OneHotEncoder\n",
        "encode = []\n",
        "data = pd.concat([data, OneHotEncoder().fit_transform().toarray()])### YOUR CODE HERE ###\n",
        "\n",
        "# now drop the original 'Thal' column (you don't need it anymore)\n",
        "data = data.drop(columns=['Thal'])\n",
        "### YOUR CODE HERE ###\n",
        "\n",
        "data.head()"
      ],
      "execution_count": 168,
      "outputs": [
        {
          "output_type": "stream",
          "text": [
            "/usr/local/lib/python3.7/dist-packages/numpy/core/_asarray.py:83: VisibleDeprecationWarning: Creating an ndarray from ragged nested sequences (which is a list-or-tuple of lists-or-tuples-or ndarrays with different lengths or shapes) is deprecated. If you meant to do this, you must specify 'dtype=object' when creating the ndarray\n",
            "  return array(a, dtype, copy=False, order=order)\n"
          ],
          "name": "stderr"
        },
        {
          "output_type": "error",
          "ename": "TypeError",
          "evalue": "ignored",
          "traceback": [
            "\u001b[0;31m---------------------------------------------------------------------------\u001b[0m",
            "\u001b[0;31mTypeError\u001b[0m                                 Traceback (most recent call last)",
            "\u001b[0;32m/usr/local/lib/python3.7/dist-packages/sklearn/preprocessing/_label.py\u001b[0m in \u001b[0;36m_encode\u001b[0;34m(values, uniques, encode, check_unknown)\u001b[0m\n\u001b[1;32m    111\u001b[0m         \u001b[0;32mtry\u001b[0m\u001b[0;34m:\u001b[0m\u001b[0;34m\u001b[0m\u001b[0;34m\u001b[0m\u001b[0m\n\u001b[0;32m--> 112\u001b[0;31m             \u001b[0mres\u001b[0m \u001b[0;34m=\u001b[0m \u001b[0m_encode_python\u001b[0m\u001b[0;34m(\u001b[0m\u001b[0mvalues\u001b[0m\u001b[0;34m,\u001b[0m \u001b[0muniques\u001b[0m\u001b[0;34m,\u001b[0m \u001b[0mencode\u001b[0m\u001b[0;34m)\u001b[0m\u001b[0;34m\u001b[0m\u001b[0;34m\u001b[0m\u001b[0m\n\u001b[0m\u001b[1;32m    113\u001b[0m         \u001b[0;32mexcept\u001b[0m \u001b[0mTypeError\u001b[0m\u001b[0;34m:\u001b[0m\u001b[0;34m\u001b[0m\u001b[0;34m\u001b[0m\u001b[0m\n",
            "\u001b[0;32m/usr/local/lib/python3.7/dist-packages/sklearn/preprocessing/_label.py\u001b[0m in \u001b[0;36m_encode_python\u001b[0;34m(values, uniques, encode)\u001b[0m\n\u001b[1;32m     59\u001b[0m     \u001b[0;32mif\u001b[0m \u001b[0muniques\u001b[0m \u001b[0;32mis\u001b[0m \u001b[0;32mNone\u001b[0m\u001b[0;34m:\u001b[0m\u001b[0;34m\u001b[0m\u001b[0;34m\u001b[0m\u001b[0m\n\u001b[0;32m---> 60\u001b[0;31m         \u001b[0muniques\u001b[0m \u001b[0;34m=\u001b[0m \u001b[0msorted\u001b[0m\u001b[0;34m(\u001b[0m\u001b[0mset\u001b[0m\u001b[0;34m(\u001b[0m\u001b[0mvalues\u001b[0m\u001b[0;34m)\u001b[0m\u001b[0;34m)\u001b[0m\u001b[0;34m\u001b[0m\u001b[0;34m\u001b[0m\u001b[0m\n\u001b[0m\u001b[1;32m     61\u001b[0m         \u001b[0muniques\u001b[0m \u001b[0;34m=\u001b[0m \u001b[0mnp\u001b[0m\u001b[0;34m.\u001b[0m\u001b[0marray\u001b[0m\u001b[0;34m(\u001b[0m\u001b[0muniques\u001b[0m\u001b[0;34m,\u001b[0m \u001b[0mdtype\u001b[0m\u001b[0;34m=\u001b[0m\u001b[0mvalues\u001b[0m\u001b[0;34m.\u001b[0m\u001b[0mdtype\u001b[0m\u001b[0;34m)\u001b[0m\u001b[0;34m\u001b[0m\u001b[0;34m\u001b[0m\u001b[0m\n",
            "\u001b[0;31mTypeError\u001b[0m: unhashable type: 'list'",
            "\nDuring handling of the above exception, another exception occurred:\n",
            "\u001b[0;31mTypeError\u001b[0m                                 Traceback (most recent call last)",
            "\u001b[0;32m<ipython-input-168-0a38d8d016ca>\u001b[0m in \u001b[0;36m<module>\u001b[0;34m()\u001b[0m\n\u001b[1;32m      1\u001b[0m \u001b[0;31m# Concatentate new one-hot encodings with the original dataframe.\u001b[0m\u001b[0;34m\u001b[0m\u001b[0;34m\u001b[0m\u001b[0;34m\u001b[0m\u001b[0m\n\u001b[1;32m      2\u001b[0m \u001b[0;32mfrom\u001b[0m \u001b[0msklearn\u001b[0m\u001b[0;34m.\u001b[0m\u001b[0mpreprocessing\u001b[0m \u001b[0;32mimport\u001b[0m \u001b[0mOneHotEncoder\u001b[0m\u001b[0;34m\u001b[0m\u001b[0;34m\u001b[0m\u001b[0m\n\u001b[0;32m----> 3\u001b[0;31m \u001b[0mdata\u001b[0m \u001b[0;34m=\u001b[0m \u001b[0mpd\u001b[0m\u001b[0;34m.\u001b[0m\u001b[0mconcat\u001b[0m\u001b[0;34m(\u001b[0m\u001b[0;34m[\u001b[0m\u001b[0mdata\u001b[0m\u001b[0;34m,\u001b[0m \u001b[0mOneHotEncoder\u001b[0m\u001b[0;34m(\u001b[0m\u001b[0;34m)\u001b[0m\u001b[0;34m.\u001b[0m\u001b[0mfit_transform\u001b[0m\u001b[0;34m(\u001b[0m\u001b[0;34m[\u001b[0m\u001b[0;34m[\u001b[0m\u001b[0;34m[\u001b[0m\u001b[0;36m1\u001b[0m\u001b[0;34m,\u001b[0m \u001b[0;36m0\u001b[0m\u001b[0;34m,\u001b[0m \u001b[0;36m0\u001b[0m\u001b[0;34m]\u001b[0m\u001b[0;34m,\u001b[0m \u001b[0;34m'cold'\u001b[0m\u001b[0;34m]\u001b[0m\u001b[0;34m,\u001b[0m \u001b[0;34m[\u001b[0m\u001b[0;34m[\u001b[0m\u001b[0;36m0\u001b[0m\u001b[0;34m,\u001b[0m \u001b[0;36m0\u001b[0m\u001b[0;34m,\u001b[0m \u001b[0;36m1\u001b[0m\u001b[0;34m]\u001b[0m\u001b[0;34m,\u001b[0m \u001b[0;34m'hot'\u001b[0m\u001b[0;34m]\u001b[0m\u001b[0;34m,\u001b[0m \u001b[0;34m[\u001b[0m\u001b[0;34m[\u001b[0m\u001b[0;36m0\u001b[0m\u001b[0;34m,\u001b[0m \u001b[0;36m1\u001b[0m\u001b[0;34m,\u001b[0m \u001b[0;36m0\u001b[0m\u001b[0;34m]\u001b[0m\u001b[0;34m,\u001b[0m \u001b[0;34m'warm'\u001b[0m\u001b[0;34m]\u001b[0m\u001b[0;34m]\u001b[0m\u001b[0;34m)\u001b[0m\u001b[0;34m.\u001b[0m\u001b[0mtoarray\u001b[0m\u001b[0;34m(\u001b[0m\u001b[0;34m)\u001b[0m\u001b[0;34m]\u001b[0m\u001b[0;34m)\u001b[0m\u001b[0;31m### YOUR CODE HERE ###\u001b[0m\u001b[0;34m\u001b[0m\u001b[0;34m\u001b[0m\u001b[0m\n\u001b[0m\u001b[1;32m      4\u001b[0m \u001b[0;34m\u001b[0m\u001b[0m\n\u001b[1;32m      5\u001b[0m \u001b[0;31m# now drop the original 'Thal' column (you don't need it anymore)\u001b[0m\u001b[0;34m\u001b[0m\u001b[0;34m\u001b[0m\u001b[0;34m\u001b[0m\u001b[0m\n",
            "\u001b[0;32m/usr/local/lib/python3.7/dist-packages/sklearn/preprocessing/_encoders.py\u001b[0m in \u001b[0;36mfit_transform\u001b[0;34m(self, X, y)\u001b[0m\n\u001b[1;32m    370\u001b[0m         \"\"\"\n\u001b[1;32m    371\u001b[0m         \u001b[0mself\u001b[0m\u001b[0;34m.\u001b[0m\u001b[0m_validate_keywords\u001b[0m\u001b[0;34m(\u001b[0m\u001b[0;34m)\u001b[0m\u001b[0;34m\u001b[0m\u001b[0;34m\u001b[0m\u001b[0m\n\u001b[0;32m--> 372\u001b[0;31m         \u001b[0;32mreturn\u001b[0m \u001b[0msuper\u001b[0m\u001b[0;34m(\u001b[0m\u001b[0;34m)\u001b[0m\u001b[0;34m.\u001b[0m\u001b[0mfit_transform\u001b[0m\u001b[0;34m(\u001b[0m\u001b[0mX\u001b[0m\u001b[0;34m,\u001b[0m \u001b[0my\u001b[0m\u001b[0;34m)\u001b[0m\u001b[0;34m\u001b[0m\u001b[0;34m\u001b[0m\u001b[0m\n\u001b[0m\u001b[1;32m    373\u001b[0m \u001b[0;34m\u001b[0m\u001b[0m\n\u001b[1;32m    374\u001b[0m     \u001b[0;32mdef\u001b[0m \u001b[0mtransform\u001b[0m\u001b[0;34m(\u001b[0m\u001b[0mself\u001b[0m\u001b[0;34m,\u001b[0m \u001b[0mX\u001b[0m\u001b[0;34m)\u001b[0m\u001b[0;34m:\u001b[0m\u001b[0;34m\u001b[0m\u001b[0;34m\u001b[0m\u001b[0m\n",
            "\u001b[0;32m/usr/local/lib/python3.7/dist-packages/sklearn/base.py\u001b[0m in \u001b[0;36mfit_transform\u001b[0;34m(self, X, y, **fit_params)\u001b[0m\n\u001b[1;32m    569\u001b[0m         \u001b[0;32mif\u001b[0m \u001b[0my\u001b[0m \u001b[0;32mis\u001b[0m \u001b[0;32mNone\u001b[0m\u001b[0;34m:\u001b[0m\u001b[0;34m\u001b[0m\u001b[0;34m\u001b[0m\u001b[0m\n\u001b[1;32m    570\u001b[0m             \u001b[0;31m# fit method of arity 1 (unsupervised transformation)\u001b[0m\u001b[0;34m\u001b[0m\u001b[0;34m\u001b[0m\u001b[0;34m\u001b[0m\u001b[0m\n\u001b[0;32m--> 571\u001b[0;31m             \u001b[0;32mreturn\u001b[0m \u001b[0mself\u001b[0m\u001b[0;34m.\u001b[0m\u001b[0mfit\u001b[0m\u001b[0;34m(\u001b[0m\u001b[0mX\u001b[0m\u001b[0;34m,\u001b[0m \u001b[0;34m**\u001b[0m\u001b[0mfit_params\u001b[0m\u001b[0;34m)\u001b[0m\u001b[0;34m.\u001b[0m\u001b[0mtransform\u001b[0m\u001b[0;34m(\u001b[0m\u001b[0mX\u001b[0m\u001b[0;34m)\u001b[0m\u001b[0;34m\u001b[0m\u001b[0;34m\u001b[0m\u001b[0m\n\u001b[0m\u001b[1;32m    572\u001b[0m         \u001b[0;32melse\u001b[0m\u001b[0;34m:\u001b[0m\u001b[0;34m\u001b[0m\u001b[0;34m\u001b[0m\u001b[0m\n\u001b[1;32m    573\u001b[0m             \u001b[0;31m# fit method of arity 2 (supervised transformation)\u001b[0m\u001b[0;34m\u001b[0m\u001b[0;34m\u001b[0m\u001b[0;34m\u001b[0m\u001b[0m\n",
            "\u001b[0;32m/usr/local/lib/python3.7/dist-packages/sklearn/preprocessing/_encoders.py\u001b[0m in \u001b[0;36mfit\u001b[0;34m(self, X, y)\u001b[0m\n\u001b[1;32m    345\u001b[0m         \"\"\"\n\u001b[1;32m    346\u001b[0m         \u001b[0mself\u001b[0m\u001b[0;34m.\u001b[0m\u001b[0m_validate_keywords\u001b[0m\u001b[0;34m(\u001b[0m\u001b[0;34m)\u001b[0m\u001b[0;34m\u001b[0m\u001b[0;34m\u001b[0m\u001b[0m\n\u001b[0;32m--> 347\u001b[0;31m         \u001b[0mself\u001b[0m\u001b[0;34m.\u001b[0m\u001b[0m_fit\u001b[0m\u001b[0;34m(\u001b[0m\u001b[0mX\u001b[0m\u001b[0;34m,\u001b[0m \u001b[0mhandle_unknown\u001b[0m\u001b[0;34m=\u001b[0m\u001b[0mself\u001b[0m\u001b[0;34m.\u001b[0m\u001b[0mhandle_unknown\u001b[0m\u001b[0;34m)\u001b[0m\u001b[0;34m\u001b[0m\u001b[0;34m\u001b[0m\u001b[0m\n\u001b[0m\u001b[1;32m    348\u001b[0m         \u001b[0mself\u001b[0m\u001b[0;34m.\u001b[0m\u001b[0mdrop_idx_\u001b[0m \u001b[0;34m=\u001b[0m \u001b[0mself\u001b[0m\u001b[0;34m.\u001b[0m\u001b[0m_compute_drop_idx\u001b[0m\u001b[0;34m(\u001b[0m\u001b[0;34m)\u001b[0m\u001b[0;34m\u001b[0m\u001b[0;34m\u001b[0m\u001b[0m\n\u001b[1;32m    349\u001b[0m         \u001b[0;32mreturn\u001b[0m \u001b[0mself\u001b[0m\u001b[0;34m\u001b[0m\u001b[0;34m\u001b[0m\u001b[0m\n",
            "\u001b[0;32m/usr/local/lib/python3.7/dist-packages/sklearn/preprocessing/_encoders.py\u001b[0m in \u001b[0;36m_fit\u001b[0;34m(self, X, handle_unknown)\u001b[0m\n\u001b[1;32m     84\u001b[0m             \u001b[0mXi\u001b[0m \u001b[0;34m=\u001b[0m \u001b[0mX_list\u001b[0m\u001b[0;34m[\u001b[0m\u001b[0mi\u001b[0m\u001b[0;34m]\u001b[0m\u001b[0;34m\u001b[0m\u001b[0;34m\u001b[0m\u001b[0m\n\u001b[1;32m     85\u001b[0m             \u001b[0;32mif\u001b[0m \u001b[0mself\u001b[0m\u001b[0;34m.\u001b[0m\u001b[0mcategories\u001b[0m \u001b[0;34m==\u001b[0m \u001b[0;34m'auto'\u001b[0m\u001b[0;34m:\u001b[0m\u001b[0;34m\u001b[0m\u001b[0;34m\u001b[0m\u001b[0m\n\u001b[0;32m---> 86\u001b[0;31m                 \u001b[0mcats\u001b[0m \u001b[0;34m=\u001b[0m \u001b[0m_encode\u001b[0m\u001b[0;34m(\u001b[0m\u001b[0mXi\u001b[0m\u001b[0;34m)\u001b[0m\u001b[0;34m\u001b[0m\u001b[0;34m\u001b[0m\u001b[0m\n\u001b[0m\u001b[1;32m     87\u001b[0m             \u001b[0;32melse\u001b[0m\u001b[0;34m:\u001b[0m\u001b[0;34m\u001b[0m\u001b[0;34m\u001b[0m\u001b[0m\n\u001b[1;32m     88\u001b[0m                 \u001b[0mcats\u001b[0m \u001b[0;34m=\u001b[0m \u001b[0mnp\u001b[0m\u001b[0;34m.\u001b[0m\u001b[0marray\u001b[0m\u001b[0;34m(\u001b[0m\u001b[0mself\u001b[0m\u001b[0;34m.\u001b[0m\u001b[0mcategories\u001b[0m\u001b[0;34m[\u001b[0m\u001b[0mi\u001b[0m\u001b[0;34m]\u001b[0m\u001b[0;34m,\u001b[0m \u001b[0mdtype\u001b[0m\u001b[0;34m=\u001b[0m\u001b[0mXi\u001b[0m\u001b[0;34m.\u001b[0m\u001b[0mdtype\u001b[0m\u001b[0;34m)\u001b[0m\u001b[0;34m\u001b[0m\u001b[0;34m\u001b[0m\u001b[0m\n",
            "\u001b[0;32m/usr/local/lib/python3.7/dist-packages/sklearn/preprocessing/_label.py\u001b[0m in \u001b[0;36m_encode\u001b[0;34m(values, uniques, encode, check_unknown)\u001b[0m\n\u001b[1;32m    112\u001b[0m             \u001b[0mres\u001b[0m \u001b[0;34m=\u001b[0m \u001b[0m_encode_python\u001b[0m\u001b[0;34m(\u001b[0m\u001b[0mvalues\u001b[0m\u001b[0;34m,\u001b[0m \u001b[0muniques\u001b[0m\u001b[0;34m,\u001b[0m \u001b[0mencode\u001b[0m\u001b[0;34m)\u001b[0m\u001b[0;34m\u001b[0m\u001b[0;34m\u001b[0m\u001b[0m\n\u001b[1;32m    113\u001b[0m         \u001b[0;32mexcept\u001b[0m \u001b[0mTypeError\u001b[0m\u001b[0;34m:\u001b[0m\u001b[0;34m\u001b[0m\u001b[0;34m\u001b[0m\u001b[0m\n\u001b[0;32m--> 114\u001b[0;31m             \u001b[0;32mraise\u001b[0m \u001b[0mTypeError\u001b[0m\u001b[0;34m(\u001b[0m\u001b[0;34m\"argument must be a string or number\"\u001b[0m\u001b[0;34m)\u001b[0m\u001b[0;34m\u001b[0m\u001b[0;34m\u001b[0m\u001b[0m\n\u001b[0m\u001b[1;32m    115\u001b[0m         \u001b[0;32mreturn\u001b[0m \u001b[0mres\u001b[0m\u001b[0;34m\u001b[0m\u001b[0;34m\u001b[0m\u001b[0m\n\u001b[1;32m    116\u001b[0m     \u001b[0;32melse\u001b[0m\u001b[0;34m:\u001b[0m\u001b[0;34m\u001b[0m\u001b[0;34m\u001b[0m\u001b[0m\n",
            "\u001b[0;31mTypeError\u001b[0m: argument must be a string or number"
          ]
        }
      ]
    },
    {
      "cell_type": "markdown",
      "metadata": {
        "id": "o-7xSpv62nOs"
      },
      "source": [
        "Create a one-hot-encoding for the ChestPain column, just as we did above for the Thal column, deleting the original column as before."
      ]
    },
    {
      "cell_type": "code",
      "metadata": {
        "id": "HH8kndAQ2nOs"
      },
      "source": [
        "### YOUR CODE HERE ###\n",
        "\n",
        "\n",
        "# Leave this for your last line.\n",
        "data.head()"
      ],
      "execution_count": null,
      "outputs": []
    },
    {
      "cell_type": "markdown",
      "metadata": {
        "id": "cGXRujgd2nOv"
      },
      "source": [
        "### h) Feature Engineering (10 points)\n",
        "\n",
        "Feature engineering is central to much of machine learning. Traditionally such features needed to be hand crafted, which is as much an art as it is engineering. One of the huge advantages of neural networks over traditional machine learning techniques is that neural networks can learn optimal features."
      ]
    },
    {
      "cell_type": "markdown",
      "metadata": {
        "id": "ekfL1tTH2nOv"
      },
      "source": [
        "Create a new column (feature) called AgeC, which will be the product of the patient's age and the patient's cholesterol level. "
      ]
    },
    {
      "cell_type": "code",
      "metadata": {
        "id": "DFJhzWT02nOv",
        "outputId": "b892f150-952c-4e11-996c-c2561210b9c4",
        "colab": {
          "base_uri": "https://localhost:8080/",
          "height": 205
        }
      },
      "source": [
        "### YOUR CODE HERE ###\n",
        "data['AgeC'] = data['Age'] * data['Chol']\n",
        "\n",
        "# Leave this for your last line.\n",
        "data.head()"
      ],
      "execution_count": 147,
      "outputs": [
        {
          "output_type": "execute_result",
          "data": {
            "text/html": [
              "<div>\n",
              "<style scoped>\n",
              "    .dataframe tbody tr th:only-of-type {\n",
              "        vertical-align: middle;\n",
              "    }\n",
              "\n",
              "    .dataframe tbody tr th {\n",
              "        vertical-align: top;\n",
              "    }\n",
              "\n",
              "    .dataframe thead th {\n",
              "        text-align: right;\n",
              "    }\n",
              "</style>\n",
              "<table border=\"1\" class=\"dataframe\">\n",
              "  <thead>\n",
              "    <tr style=\"text-align: right;\">\n",
              "      <th></th>\n",
              "      <th>Unnamed: 0</th>\n",
              "      <th>Age</th>\n",
              "      <th>Sex</th>\n",
              "      <th>ChestPain</th>\n",
              "      <th>RestBP</th>\n",
              "      <th>Chol</th>\n",
              "      <th>Fbs</th>\n",
              "      <th>RestECG</th>\n",
              "      <th>MaxHR</th>\n",
              "      <th>ExAng</th>\n",
              "      <th>Oldpeak</th>\n",
              "      <th>Slope</th>\n",
              "      <th>Ca</th>\n",
              "      <th>Thal</th>\n",
              "      <th>AHD</th>\n",
              "      <th>AgeC</th>\n",
              "    </tr>\n",
              "  </thead>\n",
              "  <tbody>\n",
              "    <tr>\n",
              "      <th>0</th>\n",
              "      <td>0.000000</td>\n",
              "      <td>0.708333</td>\n",
              "      <td>1.0</td>\n",
              "      <td>typical</td>\n",
              "      <td>0.481132</td>\n",
              "      <td>0.367698</td>\n",
              "      <td>1.0</td>\n",
              "      <td>1.0</td>\n",
              "      <td>0.603053</td>\n",
              "      <td>0.0</td>\n",
              "      <td>0.410714</td>\n",
              "      <td>1.0</td>\n",
              "      <td>0.000000</td>\n",
              "      <td>fixed</td>\n",
              "      <td>0</td>\n",
              "      <td>0.260452</td>\n",
              "    </tr>\n",
              "    <tr>\n",
              "      <th>1</th>\n",
              "      <td>0.003322</td>\n",
              "      <td>0.791667</td>\n",
              "      <td>1.0</td>\n",
              "      <td>asymptomatic</td>\n",
              "      <td>0.622642</td>\n",
              "      <td>0.549828</td>\n",
              "      <td>0.0</td>\n",
              "      <td>1.0</td>\n",
              "      <td>0.282443</td>\n",
              "      <td>1.0</td>\n",
              "      <td>0.267857</td>\n",
              "      <td>0.5</td>\n",
              "      <td>1.000000</td>\n",
              "      <td>normal</td>\n",
              "      <td>1</td>\n",
              "      <td>0.435281</td>\n",
              "    </tr>\n",
              "    <tr>\n",
              "      <th>2</th>\n",
              "      <td>0.006645</td>\n",
              "      <td>0.791667</td>\n",
              "      <td>1.0</td>\n",
              "      <td>asymptomatic</td>\n",
              "      <td>0.245283</td>\n",
              "      <td>0.353952</td>\n",
              "      <td>0.0</td>\n",
              "      <td>1.0</td>\n",
              "      <td>0.442748</td>\n",
              "      <td>1.0</td>\n",
              "      <td>0.464286</td>\n",
              "      <td>0.5</td>\n",
              "      <td>0.666667</td>\n",
              "      <td>reversable</td>\n",
              "      <td>1</td>\n",
              "      <td>0.280212</td>\n",
              "    </tr>\n",
              "    <tr>\n",
              "      <th>3</th>\n",
              "      <td>0.009967</td>\n",
              "      <td>0.166667</td>\n",
              "      <td>1.0</td>\n",
              "      <td>nonanginal</td>\n",
              "      <td>0.339623</td>\n",
              "      <td>0.426117</td>\n",
              "      <td>0.0</td>\n",
              "      <td>0.0</td>\n",
              "      <td>0.885496</td>\n",
              "      <td>0.0</td>\n",
              "      <td>0.625000</td>\n",
              "      <td>1.0</td>\n",
              "      <td>0.000000</td>\n",
              "      <td>normal</td>\n",
              "      <td>0</td>\n",
              "      <td>0.071019</td>\n",
              "    </tr>\n",
              "    <tr>\n",
              "      <th>4</th>\n",
              "      <td>0.013289</td>\n",
              "      <td>0.250000</td>\n",
              "      <td>0.0</td>\n",
              "      <td>nontypical</td>\n",
              "      <td>0.339623</td>\n",
              "      <td>0.268041</td>\n",
              "      <td>0.0</td>\n",
              "      <td>1.0</td>\n",
              "      <td>0.770992</td>\n",
              "      <td>0.0</td>\n",
              "      <td>0.250000</td>\n",
              "      <td>0.0</td>\n",
              "      <td>0.000000</td>\n",
              "      <td>normal</td>\n",
              "      <td>0</td>\n",
              "      <td>0.067010</td>\n",
              "    </tr>\n",
              "  </tbody>\n",
              "</table>\n",
              "</div>"
            ],
            "text/plain": [
              "   Unnamed: 0       Age  Sex     ChestPain  ...        Ca        Thal  AHD      AgeC\n",
              "0    0.000000  0.708333  1.0       typical  ...  0.000000       fixed    0  0.260452\n",
              "1    0.003322  0.791667  1.0  asymptomatic  ...  1.000000      normal    1  0.435281\n",
              "2    0.006645  0.791667  1.0  asymptomatic  ...  0.666667  reversable    1  0.280212\n",
              "3    0.009967  0.166667  1.0    nonanginal  ...  0.000000      normal    0  0.071019\n",
              "4    0.013289  0.250000  0.0    nontypical  ...  0.000000      normal    0  0.067010\n",
              "\n",
              "[5 rows x 16 columns]"
            ]
          },
          "metadata": {
            "tags": []
          },
          "execution_count": 147
        }
      ]
    },
    {
      "cell_type": "markdown",
      "metadata": {
        "id": "JNeMdC4D2nOx"
      },
      "source": [
        "###  i) Balanced or Unbalanced Classes (10 points)\n",
        "\n",
        "For this dataset, one variable that we might like to predict is the presence of heart disease, the AHD column, using all the other columns. Some datasets are highly imbalanced.  Suppose that 95% of a set of subjects were healthy, with only 5% having heart disease. A machine learning model can attain 95% accuracy by simply ALWAYS predicting no heart disease. It sounds like a fairly accurate model, but it would miss predicting any heart disease! \n",
        "\n",
        "There are techniques for dealing with this, but first we have to ascertain if our data is unbalanced. Use the code cell below to see if the data is imbalanced or not and describe your observations in the next text cell"
      ]
    },
    {
      "cell_type": "code",
      "metadata": {
        "id": "J8Ie6nAf2nOy",
        "outputId": "f87b5227-6192-4838-8ff1-647c05e6ee7f",
        "colab": {
          "base_uri": "https://localhost:8080/",
          "height": 435
        }
      },
      "source": [
        "### YOUR CODE HERE ###\n",
        "zeros = (data['AHD'] == 0).astype(int).sum()\n",
        "print('num of 0s: ', zeros)\n",
        "print((zeros / 294 * 100), '% are No')\n",
        "ones = (data['AHD'] == 1).astype(int).sum()\n",
        "print('num of 1s: ', ones)\n",
        "print((ones / 294 * 100), '% are Yes')\n",
        "plt.rcParams['figure.figsize'] = (7, 4)\n",
        "sns.distplot(data['AHD'])\n",
        "plt.title('AHD Distribution')"
      ],
      "execution_count": 161,
      "outputs": [
        {
          "output_type": "stream",
          "text": [
            "num of 0s:  158\n",
            "53.74149659863946 % are No\n",
            "num of 1s:  136\n",
            "46.25850340136054 % are Yes\n"
          ],
          "name": "stdout"
        },
        {
          "output_type": "stream",
          "text": [
            "/usr/local/lib/python3.7/dist-packages/seaborn/distributions.py:2557: FutureWarning: `distplot` is a deprecated function and will be removed in a future version. Please adapt your code to use either `displot` (a figure-level function with similar flexibility) or `histplot` (an axes-level function for histograms).\n",
            "  warnings.warn(msg, FutureWarning)\n"
          ],
          "name": "stderr"
        },
        {
          "output_type": "execute_result",
          "data": {
            "text/plain": [
              "Text(0.5, 1.0, 'AHD Distribution')"
            ]
          },
          "metadata": {
            "tags": []
          },
          "execution_count": 161
        },
        {
          "output_type": "display_data",
          "data": {
            "image/png": "[encoded data removed]",
            "text/plain": [
              "<Figure size 504x288 with 1 Axes>"
            ]
          },
          "metadata": {
            "tags": [],
            "needs_background": "light"
          }
        }
      ]
    },
    {
      "cell_type": "markdown",
      "metadata": {
        "id": "jCOv0vYf2nO0"
      },
      "source": [
        "This data is balanced because the percentage of Yes and No are relatively close."
      ]
    }
  ]
}