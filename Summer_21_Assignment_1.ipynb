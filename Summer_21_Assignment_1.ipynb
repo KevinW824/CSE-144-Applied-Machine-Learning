{
  "nbformat": 4,
  "nbformat_minor": 0,
  "metadata": {
    "colab": {
      "name": "Summer_21_Assignment_1.ipynb",
      "provenance": [],
      "include_colab_link": true
    },
    "kernelspec": {
      "name": "python3",
      "display_name": "Python 3"
    }
  },
  "cells": [
    {
      "cell_type": "markdown",
      "metadata": {
        "id": "view-in-github",
        "colab_type": "text"
      },
      "source": [
        "<a href=\"https://colab.research.google.com/github/KevinW824/CSE-144-Applied-Machine-Learning/blob/main/Summer_21_Assignment_1.ipynb\" target=\"_parent\"><img src=\"https://colab.research.google.com/assets/colab-badge.svg\" alt=\"Open In Colab\"/></a>"
      ]
    },
    {
      "cell_type": "code",
      "metadata": {
        "id": "2IlwhV0z2nMr"
      },
      "source": [
        "%matplotlib inline"
      ],
      "execution_count": 2,
      "outputs": []
    },
    {
      "cell_type": "markdown",
      "metadata": {
        "id": "Chprzdhe2nMw"
      },
      "source": [
        "# Assignment 1\n",
        "\n",
        "**DUE: Sunday June 27 at 11:59pm**\n",
        "\n",
        "Turn in the assignment via Canvas.\n",
        "\n",
        "To write legible answers you will need to be familiar with both [Markdown](https://github.com/adam-p/markdown-here/wiki/Markdown-Cheatsheet) and [Latex](https://www.latex-tutorial.com/tutorials/amsmath/)\n",
        "\n",
        "Before you turn this problem in, make sure everything runs as expected. First, restart the kernel (in the menubar, select Runtime→→Restart runtime) and then run all cells (in the menubar, select Runtime→→Run All).\n",
        "\n",
        "Make sure you fill in any place that says \"YOUR CODE HERE\" or \"YOUR ANSWER HERE\", as well as your name below:"
      ]
    },
    {
      "cell_type": "code",
      "metadata": {
        "id": "8jeWubXE2nMx"
      },
      "source": [
        "NAME = \"Kevin Wang\"\n",
        "STUDENT_ID = \"1769263\""
      ],
      "execution_count": 3,
      "outputs": []
    },
    {
      "cell_type": "markdown",
      "metadata": {
        "id": "7hWGANrgdWdk"
      },
      "source": [
        "## Problem 1 - Discrete Probability\n"
      ]
    },
    {
      "cell_type": "markdown",
      "metadata": {
        "id": "v5FtL8JZdYeh"
      },
      "source": [
        "When playing football, Sammy the Slug ALWAYS scores between 0 to 4 goals. The discrete probability distribution for the number of goals scored in a match is given in the table below where **x** is the number of goals scored in a game and **P(x)** is the probability of scoring **x** points.\n",
        "\n",
        "| x      | P(x) |\n",
        "| ----------- | ----------- |\n",
        "| 0     | 0.01   |\n",
        "| 1     | 0.03   |\n",
        "| 2     | 0.21   |\n",
        "| 3     | 0.46   |\n",
        "| 4     | 0.26   |"
      ]
    },
    {
      "cell_type": "markdown",
      "metadata": {
        "id": "9heUpjFRek9C"
      },
      "source": [
        "### a) (1 point)\n",
        "\n",
        "What is the probability that Sammy Scores 1 point in a match? "
      ]
    },
    {
      "cell_type": "markdown",
      "metadata": {
        "id": "dwM2rh4ofqkE"
      },
      "source": [
        "$P(x=1) = 0.03$"
      ]
    },
    {
      "cell_type": "markdown",
      "metadata": {
        "id": "QdR6qrLCftTH"
      },
      "source": [
        "What is the probability that Sammy scores 4 points in a match?"
      ]
    },
    {
      "cell_type": "markdown",
      "metadata": {
        "id": "VJ7GDXOJfwGf"
      },
      "source": [
        "$P(x) = 0.26$"
      ]
    },
    {
      "cell_type": "markdown",
      "metadata": {
        "id": "zKendEfUey73"
      },
      "source": [
        "### b) (1 point)\n",
        "\n",
        "\n",
        "What is $P(1<x<4)$?"
      ]
    },
    {
      "cell_type": "markdown",
      "metadata": {
        "id": "2LCnzS6JfyMA"
      },
      "source": [
        "$P(1 < x < 4) = P(x = 2) + P(x = 3)\\\\\n",
        "= 0.21 + 0.46\\\\\n",
        "= 0.67$"
      ]
    },
    {
      "cell_type": "markdown",
      "metadata": {
        "id": "1YqmH5HTAAUF"
      },
      "source": [
        "### c) (3 points)"
      ]
    },
    {
      "cell_type": "markdown",
      "metadata": {
        "id": "CFSIqmecgFZ-"
      },
      "source": [
        "What is $P(1\\leq x \\leq 4)$?"
      ]
    },
    {
      "cell_type": "markdown",
      "metadata": {
        "id": "1NS7mSq-gGom"
      },
      "source": [
        "$P(1 < x < 4) = P(x = 1) + P(x = 2) + P(x = 3) + P(x = 4)\\\\\n",
        "= 0.03 + 0.21 + 0.46 + 0.26\\\\\n",
        "= 0.96$"
      ]
    },
    {
      "cell_type": "markdown",
      "metadata": {
        "id": "FsorH57-gB5M"
      },
      "source": [
        "### d) (3 points)\n",
        "\n",
        "What is the Expectation of this distribution?"
      ]
    },
    {
      "cell_type": "markdown",
      "metadata": {
        "id": "_nCfLpv8gWvI"
      },
      "source": [
        "$E(X) = P(x = 0)\\cdot 0 + P(x = 1)\\cdot 1 + P(x = 2)\\cdot 2 + P(x = 3)\\cdot 3 + P(x = 4)\\cdot 4\\\\\n",
        "= 0.01\\cdot 0 + 0.03\\cdot 1 + 0.21\\cdot 2 + 0.46\\cdot 3 + 0.26\\cdot 4\\\\\n",
        "= 0 + 0.03 + 0.42 + 1.38 + 1.04\\\\\n",
        "= 2.87$"
      ]
    },
    {
      "cell_type": "markdown",
      "metadata": {
        "id": "pWZveDLbgX3P"
      },
      "source": [
        "### e) (3 points)\n",
        "\n",
        "What is the variance of this distribution?"
      ]
    },
    {
      "cell_type": "markdown",
      "metadata": {
        "id": "5kpGqbtqgcEI"
      },
      "source": [
        "$\\mu = E(x) = 2.87\\\\\n",
        "\\mu^2 = 8.23\\\\\n",
        "E(X^2) = P(x = 0)\\cdot 0^2 + P(x = 1)\\cdot 1^2 + P(x = 2)\\cdot 2^2 + P(x = 3)\\cdot 3^2 + P(x = 4)\\cdot 4^2\\\\\n",
        "= 0 + 0.03 + 0.84 + 4.14 + 4.16\\\\\n",
        "= 9.17\\\\\n",
        "Var(X) = E(X^2) - \\mu^2 = 9.17 - 8.23 = 0.94$"
      ]
    },
    {
      "cell_type": "markdown",
      "metadata": {
        "id": "wC8thn7rlRQW"
      },
      "source": [
        "## Problem 2 - Continuous Probability\n",
        "\n",
        "Sammy the slug also participates on the UCSC swim team. The probability that Sammy the Slug completes the 400m swim in $x$ seconds is modeled by the probability density function:\n",
        "$$f(x)=0.019e^{-0.019x}$$\n",
        "for $0\\leq x\\leq \\infty$."
      ]
    },
    {
      "cell_type": "markdown",
      "metadata": {
        "id": "EugkCQrWmzSy"
      },
      "source": [
        "### a.) (4 points)\n",
        "\n",
        "what is the probability that Sammy the Slug finishes the 400m swim in 200 seconds or less (hint: what is $F(200)$)? \n"
      ]
    },
    {
      "cell_type": "markdown",
      "metadata": {
        "id": "2co2pjdlobCx"
      },
      "source": [
        "$P(t \\leq 200s) = \\int_0^{200} 0.019e^{-0.019x} \\,dx\\\\\n",
        "= 0.9776$"
      ]
    },
    {
      "cell_type": "markdown",
      "metadata": {
        "id": "FrJ1hKatYaiU"
      },
      "source": [
        "## Problem 3 -  Monte Carlo Simulation\n",
        "\n",
        "Monte Carlo simulations can yield numeric solutions to probability problems that aren't possible to solve analytically. These simulations are also often easy to code up, and so also provide a way to check one's calculations for problems that amenable to analysis. So this is an important technique to become familiar with.\n",
        "\n",
        "Basically, one creates a simulation of the situation, and runs many trials that allow one to estimate the probabilities by computing proportions. \n",
        "\n",
        "First we give you an example of a Monte Carlo simulation, and then you'll solve such a problem yourself.\n",
        "\n",
        "### Example\n",
        "\n",
        "If you toss a coin 10 times, with what probability are you likely to see the subsequence {H, H, T, T} appear?\n",
        "\n",
        "Be patient, this may take a bit to run, but notice how straightforward the coding is. The simplicity of the Monte Carlo method makes it very powerful."
      ]
    },
    {
      "cell_type": "code",
      "metadata": {
        "id": "vBn1ndB3oJxa",
        "outputId": "90ed8726-a665-4a90-e31d-048a73f3c443",
        "colab": {
          "base_uri": "https://localhost:8080/"
        }
      },
      "source": [
        "from numpy.random import randint\n",
        "import numpy as np\n",
        "\n",
        "num_tosses = 10    # tosses per trial\n",
        "num_trials = 100000\n",
        "\n",
        "# This sets the feedback interval so we know the program hasn't crashed.\n",
        "feedback = int(np.round(num_trials / 10))\n",
        "\n",
        "num_seq_found = 0   # to count the number of target subsequences detected\n",
        "for t in range(1, num_trials + 1):\n",
        "    \n",
        "    # To see the progress.\n",
        "    if t % feedback == 0:  \n",
        "        print(np.round(100 * t / num_trials, 1), '%  complete:   prob =', num_seq_found / t)\n",
        "        \n",
        "    # Roll the die num_tosses times.\n",
        "    trial = [randint(1, 3) for _ in range(num_tosses)]\n",
        "    # Find the indices of all the 1s.\n",
        "    heads = [i for i in range(num_tosses) if trial[i] == 1]\n",
        "    \n",
        "    # Search for the correct pattern.\n",
        "    for j in heads:\n",
        "        if j < num_tosses - 3 and trial[j] == 1 and trial[j + 1] == 1 and trial[j + 2] == 2 and trial[j + 3] == 2:\n",
        "            # We've found the target subsequence.\n",
        "            num_seq_found += 1\n",
        "    \n",
        "print('Probability of this subsequence =', num_seq_found / num_trials)"
      ],
      "execution_count": 1,
      "outputs": [
        {
          "output_type": "stream",
          "text": [
            "10.0 %  complete:   prob = 0.4424\n",
            "20.0 %  complete:   prob = 0.43765\n",
            "30.0 %  complete:   prob = 0.43853333333333333\n",
            "40.0 %  complete:   prob = 0.439325\n",
            "50.0 %  complete:   prob = 0.43956\n",
            "60.0 %  complete:   prob = 0.4400833333333333\n",
            "70.0 %  complete:   prob = 0.4389142857142857\n",
            "80.0 %  complete:   prob = 0.4380875\n",
            "90.0 %  complete:   prob = 0.4383111111111111\n",
            "100.0 %  complete:   prob = 0.43829\n",
            "Probability of this subsequence = 0.43829\n"
          ],
          "name": "stdout"
        }
      ]
    },
    {
      "cell_type": "markdown",
      "metadata": {
        "id": "IT-eRCtiYaib"
      },
      "source": [
        "### a) (6 points)\n",
        "\n",
        "Consider two dice: One fair and one unfair. The unfair die has a 50% chance to land on the 3 face, and even chance for the rest of the faces.\n",
        "\n",
        "Write code that rolls both dice and computes the sum.\n",
        "\n",
        "Do this many times, and give the mean of all the sums.  This will converge to the expected average sum of both randomly rolled dice. You may need to run this several times to be sure of your accuracy. You can check the correctness of your Monte Carlo Simulation by solving this problem analytically.\n",
        "\n",
        "Hint:\n",
        "\n",
        "https://docs.scipy.org/doc/numpy-1.14.0/reference/generated/numpy.random.choice.html"
      ]
    },
    {
      "cell_type": "code",
      "metadata": {
        "id": "H4GVkg25oJxd"
      },
      "source": [
        "import numpy as np\n",
        "from numpy.random import choice\n",
        "\n",
        "num_trials = 100000\n",
        "\n",
        "# YOUR CODE HERE\n",
        "\n",
        "mean_sum = None\n",
        "print('mean sum =', mean_sum)"
      ],
      "execution_count": null,
      "outputs": []
    },
    {
      "cell_type": "markdown",
      "metadata": {
        "id": "OuwF3Y2b2nN3"
      },
      "source": [
        "## Problem 4 - Heart Disease Dataset\n",
        "\n",
        "When a data scientist first encounters a new dataset, the first step is data exploration. The dataset we'll be using is derived from the Heart database from the UCI Machine Learning Repository."
      ]
    },
    {
      "cell_type": "code",
      "metadata": {
        "id": "QZJlh8ZH2nN4"
      },
      "source": [
        "# Useful libraries\n",
        "import numpy as np\n",
        "import pandas as pd\n",
        "import matplotlib.pyplot as plt\n",
        "import seaborn as sns"
      ],
      "execution_count": null,
      "outputs": []
    },
    {
      "cell_type": "markdown",
      "metadata": {
        "id": "YLCeUi8K2ycm"
      },
      "source": [
        "### a) Read in the Data (4 points)\n",
        "This is much easier when you have the data on your own hard drive! Just run the next couple of code blocks. You'll have to paste your authorization code at one point...\n"
      ]
    },
    {
      "cell_type": "code",
      "metadata": {
        "id": "Xnm4IUVn2va9",
        "colab": {
          "base_uri": "https://localhost:8080/"
        },
        "outputId": "4a881483-ddca-4ef4-bc60-aa72b64e90f4"
      },
      "source": [
        "!pip install PyDrive\n",
        "from pydrive.auth import GoogleAuth\n",
        "from pydrive.drive import GoogleDrive\n",
        "from google.colab import auth\n",
        "from oauth2client.client import GoogleCredentials"
      ],
      "execution_count": null,
      "outputs": [
        {
          "output_type": "stream",
          "text": [
            "Requirement already satisfied: PyDrive in /usr/local/lib/python3.7/dist-packages (1.3.1)\n",
            "Requirement already satisfied: PyYAML>=3.0 in /usr/local/lib/python3.7/dist-packages (from PyDrive) (3.13)\n",
            "Requirement already satisfied: google-api-python-client>=1.2 in /usr/local/lib/python3.7/dist-packages (from PyDrive) (1.12.8)\n",
            "Requirement already satisfied: oauth2client>=4.0.0 in /usr/local/lib/python3.7/dist-packages (from PyDrive) (4.1.3)\n",
            "Requirement already satisfied: google-auth-httplib2>=0.0.3 in /usr/local/lib/python3.7/dist-packages (from google-api-python-client>=1.2->PyDrive) (0.0.4)\n",
            "Requirement already satisfied: six<2dev,>=1.13.0 in /usr/local/lib/python3.7/dist-packages (from google-api-python-client>=1.2->PyDrive) (1.15.0)\n",
            "Requirement already satisfied: uritemplate<4dev,>=3.0.0 in /usr/local/lib/python3.7/dist-packages (from google-api-python-client>=1.2->PyDrive) (3.0.1)\n",
            "Requirement already satisfied: httplib2<1dev,>=0.15.0 in /usr/local/lib/python3.7/dist-packages (from google-api-python-client>=1.2->PyDrive) (0.17.4)\n",
            "Requirement already satisfied: google-api-core<2dev,>=1.21.0 in /usr/local/lib/python3.7/dist-packages (from google-api-python-client>=1.2->PyDrive) (1.26.3)\n",
            "Requirement already satisfied: google-auth>=1.16.0 in /usr/local/lib/python3.7/dist-packages (from google-api-python-client>=1.2->PyDrive) (1.31.0)\n",
            "Requirement already satisfied: rsa>=3.1.4 in /usr/local/lib/python3.7/dist-packages (from oauth2client>=4.0.0->PyDrive) (4.7.2)\n",
            "Requirement already satisfied: pyasn1-modules>=0.0.5 in /usr/local/lib/python3.7/dist-packages (from oauth2client>=4.0.0->PyDrive) (0.2.8)\n",
            "Requirement already satisfied: pyasn1>=0.1.7 in /usr/local/lib/python3.7/dist-packages (from oauth2client>=4.0.0->PyDrive) (0.4.8)\n",
            "Requirement already satisfied: protobuf>=3.12.0 in /usr/local/lib/python3.7/dist-packages (from google-api-core<2dev,>=1.21.0->google-api-python-client>=1.2->PyDrive) (3.12.4)\n",
            "Requirement already satisfied: googleapis-common-protos<2.0dev,>=1.6.0 in /usr/local/lib/python3.7/dist-packages (from google-api-core<2dev,>=1.21.0->google-api-python-client>=1.2->PyDrive) (1.53.0)\n",
            "Requirement already satisfied: packaging>=14.3 in /usr/local/lib/python3.7/dist-packages (from google-api-core<2dev,>=1.21.0->google-api-python-client>=1.2->PyDrive) (20.9)\n",
            "Requirement already satisfied: setuptools>=40.3.0 in /usr/local/lib/python3.7/dist-packages (from google-api-core<2dev,>=1.21.0->google-api-python-client>=1.2->PyDrive) (57.0.0)\n",
            "Requirement already satisfied: requests<3.0.0dev,>=2.18.0 in /usr/local/lib/python3.7/dist-packages (from google-api-core<2dev,>=1.21.0->google-api-python-client>=1.2->PyDrive) (2.23.0)\n",
            "Requirement already satisfied: pytz in /usr/local/lib/python3.7/dist-packages (from google-api-core<2dev,>=1.21.0->google-api-python-client>=1.2->PyDrive) (2018.9)\n",
            "Requirement already satisfied: cachetools<5.0,>=2.0.0 in /usr/local/lib/python3.7/dist-packages (from google-auth>=1.16.0->google-api-python-client>=1.2->PyDrive) (4.2.2)\n",
            "Requirement already satisfied: pyparsing>=2.0.2 in /usr/local/lib/python3.7/dist-packages (from packaging>=14.3->google-api-core<2dev,>=1.21.0->google-api-python-client>=1.2->PyDrive) (2.4.7)\n",
            "Requirement already satisfied: certifi>=2017.4.17 in /usr/local/lib/python3.7/dist-packages (from requests<3.0.0dev,>=2.18.0->google-api-core<2dev,>=1.21.0->google-api-python-client>=1.2->PyDrive) (2021.5.30)\n",
            "Requirement already satisfied: urllib3!=1.25.0,!=1.25.1,<1.26,>=1.21.1 in /usr/local/lib/python3.7/dist-packages (from requests<3.0.0dev,>=2.18.0->google-api-core<2dev,>=1.21.0->google-api-python-client>=1.2->PyDrive) (1.24.3)\n",
            "Requirement already satisfied: chardet<4,>=3.0.2 in /usr/local/lib/python3.7/dist-packages (from requests<3.0.0dev,>=2.18.0->google-api-core<2dev,>=1.21.0->google-api-python-client>=1.2->PyDrive) (3.0.4)\n",
            "Requirement already satisfied: idna<3,>=2.5 in /usr/local/lib/python3.7/dist-packages (from requests<3.0.0dev,>=2.18.0->google-api-core<2dev,>=1.21.0->google-api-python-client>=1.2->PyDrive) (2.10)\n"
          ],
          "name": "stdout"
        }
      ]
    },
    {
      "cell_type": "code",
      "metadata": {
        "id": "osP9dVT02_m1"
      },
      "source": [
        "auth.authenticate_user()\n",
        "gauth = GoogleAuth()\n",
        "gauth.credentials = GoogleCredentials.get_application_default()\n",
        "drive = GoogleDrive(gauth)"
      ],
      "execution_count": null,
      "outputs": []
    },
    {
      "cell_type": "code",
      "metadata": {
        "id": "rYrU50rO2nN6"
      },
      "source": [
        "downloaded = drive.CreateFile({'id':\"1qF_Ees7ETr5BiPnHTabyeIH1KQVkViUK\"})   # Replace the id with id of file you want to access\n",
        "downloaded.GetContentFile('Heart.csv')        # Replace the file name with your file\n",
        "\n",
        "# Finally we can actually read in the data.\n",
        "data = pd.read_csv('Heart.csv')\n",
        "\n",
        "# How many rows and columns are in this dataset?\n",
        "### YOUR CODE HERE ###"
      ],
      "execution_count": null,
      "outputs": []
    },
    {
      "cell_type": "markdown",
      "metadata": {
        "id": "ugFGZQiI1bVr"
      },
      "source": [
        "Number of rows: [YOUR ANSWER HERE]\n",
        "\n",
        "Number of columns: [YOUR ANSWER HERE]"
      ]
    },
    {
      "cell_type": "markdown",
      "metadata": {
        "id": "tSuWlktS2nN9"
      },
      "source": [
        "### b) Understanding the Data (15 points)\n",
        "\n",
        "Look for a data description file whenever you explore a new dataset. This is a codebook (or text file) that tells you what each data item represents. The following is a data dictionary for this dataset, which is derived from one in the UCI Machine Learning Dataset Repository."
      ]
    },
    {
      "cell_type": "markdown",
      "metadata": {
        "id": "u6EthXyP2nN-"
      },
      "source": [
        "Age: The person's age in years\n",
        "\n",
        "Sex: The person's sex (1 = male, 0 = female)\n",
        "\n",
        "ChestPain: The chest pain experienced <br>\n",
        ".............typical angina  <br>\n",
        ".............atypical angina <br>\n",
        ".............non-anginal pain  <br>\n",
        ".............asymptomatic\n",
        "\n",
        "RestBP: The person's resting blood pressure (mm Hg on admission to the hospital)\n",
        "\n",
        "Chol: The person's cholesterol measurement in mg/dl\n",
        "\n",
        "Fbs: The person's fasting blood sugar (> 120 mg/dl, 1 = true; 0 = false)\n",
        "\n",
        "RestECG: Resting electrocardiographic measurement <br>\n",
        ".............0: normal <br>\n",
        ".............1: having ST-T wave abnormality <br>\n",
        ".............2: showing probable left ventricular hypertrophy by Estes' criteria\n",
        "\n",
        "MaxHR: The person's maximum heart rate achieved\n",
        "\n",
        "ExAng: Exercise induced angina (1 = yes; 0 = no)\n",
        "\n",
        "Oldpeak: ST depression induced by exercise relative to rest <br>\n",
        "..............('ST' relates to positions on the ECG plot.)\n",
        "\n",
        "Slope: the slope of the peak exercise ST segment <br>\n",
        "...........1: upsloping <br>\n",
        "...........2: flat <br>\n",
        "...........3: downsloping\n",
        "\n",
        "Ca: The number of major vessels (0-3)\n",
        "\n",
        "Thal: A blood disorder called thalassemia <br>\n",
        "...........normal <br>\n",
        "...........fixed <br>\n",
        "...........reversable\n",
        "\n",
        "AHD: Heart disease ('No', 'Yes') -  The target we would like to predict."
      ]
    },
    {
      "cell_type": "code",
      "metadata": {
        "id": "3OtUkDID2nN-"
      },
      "source": [
        "# Show the first few rows of the data.\n",
        "### YOUR CODE HERE ###"
      ],
      "execution_count": null,
      "outputs": []
    },
    {
      "cell_type": "code",
      "metadata": {
        "id": "C116JGsY2nOA"
      },
      "source": [
        "# Print out the \"info\" of the dataset.\n",
        "### YOUR CODE HERE ###"
      ],
      "execution_count": null,
      "outputs": []
    },
    {
      "cell_type": "markdown",
      "metadata": {
        "id": "5JRzQNLl2nOE"
      },
      "source": [
        "The above output can help you to see how much missing data is in the dataset. How many null values (missing values) exists in the data?"
      ]
    },
    {
      "cell_type": "markdown",
      "metadata": {
        "id": "n4bmW83H2O_D"
      },
      "source": [
        "[YOUR ANSWER HERE]"
      ]
    },
    {
      "cell_type": "markdown",
      "metadata": {
        "id": "K-m5AXWe2TWf"
      },
      "source": [
        "What to do about missing values is very good question. Sometimes one replaces such missing values with the mean of all the values that are present for this variable. But to keep things simple here we will simply delete any rows with missing data.\n",
        "\n",
        "Use the code cell below to drop null values from the data. [hint: you can use dropna() function]"
      ]
    },
    {
      "cell_type": "code",
      "metadata": {
        "id": "hOepmrOg2nOE"
      },
      "source": [
        "# Drop any rows with missing data\n",
        "### YOUR CODE HERE ###"
      ],
      "execution_count": null,
      "outputs": []
    },
    {
      "cell_type": "markdown",
      "metadata": {
        "id": "FoLwru912nOH"
      },
      "source": [
        "Another useful Pandas dataframe method is describe(). The describe method gives summary statistics for each column, which can help you to identify outliers."
      ]
    },
    {
      "cell_type": "code",
      "metadata": {
        "id": "eU_RHFpE2nOI"
      },
      "source": [
        "# The describe method of a Pandas dataframe yields much useful information.\n",
        "data.describe()"
      ],
      "execution_count": null,
      "outputs": []
    },
    {
      "cell_type": "markdown",
      "metadata": {
        "id": "jVnRhHh82nOK"
      },
      "source": [
        "Outliers are values far removed from the other data values, and are usually typos or other errors. Looking at the data description above, do you spot any possible outliers in the data?"
      ]
    },
    {
      "cell_type": "markdown",
      "metadata": {
        "id": "MV8k7xzv3Twl"
      },
      "source": [
        "[YOUR ANSWER HERE]"
      ]
    },
    {
      "cell_type": "markdown",
      "metadata": {
        "id": "czNvxv173JNh"
      },
      "source": [
        "### c) Outlier Detection \\& Elimination (8 points)\n",
        "In this section, We'll remove any ages that are more than 4 standard deviations from the mean.\n",
        "\n",
        "To accomplish this: \n",
        "\n",
        "1) You'll make a new column called AgeZ to hold the z-transformed values of the Age column. \n",
        "\n",
        "\n",
        "2) Then, any AgeZ value that's less than -4 or more than 4 should be flagged as an outlier. \n",
        "\n",
        "\n",
        "3) Remove those entries from the dataset.\n",
        "\n",
        "Remember that standardizing the data (or z-transform) is making your data have a zero mean and unit variance. This can be done with:\n",
        "\n",
        "$$x \\to_{stdize}  \\frac{x - \\mu}{\\sigma}$$\n",
        "Where $\\mu$ is your mean and $\\sigma$ is your standard deviation.\n"
      ]
    },
    {
      "cell_type": "code",
      "metadata": {
        "id": "LzKOPmvf2nOL"
      },
      "source": [
        "data['AgeZ'] = ### YOUR CODE HERE ###\n",
        "\n",
        "# Delete any rows for which AgeZ is greater than 4 or less than -4.\n",
        "data = ### YOUR CODE HERE ###\n",
        "\n",
        "# Cleanup - delete the z-tranform column since we don't need it any more.\n",
        "data = data.drop(columns=['AgeZ'])\n",
        "\n",
        "# Let's take another look.\n",
        "data.describe()"
      ],
      "execution_count": null,
      "outputs": []
    },
    {
      "cell_type": "markdown",
      "metadata": {
        "id": "j4YIpqol2nON"
      },
      "source": [
        "Notice that now the Age column is much more reasonable.  "
      ]
    },
    {
      "cell_type": "markdown",
      "metadata": {
        "id": "CJvLHq_m2nOO"
      },
      "source": [
        "Perform the same process to eliminate any extreme outliers (more than 4 standard deviations away from the mean) for RestBP, MaxHR, and the Oldpeak variables. Delete those exta columns after you have removed the outliers."
      ]
    },
    {
      "cell_type": "code",
      "metadata": {
        "id": "jrizwTo22nOO"
      },
      "source": [
        "### YOUR CODE HERE ###\n",
        "\n",
        "\n",
        "\n",
        "# Leave this for your last line.\n",
        "data.describe()"
      ],
      "execution_count": null,
      "outputs": []
    },
    {
      "cell_type": "markdown",
      "metadata": {
        "id": "kls093zf2nOR"
      },
      "source": [
        "### d) Data Visualization (8 points)\n",
        "\n",
        "Sometimes it's useful to look at a pairwise plot of all the variables. Below we do this for all but the first column. Be patient, this takes a minute to complete. Notice that the main diagonal has histogram plots for each variable, which gives you a sense of the distribution of values of each variable."
      ]
    },
    {
      "cell_type": "code",
      "metadata": {
        "id": "KadsSpNR2nOR"
      },
      "source": [
        "# Make a pairplot of all the variables (columns), excepting the first column.\n",
        "plt.rcParams['figure.figsize'] = (15, 15)\n",
        "sns.pairplot(data.drop(columns='Unnamed: 0'))"
      ],
      "execution_count": null,
      "outputs": []
    },
    {
      "cell_type": "markdown",
      "metadata": {
        "id": "4PuRhYp32nOU"
      },
      "source": [
        "Let's look at a larger plot of the patient age distribution for the patients in this dataset."
      ]
    },
    {
      "cell_type": "code",
      "metadata": {
        "id": "eWpVLgZK2nOU"
      },
      "source": [
        "# Plot the patient age distribution.\n",
        "plt.rcParams['figure.figsize'] = (7, 4)\n",
        "sns.distplot(data['Age'])\n",
        "plt.title('Age Distribution')"
      ],
      "execution_count": null,
      "outputs": []
    },
    {
      "cell_type": "markdown",
      "metadata": {
        "id": "iRAR3b_52nOX"
      },
      "source": [
        "Plot the distribution of patient cholesterol levels."
      ]
    },
    {
      "cell_type": "code",
      "metadata": {
        "id": "O2sCbr9z2nOY"
      },
      "source": [
        "### YOUR CODE HERE ###"
      ],
      "execution_count": null,
      "outputs": []
    },
    {
      "cell_type": "markdown",
      "metadata": {
        "id": "-QLPhTCq2nOa"
      },
      "source": [
        "### e) Data Normalization (8 points)\n",
        "\n",
        "We've already seen how the z-transform can be used to rescale values. We used this to help eliminate outliers, but such transforms can also be useful prior to applying machine learning algorithms, and often improves the algorithms performance. \n",
        "\n",
        "Another common transform is to map all the variable values into the interval $[0,1]$, via the transform:\n",
        "\n",
        "$$x \\to  \\frac{x - \\min}{\\max - \\min}$$\n",
        "\n",
        "Let's create a new column ('NewAge') mapping all ages into the interval $[0,1]$."
      ]
    },
    {
      "cell_type": "code",
      "metadata": {
        "id": "cEvlQDXm2nOb"
      },
      "source": [
        "# Create a new column, NewAge, to hold the normalized Age variable.\n",
        "data['NewAge'] = ### YOUR CODE HERE ###\n",
        "\n",
        "# Take a look at the new age column.\n",
        "data['NewAge']"
      ],
      "execution_count": null,
      "outputs": []
    },
    {
      "cell_type": "code",
      "metadata": {
        "id": "hvWHd-vZ2nOd"
      },
      "source": [
        "# We don't need this column, so we delete it. (It was just to show you how to do this.)\n",
        "data = data.drop(columns=['NewAge'])"
      ],
      "execution_count": null,
      "outputs": []
    },
    {
      "cell_type": "markdown",
      "metadata": {
        "id": "gObPkanN2nOg"
      },
      "source": [
        "Map the minimum to 0 and maximum to 1 (in other words, normalize the column) for the RestBP, Chol, and MaxHR columns. Don't create new columns, just replace the existing ones with the transformed data."
      ]
    },
    {
      "cell_type": "code",
      "metadata": {
        "id": "MSjXg7Go2nOg"
      },
      "source": [
        "### YOUR CODE HERE ###\n",
        "\n",
        "\n",
        "# Leave this for your last line.\n",
        "data.describe()"
      ],
      "execution_count": null,
      "outputs": []
    },
    {
      "cell_type": "markdown",
      "metadata": {
        "id": "0PRmp0GI2nOi"
      },
      "source": [
        "### f) Converting Categorical Data to Numeric Values (6 points)\n",
        "\n",
        "It's frequently useful to convert categorical (non-numeric) values to numeric ones. The last variable in the data frame, AHD, has categorical values 'No' if the patient has no heart disease, and 'Yes' if they do. Convert these values to 0 for 'No' and 1 for 'Yes'."
      ]
    },
    {
      "cell_type": "code",
      "metadata": {
        "id": "A0vh80Yc2nOj"
      },
      "source": [
        "### YOUR CODE HERE ###"
      ],
      "execution_count": null,
      "outputs": []
    },
    {
      "cell_type": "markdown",
      "metadata": {
        "id": "Zmj1yFJU2nOm"
      },
      "source": [
        "### g) One-Hot-Encoding (10 points)\n",
        "\n",
        "One-hot-encoding is another often used way of converting categorical data to numeric. For example, instead of the categories 'cold', 'warm', 'hot', we form a seperate column for each of these attributes, so that what was represented as 'cold' is now $[1,0,0]$ and what was 'hot' is now $[0,0,1]$.  There is a built in command for doing this in the sklearn package.\n",
        "\n",
        "Similar to what you've learned from the class exercise of lecture 2, add new columns for one-hot-encoding of 'Thal' column. Use 'Thal' as the prefix. Then drop the original column."
      ]
    },
    {
      "cell_type": "code",
      "metadata": {
        "id": "jiPkdXxE2nOo"
      },
      "source": [
        "# Concatentate new one-hot encodings with the original dataframe.\n",
        "data = ### YOUR CODE HERE ###\n",
        "\n",
        "# now drop the original 'Thal' column (you don't need it anymore)\n",
        "\n",
        "### YOUR CODE HERE ###\n",
        "\n",
        "data.head()"
      ],
      "execution_count": null,
      "outputs": []
    },
    {
      "cell_type": "markdown",
      "metadata": {
        "id": "o-7xSpv62nOs"
      },
      "source": [
        "Create a one-hot-encoding for the ChestPain column, just as we did above for the Thal column, deleting the original column as before."
      ]
    },
    {
      "cell_type": "code",
      "metadata": {
        "id": "HH8kndAQ2nOs"
      },
      "source": [
        "### YOUR CODE HERE ###\n",
        "\n",
        "\n",
        "# Leave this for your last line.\n",
        "data.head()"
      ],
      "execution_count": null,
      "outputs": []
    },
    {
      "cell_type": "markdown",
      "metadata": {
        "id": "cGXRujgd2nOv"
      },
      "source": [
        "### h) Feature Engineering (10 points)\n",
        "\n",
        "Feature engineering is central to much of machine learning. Traditionally such features needed to be hand crafted, which is as much an art as it is engineering. One of the huge advantages of neural networks over traditional machine learning techniques is that neural networks can learn optimal features."
      ]
    },
    {
      "cell_type": "markdown",
      "metadata": {
        "id": "ekfL1tTH2nOv"
      },
      "source": [
        "Create a new column (feature) called AgeC, which will be the product of the patient's age and the patient's cholesterol level. "
      ]
    },
    {
      "cell_type": "code",
      "metadata": {
        "id": "DFJhzWT02nOv"
      },
      "source": [
        "### YOUR CODE HERE ###\n",
        "\n",
        "\n",
        "# Leave this for your last line.\n",
        "data.head()"
      ],
      "execution_count": null,
      "outputs": []
    },
    {
      "cell_type": "markdown",
      "metadata": {
        "id": "JNeMdC4D2nOx"
      },
      "source": [
        "###  i) Balanced or Unbalanced Classes (10 points)\n",
        "\n",
        "For this dataset, one variable that we might like to predict is the presence of heart disease, the AHD column, using all the other columns. Some datasets are highly imbalanced.  Suppose that 95% of a set of subjects were healthy, with only 5% having heart disease. A machine learning model can attain 95% accuracy by simply ALWAYS predicting no heart disease. It sounds like a fairly accurate model, but it would miss predicting any heart disease! \n",
        "\n",
        "There are techniques for dealing with this, but first we have to ascertain if our data is unbalanced. Use the code cell below to see if the data is imbalanced or not and describe your observations in the next text cell"
      ]
    },
    {
      "cell_type": "code",
      "metadata": {
        "id": "J8Ie6nAf2nOy"
      },
      "source": [
        "### YOUR CODE HERE ###"
      ],
      "execution_count": null,
      "outputs": []
    },
    {
      "cell_type": "markdown",
      "metadata": {
        "id": "jCOv0vYf2nO0"
      },
      "source": [
        "[YOUR ANSWER HERE]"
      ]
    }
  ]
}