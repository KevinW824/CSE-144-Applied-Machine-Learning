{
  "nbformat": 4,
  "nbformat_minor": 0,
  "metadata": {
    "colab": {
      "name": "Copy of Summer_21_Assignment_5.ipynb",
      "provenance": [],
      "collapsed_sections": [],
      "include_colab_link": true
    },
    "kernelspec": {
      "name": "python3",
      "display_name": "Python 3"
    },
    "language_info": {
      "name": "python"
    },
    "accelerator": "GPU"
  },
  "cells": [
    {
      "cell_type": "markdown",
      "metadata": {
        "id": "view-in-github",
        "colab_type": "text"
      },
      "source": [
        "<a href=\"https://colab.research.google.com/github/KevinW824/CSE-144-Applied-Machine-Learning/blob/main/Summer_21_Assignment_5.ipynb\" target=\"_parent\"><img src=\"https://colab.research.google.com/assets/colab-badge.svg\" alt=\"Open In Colab\"/></a>"
      ]
    },
    {
      "cell_type": "code",
      "metadata": {
        "id": "2IlwhV0z2nMr"
      },
      "source": [
        "%matplotlib inline"
      ],
      "execution_count": 1,
      "outputs": []
    },
    {
      "cell_type": "markdown",
      "metadata": {
        "id": "Chprzdhe2nMw"
      },
      "source": [
        "# Assignment 5\n",
        "\n",
        "**DUE: Sunday July 24, 2021 11:59pm**\n",
        "\n",
        "Turn in the assignment via Canvas.\n",
        "\n",
        "To write legible answers you will need to be familiar with both [Markdown](https://github.com/adam-p/markdown-here/wiki/Markdown-Cheatsheet) and [Latex](https://www.latex-tutorial.com/tutorials/amsmath/)\n",
        "\n",
        "Before you turn this problem in, make sure everything runs as expected. First, restart the kernel (in the menubar, select Runtime→→Restart runtime) and then run all cells (in the menubar, select Runtime→→Run All).\n",
        "\n",
        "Make sure you fill in any place that says \"YOUR CODE HERE\" or \"YOUR ANSWER HERE\", as well as your name below:"
      ]
    },
    {
      "cell_type": "code",
      "metadata": {
        "id": "8jeWubXE2nMx"
      },
      "source": [
        "NAME = \"Bowen Wang\"\n",
        "STUDENT_ID = \"bwang93\""
      ],
      "execution_count": 2,
      "outputs": []
    },
    {
      "cell_type": "markdown",
      "metadata": {
        "id": "E-DjjESEyXnL"
      },
      "source": [
        "\n",
        "\n",
        "\n",
        "\n"
      ]
    },
    {
      "cell_type": "code",
      "metadata": {
        "id": "Bv1G7ixQvN8E"
      },
      "source": [
        "import numpy as np\n",
        "import pandas as pd\n",
        "import matplotlib.pyplot as plt\n",
        "import seaborn as sns\n",
        "\n",
        "import tensorflow as tf\n",
        "\n",
        "from sklearn.metrics import accuracy_score, precision_score, recall_score\n",
        "from sklearn.model_selection import train_test_split\n",
        "from tensorflow.keras import layers, losses\n",
        "from tensorflow.keras.datasets import fashion_mnist\n",
        "from tensorflow.keras.models import Model"
      ],
      "execution_count": 3,
      "outputs": []
    },
    {
      "cell_type": "markdown",
      "metadata": {
        "id": "Y32nQiJbSAwC"
      },
      "source": [
        "## Question 1 Bitcoin price Prediction"
      ]
    },
    {
      "cell_type": "markdown",
      "metadata": {
        "id": "hH1DIHT1SGOo"
      },
      "source": [
        "Bitcoin, amongst other assets like AMC and GME, has been all the rage this past year and reached an all time high of \\$63,729.5 per bitcoin. Since reaching it's high, the price has dropped by nearly a half. Analysts continue to feed the frenzy by releasing price predictions that range from from \\$500,000 to \\$9,000 per bitcoin in the next year. You will make an Recurrent neural network model to gain some insight into price prediction. Yahoo! Finance is a trusted name in free financial information and has been with us since the internet's early years. You'll be using data gathered obtained from https://finance.yahoo.com/quote/BTC-USD/history/ to train your recurrent neural network."
      ]
    },
    {
      "cell_type": "markdown",
      "metadata": {
        "id": "B1U2O-ElzqES"
      },
      "source": [
        "Run the following code cell to download the training and test data. It might take a while to download the zip file and extract it."
      ]
    },
    {
      "cell_type": "code",
      "metadata": {
        "id": "iExiItBkdS8F"
      },
      "source": [
        "from pydrive.auth import GoogleAuth\n",
        "from pydrive.drive import GoogleDrive\n",
        "from google.colab import auth\n",
        "from oauth2client.client import GoogleCredentials\n",
        "import io\n",
        "import zipfile\n",
        "auth.authenticate_user()\n",
        "gauth = GoogleAuth()\n",
        "gauth.credentials = GoogleCredentials.get_application_default()\n",
        "drive = GoogleDrive(gauth)\n",
        "file_id = '1JbrxeSqazKn-WjizVDPG9VvhkXVG--D-'\n",
        "downloaded = drive.CreateFile({'id': file_id})\n",
        "downloaded.GetContentFile('BTC-USD.csv')\n"
      ],
      "execution_count": 4,
      "outputs": []
    },
    {
      "cell_type": "code",
      "metadata": {
        "id": "_ab-5H8XVOVi"
      },
      "source": [
        "# Create pandas dataframe\n",
        "data = pd.read_csv('BTC-USD.csv')"
      ],
      "execution_count": 5,
      "outputs": []
    },
    {
      "cell_type": "code",
      "metadata": {
        "id": "8W_KrGElWT0y",
        "colab": {
          "base_uri": "https://localhost:8080/",
          "height": 204
        },
        "outputId": "f68856d1-ccb7-4dbd-d69f-6aea77c53e7c"
      },
      "source": [
        "# Plot data.head()\n",
        "data.head()"
      ],
      "execution_count": 6,
      "outputs": [
        {
          "output_type": "execute_result",
          "data": {
            "text/html": [
              "<div>\n",
              "<style scoped>\n",
              "    .dataframe tbody tr th:only-of-type {\n",
              "        vertical-align: middle;\n",
              "    }\n",
              "\n",
              "    .dataframe tbody tr th {\n",
              "        vertical-align: top;\n",
              "    }\n",
              "\n",
              "    .dataframe thead th {\n",
              "        text-align: right;\n",
              "    }\n",
              "</style>\n",
              "<table border=\"1\" class=\"dataframe\">\n",
              "  <thead>\n",
              "    <tr style=\"text-align: right;\">\n",
              "      <th></th>\n",
              "      <th>Date</th>\n",
              "      <th>Open</th>\n",
              "      <th>High</th>\n",
              "      <th>Low</th>\n",
              "      <th>Close</th>\n",
              "      <th>Adj Close</th>\n",
              "      <th>Volume</th>\n",
              "    </tr>\n",
              "  </thead>\n",
              "  <tbody>\n",
              "    <tr>\n",
              "      <th>0</th>\n",
              "      <td>2014-09-17</td>\n",
              "      <td>465.864014</td>\n",
              "      <td>468.174011</td>\n",
              "      <td>452.421997</td>\n",
              "      <td>457.334015</td>\n",
              "      <td>457.334015</td>\n",
              "      <td>21056800.0</td>\n",
              "    </tr>\n",
              "    <tr>\n",
              "      <th>1</th>\n",
              "      <td>2014-09-18</td>\n",
              "      <td>456.859985</td>\n",
              "      <td>456.859985</td>\n",
              "      <td>413.104004</td>\n",
              "      <td>424.440002</td>\n",
              "      <td>424.440002</td>\n",
              "      <td>34483200.0</td>\n",
              "    </tr>\n",
              "    <tr>\n",
              "      <th>2</th>\n",
              "      <td>2014-09-19</td>\n",
              "      <td>424.102997</td>\n",
              "      <td>427.834991</td>\n",
              "      <td>384.532013</td>\n",
              "      <td>394.795990</td>\n",
              "      <td>394.795990</td>\n",
              "      <td>37919700.0</td>\n",
              "    </tr>\n",
              "    <tr>\n",
              "      <th>3</th>\n",
              "      <td>2014-09-20</td>\n",
              "      <td>394.673004</td>\n",
              "      <td>423.295990</td>\n",
              "      <td>389.882996</td>\n",
              "      <td>408.903992</td>\n",
              "      <td>408.903992</td>\n",
              "      <td>36863600.0</td>\n",
              "    </tr>\n",
              "    <tr>\n",
              "      <th>4</th>\n",
              "      <td>2014-09-21</td>\n",
              "      <td>408.084991</td>\n",
              "      <td>412.425995</td>\n",
              "      <td>393.181000</td>\n",
              "      <td>398.821014</td>\n",
              "      <td>398.821014</td>\n",
              "      <td>26580100.0</td>\n",
              "    </tr>\n",
              "  </tbody>\n",
              "</table>\n",
              "</div>"
            ],
            "text/plain": [
              "         Date        Open        High  ...       Close   Adj Close      Volume\n",
              "0  2014-09-17  465.864014  468.174011  ...  457.334015  457.334015  21056800.0\n",
              "1  2014-09-18  456.859985  456.859985  ...  424.440002  424.440002  34483200.0\n",
              "2  2014-09-19  424.102997  427.834991  ...  394.795990  394.795990  37919700.0\n",
              "3  2014-09-20  394.673004  423.295990  ...  408.903992  408.903992  36863600.0\n",
              "4  2014-09-21  408.084991  412.425995  ...  398.821014  398.821014  26580100.0\n",
              "\n",
              "[5 rows x 7 columns]"
            ]
          },
          "metadata": {
            "tags": []
          },
          "execution_count": 6
        }
      ]
    },
    {
      "cell_type": "markdown",
      "metadata": {
        "id": "x0UzN1BASfgD"
      },
      "source": [
        "Let's plot the bitcoin price. First, we will make a plot of bitcoin price vs the days after September 15, 2014, the start date of this dataset. Day \"0\" indicates September 15, 2014."
      ]
    },
    {
      "cell_type": "code",
      "metadata": {
        "id": "UjcXKOtg6jb5",
        "colab": {
          "base_uri": "https://localhost:8080/",
          "height": 265
        },
        "outputId": "d08eb509-2579-467a-8ced-608612ff4271"
      },
      "source": [
        "import matplotlib.pyplot as plt\n",
        "import seaborn as sns # Used for plotting\n",
        "\n",
        "g = sns.lineplot(x = np.linspace(1,2495,2495), y = data['High'].values.reshape(-1))\n"
      ],
      "execution_count": 7,
      "outputs": [
        {
          "output_type": "display_data",
          "data": {
            "image/png": "[encoded data removed]",
            "text/plain": [
              "<Figure size 432x288 with 1 Axes>"
            ]
          },
          "metadata": {
            "tags": [],
            "needs_background": "light"
          }
        }
      ]
    },
    {
      "cell_type": "markdown",
      "metadata": {
        "id": "Upn-QIHf6mwa"
      },
      "source": [
        "Next, we plot bitcoin vs. days. But this time there are dates added to the graph."
      ]
    },
    {
      "cell_type": "code",
      "metadata": {
        "id": "qaUQJVYCSc-S",
        "colab": {
          "base_uri": "https://localhost:8080/",
          "height": 514
        },
        "outputId": "2edccf92-acfd-4fb6-c783-852e6c567698"
      },
      "source": [
        "\n",
        "import matplotlib.pyplot as plt\n",
        "import seaborn as sns # Used for plotting\n",
        "\n",
        "g = sns.lineplot(x = np.linspace(1,2495,2495), y = data['High'].values.reshape(-1))\n",
        "#g.map(plt.plot, \"a\", \"v\", marker=\"o\")\n",
        "g.set(xticks=np.arange(0,2500,200))\n",
        "g.set_xticklabels(rotation=30, labels = data['Date'][0::200])"
      ],
      "execution_count": 8,
      "outputs": [
        {
          "output_type": "execute_result",
          "data": {
            "text/plain": [
              "[Text(0, 0, '2014-09-17'),\n",
              " Text(0, 0, '2015-04-05'),\n",
              " Text(0, 0, '2015-10-22'),\n",
              " Text(0, 0, '2016-05-09'),\n",
              " Text(0, 0, '2016-11-25'),\n",
              " Text(0, 0, '2017-06-13'),\n",
              " Text(0, 0, '2017-12-30'),\n",
              " Text(0, 0, '2018-07-18'),\n",
              " Text(0, 0, '2019-02-03'),\n",
              " Text(0, 0, '2019-08-22'),\n",
              " Text(0, 0, '2020-03-09'),\n",
              " Text(0, 0, '2020-09-25'),\n",
              " Text(0, 0, '2021-04-13')]"
            ]
          },
          "metadata": {
            "tags": []
          },
          "execution_count": 8
        },
        {
          "output_type": "display_data",
          "data": {
            "image/png": "[encoded data removed]",
            "text/plain": [
              "<Figure size 432x288 with 1 Axes>"
            ]
          },
          "metadata": {
            "tags": [],
            "needs_background": "light"
          }
        }
      ]
    },
    {
      "cell_type": "markdown",
      "metadata": {
        "id": "DHC5nm2AMwT4"
      },
      "source": [
        "### Part a) Data preprocessing (5 points)"
      ]
    },
    {
      "cell_type": "markdown",
      "metadata": {
        "id": "I5ngjtt0MfQR"
      },
      "source": [
        "In this section you will preprocess the in order to train a recurrent neural network. We can see that there 5 columns, \"Date\", \"Open\", \"High\", \"Low\", \"Close\", \"Adjusted Close\", and \"Volume\". We will only use the High column."
      ]
    },
    {
      "cell_type": "code",
      "metadata": {
        "id": "mhTJ8iATNFlC",
        "colab": {
          "base_uri": "https://localhost:8080/"
        },
        "outputId": "af558e42-a04a-4598-c7e5-f9130bc7170d"
      },
      "source": [
        "# Create a dataframe that only contains High Column.\n",
        "# Hint: it may be helpful to now cast your pruned dataframe to a numpy array.\n",
        "\n",
        "data_high = data.iloc[:, 2:3].to_numpy()### YOUR CODE HERE ###\n",
        "data_high"
      ],
      "execution_count": 9,
      "outputs": [
        {
          "output_type": "execute_result",
          "data": {
            "text/plain": [
              "array([[  468.174011],\n",
              "       [  456.859985],\n",
              "       [  427.834991],\n",
              "       ...,\n",
              "       [33061.398438],\n",
              "       [33159.640625],\n",
              "       [32218.40625 ]])"
            ]
          },
          "metadata": {
            "tags": []
          },
          "execution_count": 9
        }
      ]
    },
    {
      "cell_type": "markdown",
      "metadata": {
        "id": "JJ6wmmb2DJnE"
      },
      "source": [
        "\n",
        "Recall [MinMaxScaler](https://scikit-learn.org/stable/modules/generated/sklearn.preprocessing.MinMaxScaler.html) from sklearn. Use it to scale the data for our analysis. "
      ]
    },
    {
      "cell_type": "code",
      "metadata": {
        "id": "4FXLabvyCEN_",
        "colab": {
          "base_uri": "https://localhost:8080/"
        },
        "outputId": "d462d4c9-5a83-44cc-df1b-147bcbab0740"
      },
      "source": [
        "from sklearn.preprocessing import MinMaxScaler\n",
        "### YOUR CODE HERE ###\n",
        "scaler = MinMaxScaler()### YOUR CODE HERE ###\n",
        "\n",
        "data_normalized = scaler.fit_transform(data_high)### YOUR CODE HERE ###\n",
        "data_normalized"
      ],
      "execution_count": 10,
      "outputs": [
        {
          "output_type": "execute_result",
          "data": {
            "text/plain": [
              "array([[0.00396655],\n",
              "       [0.00379155],\n",
              "       [0.00334261],\n",
              "       ...,\n",
              "       [0.50810476],\n",
              "       [0.50962433],\n",
              "       [0.49506572]])"
            ]
          },
          "metadata": {
            "tags": []
          },
          "execution_count": 10
        }
      ]
    },
    {
      "cell_type": "markdown",
      "metadata": {
        "id": "Dqq2K_UpNnrX"
      },
      "source": [
        "You will implement a simple autoregressive recurrent neural network using the standard tensorflow RNN architectures. An autoregressive model originates from the literature on time-series models where observations from the previous time-steps are used to predict the value at the current time step. To implemement an autoregressive model, we will simply augment the data so that \"time_steps\" number of previous days are fed to the model at the current time step in order to form a prediction. The function to augment the data is given to you:"
      ]
    },
    {
      "cell_type": "code",
      "metadata": {
        "id": "jtz4UhmUNngP"
      },
      "source": [
        "\n",
        "def create_dataset(dataset, time_steps=1):\n",
        "    \"\"\"\n",
        "    Generate a dataset where the time series X[n] contains the readings for the 'time_step' previous days \n",
        "    and y contains the price for today.\n",
        "    args:\n",
        "    dataset: numpy array, the data\n",
        "    time_steps: the number of previous days to feed to RNN\n",
        "\n",
        "    returns:\n",
        "    tuple: a dataset with x[i] containing 'time_step' number of previous prices, target price for x[i]\n",
        "    \"\"\"\n",
        "    dataX, dataY = [],[]\n",
        "    for i in range(len(dataset)-time_steps-1):\n",
        "        a = dataset[i:(i+time_steps)]\n",
        "        dataX.append(a)\n",
        "        dataY.append(dataset[i + time_steps])\n",
        "    return np.array(dataX), np.array(dataY)"
      ],
      "execution_count": 11,
      "outputs": []
    },
    {
      "cell_type": "code",
      "metadata": {
        "id": "GtUFvFWuNmiQ"
      },
      "source": [
        "# Choose the number of time steps that the model \"looks back\"\n",
        "time_steps = 7### YOUR CODE HERE ###\n",
        "\n",
        "# Produce your dataset based on the number of days the model could look back\n",
        "\n",
        "### YOUR CODE HERE ###\n",
        "X, y = create_dataset(data_normalized, time_steps)\n",
        "X = np.reshape(X, (2494 - time_steps, time_steps))\n",
        "y = np.reshape(y, (2494 - time_steps,))\n"
      ],
      "execution_count": 55,
      "outputs": []
    },
    {
      "cell_type": "code",
      "metadata": {
        "id": "GUmwLVKQ9PVN",
        "colab": {
          "base_uri": "https://localhost:8080/"
        },
        "outputId": "308985ca-b012-4162-dabe-70dcbeefc5a1"
      },
      "source": [
        "# Check the shape of your dataset; should be (2495-time_steps-1, time_steps) and (2495-time_steps-1,)\n",
        "print(X.shape, y.shape)"
      ],
      "execution_count": 56,
      "outputs": [
        {
          "output_type": "stream",
          "text": [
            "(2487, 7) (2487,)\n"
          ],
          "name": "stdout"
        }
      ]
    },
    {
      "cell_type": "markdown",
      "metadata": {
        "id": "MBKjptQ4Sa7O"
      },
      "source": [
        "### Part b) Data Partitioning (5 points)"
      ]
    },
    {
      "cell_type": "markdown",
      "metadata": {
        "id": "lVOui6W0Nn-v"
      },
      "source": [
        "Split data into train and test sets. Use 80\\% for training and 20\\% for testing. **Note**: you need to split the data in time (the begining 80\\% of the days from start date will be the training data and the remaining 20\\% will be test data)."
      ]
    },
    {
      "cell_type": "code",
      "metadata": {
        "id": "q-lwp69bNn-v"
      },
      "source": [
        "### YOUR CODE HERE ###\n",
        "X_train, X_test, y_train, y_test = train_test_split(X, y, shuffle=False, test_size=0.2)"
      ],
      "execution_count": 57,
      "outputs": []
    },
    {
      "cell_type": "markdown",
      "metadata": {
        "id": "C3ylDfvKSRpt"
      },
      "source": [
        "For this dataset, you need to reshape the partitions for the model to be able to process them."
      ]
    },
    {
      "cell_type": "code",
      "metadata": {
        "id": "VGY8MCxWSRpv"
      },
      "source": [
        "# Reshape input to be [samples, time steps, features].\n",
        "X_train = np.reshape(X_train, (X_train.shape[0], 1, X_train.shape[1]))\n",
        "X_test = np.reshape(X_test, (X_test.shape[0], 1, X_test.shape[1]))"
      ],
      "execution_count": 58,
      "outputs": []
    },
    {
      "cell_type": "markdown",
      "metadata": {
        "id": "XT5ychZQTh_R"
      },
      "source": [
        "### Part c) RNN Model (20 points)\n",
        "---\n",
        "\n",
        "In this part you will create a model using an RNN layer (LSTM or GRU, unidirectional or bidirectional) and train it on your training data. You will also plot training and validation loss. Use mean squared error as your model's metric."
      ]
    },
    {
      "cell_type": "markdown",
      "metadata": {
        "id": "QI6ZFzquTh_R"
      },
      "source": [
        "Compile your model and display the summary:"
      ]
    },
    {
      "cell_type": "code",
      "metadata": {
        "id": "6UVNRGQlTh_S"
      },
      "source": [
        "# Build your model\n",
        "from tensorflow.keras import Sequential\n",
        "from tensorflow.keras.layers import LSTM, Dense, Dropout\n",
        "### YOUR CODE HERE ###\n",
        "model = Sequential()\n",
        "\n",
        "# Adding the input layer and the LSTM layer\n",
        "model.add(LSTM(4))\n",
        "\n",
        "# Adding the output layer\n",
        "model.add(Dense(1))\n",
        "\n",
        "loss = tf.keras.losses.MeanSquaredError()### YOUR CODE HERE ###\n",
        "\n",
        "opt = tf.keras.optimizers.Adam()### YOUR CODE HERE ###\n",
        "\n",
        "metrics = [tf.keras.metrics.MeanSquaredError()]### YOUR CODE HERE ###\n",
        "\n",
        "model.compile(loss=loss,\n",
        "              optimizer=opt,\n",
        "              metrics=metrics)"
      ],
      "execution_count": 66,
      "outputs": []
    },
    {
      "cell_type": "code",
      "metadata": {
        "id": "Cy6nV7WXTh_S",
        "colab": {
          "base_uri": "https://localhost:8080/"
        },
        "outputId": "3af90e83-5e2f-4f44-b930-0558e7e02de5"
      },
      "source": [
        "\n",
        "batchsize = 32### YOUR CODE HERE ###\n",
        "\n",
        "epochs =  5### YOUR CODE HERE ###\n",
        "\n",
        "# Fit model\n",
        "history = model.fit(X_train, \n",
        "                    y_train,\n",
        "                    batch_size=batchsize,\n",
        "                    epochs=epochs,\n",
        "                    validation_split=0.2\n",
        "                    )### YOUR CODE HERE ###\n"
      ],
      "execution_count": 67,
      "outputs": [
        {
          "output_type": "stream",
          "text": [
            "Epoch 1/5\n",
            "50/50 [==============================] - 3s 11ms/step - loss: 0.0054 - mean_squared_error: 0.0054 - val_loss: 0.0074 - val_mean_squared_error: 0.0074\n",
            "Epoch 2/5\n",
            "50/50 [==============================] - 0s 2ms/step - loss: 0.0028 - mean_squared_error: 0.0028 - val_loss: 0.0044 - val_mean_squared_error: 0.0044\n",
            "Epoch 3/5\n",
            "50/50 [==============================] - 0s 2ms/step - loss: 0.0014 - mean_squared_error: 0.0014 - val_loss: 0.0015 - val_mean_squared_error: 0.0015\n",
            "Epoch 4/5\n",
            "50/50 [==============================] - 0s 3ms/step - loss: 5.4581e-04 - mean_squared_error: 5.4581e-04 - val_loss: 6.5631e-04 - val_mean_squared_error: 6.5631e-04\n",
            "Epoch 5/5\n",
            "50/50 [==============================] - 0s 3ms/step - loss: 1.8994e-04 - mean_squared_error: 1.8994e-04 - val_loss: 2.1014e-04 - val_mean_squared_error: 2.1014e-04\n"
          ],
          "name": "stdout"
        }
      ]
    },
    {
      "cell_type": "code",
      "metadata": {
        "id": "_ymO0e_oTh_S",
        "colab": {
          "base_uri": "https://localhost:8080/",
          "height": 295
        },
        "outputId": "795ce60c-7069-40ed-9e29-1c7500ee42cf"
      },
      "source": [
        "# Plot the Model loss\n",
        "\n",
        "### YOUR CODE HERE ###\n",
        "plt.plot([x+1 for x in range(epochs)], history.history['loss'])\n",
        "plt.plot([x+1 for x in range(epochs)], history.history['val_loss'])\n",
        "plt.title('Model Loss')\n",
        "plt.ylabel('Loss')\n",
        "plt.xlabel('Epochs')\n",
        "plt.legend(['train', 'test'])\n",
        "plt.show()"
      ],
      "execution_count": 18,
      "outputs": [
        {
          "output_type": "display_data",
          "data": {
            "image/png": "[encoded data removed]",
            "text/plain": [
              "<Figure size 432x288 with 1 Axes>"
            ]
          },
          "metadata": {
            "tags": [],
            "needs_background": "light"
          }
        }
      ]
    },
    {
      "cell_type": "markdown",
      "metadata": {
        "id": "bZPc1zwFUWmv"
      },
      "source": [
        "### Part d) More Advanced RNN Model (20 points)\n",
        "---\n",
        "In this part you will create an RNN model with the number of layers and architerure you prefer. Train it on your training data. You will also plot training and validation loss. Again, use mean squared error as your metric. In this part, you can try different models and use different hyper-parameters and report only the best one."
      ]
    },
    {
      "cell_type": "markdown",
      "metadata": {
        "id": "vsDP4F6RUWmx"
      },
      "source": [
        "Compile your model and display the summary:"
      ]
    },
    {
      "cell_type": "code",
      "metadata": {
        "id": "VJqARE-aUWmx"
      },
      "source": [
        "# Build your model\n",
        "\n",
        "### YOUR CODE HERE ###\n",
        "model_tuned = Sequential()\n",
        "\n",
        "# Adding the input layer and the LSTM layer\n",
        "model_tuned.add(LSTM(10, return_sequences=True))\n",
        "model_tuned.add(LSTM(10, return_sequences=True))\n",
        "\n",
        "# Adding the output layer\n",
        "model_tuned.add(Dense(1))\n",
        "\n",
        "loss = tf.keras.losses.MeanSquaredError()### YOUR CODE HERE ###\n",
        "\n",
        "opt = tf.keras.optimizers.Adam()### YOUR CODE HERE ###\n",
        "\n",
        "metrics = [tf.keras.metrics.MeanSquaredError()]### YOUR CODE HERE ###\n",
        "\n",
        "model_tuned.compile(loss=loss,\n",
        "              optimizer=opt,\n",
        "              metrics=metrics)"
      ],
      "execution_count": 68,
      "outputs": []
    },
    {
      "cell_type": "code",
      "metadata": {
        "id": "kuloKr8QUWmy",
        "colab": {
          "base_uri": "https://localhost:8080/"
        },
        "outputId": "eb63b451-064b-4516-d2ba-a48270014a3d"
      },
      "source": [
        "batchsize = 64### YOUR CODE HERE ###\n",
        "\n",
        "epochs = 10### YOUR CODE HERE ###\n",
        "\n",
        "# Fit model\n",
        "history = model_tuned.fit(X_train, \n",
        "                    y_train,\n",
        "                    batch_size=batchsize,\n",
        "                    epochs=epochs,\n",
        "                    validation_split=0.2\n",
        "                    )### YOUR CODE HERE ###\n"
      ],
      "execution_count": 69,
      "outputs": [
        {
          "output_type": "stream",
          "text": [
            "Epoch 1/10\n",
            "25/25 [==============================] - 5s 40ms/step - loss: 0.0032 - mean_squared_error: 0.0032 - val_loss: 0.0042 - val_mean_squared_error: 0.0042\n",
            "Epoch 2/10\n",
            "25/25 [==============================] - 0s 4ms/step - loss: 0.0022 - mean_squared_error: 0.0022 - val_loss: 0.0039 - val_mean_squared_error: 0.0039\n",
            "Epoch 3/10\n",
            "25/25 [==============================] - 0s 5ms/step - loss: 0.0014 - mean_squared_error: 0.0014 - val_loss: 0.0017 - val_mean_squared_error: 0.0017\n",
            "Epoch 4/10\n",
            "25/25 [==============================] - 0s 5ms/step - loss: 5.7603e-04 - mean_squared_error: 5.7603e-04 - val_loss: 4.9718e-04 - val_mean_squared_error: 4.9718e-04\n",
            "Epoch 5/10\n",
            "25/25 [==============================] - 0s 4ms/step - loss: 1.3135e-04 - mean_squared_error: 1.3135e-04 - val_loss: 1.0905e-04 - val_mean_squared_error: 1.0905e-04\n",
            "Epoch 6/10\n",
            "25/25 [==============================] - 0s 4ms/step - loss: 7.5470e-05 - mean_squared_error: 7.5470e-05 - val_loss: 1.0305e-04 - val_mean_squared_error: 1.0305e-04\n",
            "Epoch 7/10\n",
            "25/25 [==============================] - 0s 4ms/step - loss: 7.2134e-05 - mean_squared_error: 7.2134e-05 - val_loss: 9.8607e-05 - val_mean_squared_error: 9.8607e-05\n",
            "Epoch 8/10\n",
            "25/25 [==============================] - 0s 5ms/step - loss: 7.1074e-05 - mean_squared_error: 7.1074e-05 - val_loss: 9.6682e-05 - val_mean_squared_error: 9.6682e-05\n",
            "Epoch 9/10\n",
            "25/25 [==============================] - 0s 5ms/step - loss: 7.0135e-05 - mean_squared_error: 7.0135e-05 - val_loss: 9.4515e-05 - val_mean_squared_error: 9.4515e-05\n",
            "Epoch 10/10\n",
            "25/25 [==============================] - 0s 4ms/step - loss: 6.9251e-05 - mean_squared_error: 6.9251e-05 - val_loss: 8.7607e-05 - val_mean_squared_error: 8.7607e-05\n"
          ],
          "name": "stdout"
        }
      ]
    },
    {
      "cell_type": "code",
      "metadata": {
        "id": "WiIh66vMUWmy",
        "colab": {
          "base_uri": "https://localhost:8080/",
          "height": 295
        },
        "outputId": "d123cb0c-3821-4d62-8666-2364ac559a6c"
      },
      "source": [
        "# Plot the Model loss\n",
        "\n",
        "### YOUR CODE HERE ###\n",
        "plt.plot([x+1 for x in range(10)], history.history['loss'])\n",
        "plt.plot([x+1 for x in range(10)], history.history['val_loss'])\n",
        "plt.title('Model Loss')\n",
        "plt.ylabel('Loss')\n",
        "plt.xlabel('Epochs')\n",
        "plt.legend(['train', 'test'])\n",
        "plt.show()"
      ],
      "execution_count": 70,
      "outputs": [
        {
          "output_type": "display_data",
          "data": {
            "image/png": "[encoded data removed]",
            "text/plain": [
              "<Figure size 432x288 with 1 Axes>"
            ]
          },
          "metadata": {
            "tags": [],
            "needs_background": "light"
          }
        }
      ]
    },
    {
      "cell_type": "markdown",
      "metadata": {
        "id": "GkDcoN3CUWmy"
      },
      "source": [
        "### Part e): Looking at the Predictions (10 points)\n",
        "---\n",
        "\n",
        "Now, Using the final (best) model you trained, show your model's performance on the test set. Plot the model's prediction for Bitcoin Price along with the actual test set prices. Lastly, note how your model's predictions change with your model's architecture and the number of days you \"look back\". Does your model perform better with more \"look back days\" or less. Did adding more layers help? Does your model use dropout or batchnormalization?\n",
        "\n",
        "**Note:** Your model is trained on normalized data. Inorder to transform your model's predictions to the original price range you will likely need to use sklearn's inverse_transform (https://scikit-learn.org/stable/modules/generated/sklearn.preprocessing.StandardScaler.html)"
      ]
    },
    {
      "cell_type": "code",
      "metadata": {
        "id": "m7dZ2Of1R4kI"
      },
      "source": [
        "### YOUR CODE HERE ###"
      ],
      "execution_count": null,
      "outputs": []
    },
    {
      "cell_type": "markdown",
      "metadata": {
        "id": "1to7eXUQNbDd"
      },
      "source": [
        "My final model lands on around 8.76e-05 for validation loss.\\\n",
        "While I was changing the hyperparameters, I found that adding LSTM layer and increase number of units decrease losses but adding dropout layers increase losses a lot.\\\n",
        "I started with 30 look back days. Then I change to 14, 7 and 3. I figured having a smaller look back days will make the losses decrease faster through each epoch. 30 look back days have a relatively smooth loss curve.\\\n",
        "I finalized on 7 look back days with starts with a slightly higher loss but decrease very fast, end up with the smallest validation loss. If the look back days become too small, model performance with actually be worse. "
      ]
    },
    {
      "cell_type": "markdown",
      "metadata": {
        "id": "E3iSKUeej-zA"
      },
      "source": [
        "## Question 3: Denoising Autoencoder\n"
      ]
    },
    {
      "cell_type": "markdown",
      "metadata": {
        "id": "agjvMlaJCxjo"
      },
      "source": [
        "You will now build a simple denoising autoencoder using the MNIST Fashion dataset. Begin by getting our imports and downloading the dataset."
      ]
    },
    {
      "cell_type": "code",
      "metadata": {
        "id": "oWSpcNIzv5hH",
        "colab": {
          "base_uri": "https://localhost:8080/"
        },
        "outputId": "e573c063-352e-423f-d749-44d4c3515342"
      },
      "source": [
        "import os\n",
        "import numpy as np\n",
        "from keras.datasets import fashion_mnist\n",
        "\n",
        "# Data visualizaton.\n",
        "import matplotlib.pyplot as plt\n",
        "from matplotlib import style\n",
        "import seaborn as sns\n",
        "import random as rn\n",
        "rn.seed(123)\n",
        "np.random.seed(seed=123)\n",
        "\n",
        "(x_train, y_train), (x_test, y_test) = fashion_mnist.load_data()\n",
        "%matplotlib inline"
      ],
      "execution_count": 71,
      "outputs": [
        {
          "output_type": "stream",
          "text": [
            "Downloading data from https://storage.googleapis.com/tensorflow/tf-keras-datasets/train-labels-idx1-ubyte.gz\n",
            "32768/29515 [=================================] - 0s 0us/step\n",
            "40960/29515 [=========================================] - 0s 0us/step\n",
            "Downloading data from https://storage.googleapis.com/tensorflow/tf-keras-datasets/train-images-idx3-ubyte.gz\n",
            "26427392/26421880 [==============================] - 0s 0us/step\n",
            "26435584/26421880 [==============================] - 0s 0us/step\n",
            "Downloading data from https://storage.googleapis.com/tensorflow/tf-keras-datasets/t10k-labels-idx1-ubyte.gz\n",
            "16384/5148 [===============================================================================================] - 0s 0us/step\n",
            "Downloading data from https://storage.googleapis.com/tensorflow/tf-keras-datasets/t10k-images-idx3-ubyte.gz\n",
            "4423680/4422102 [==============================] - 0s 0us/step\n",
            "4431872/4422102 [==============================] - 0s 0us/step\n"
          ],
          "name": "stdout"
        }
      ]
    },
    {
      "cell_type": "code",
      "metadata": {
        "id": "BE9HJtpmZh-F"
      },
      "source": [
        "# Plot some of the images from x_test\n",
        "fig, ax = plt.subplots(5, 4)\n",
        "fig.set_size_inches(15, 15)\n",
        "\n",
        "for i in range(5):\n",
        "    for j in range(4):\n",
        "        l=rn.randint(0, len(y_test))\n",
        "        ax[i, j].imshow(x_test[l], cmap='gray')\n",
        "        ax[i, j].set_title('Label: ' + str(y_test[l]))\n",
        "        # Hide grid lines\n",
        "        ax[i, j].grid(False)\n",
        "        # Hide axes ticks\n",
        "        ax[i, j].set_xticks([])\n",
        "        ax[i, j].set_yticks([])\n",
        "        \n",
        "plt.tight_layout()"
      ],
      "execution_count": null,
      "outputs": []
    },
    {
      "cell_type": "markdown",
      "metadata": {
        "id": "Voahh8ByazLv"
      },
      "source": [
        "As expected, we have the MNIST Fashion dataset. Now, noise will be added to the images in boath x_train and x_test. Then, we will plot some of the noisy images from x_train. This may take a little while."
      ]
    },
    {
      "cell_type": "code",
      "metadata": {
        "id": "jpX-mNNWdDW_"
      },
      "source": [
        "def corrupt_pixel(image):\n",
        "    \"\"\"selects a certain number of pixels (between 50 and 100) and changes their value to 255\"\"\"\n",
        "    num_pixels = np.random.randint(50,100)\n",
        "    img = image.copy()\n",
        "\n",
        "    for i in range(num_pixels):\n",
        "        cell = np.random.randint(0,28,size = 2)\n",
        "        img[cell[0]][cell[1]] = np.random.randint(125,255)\n",
        "    return img"
      ],
      "execution_count": null,
      "outputs": []
    },
    {
      "cell_type": "code",
      "metadata": {
        "id": "kfIQ2VhsZhtn"
      },
      "source": [
        "# corrupt the images\n",
        "x_train_noisy = [] #x_train with noise added\n",
        "for image in x_train:\n",
        "    x_train_noisy.append(corrupt_pixel(image))\n",
        "\n",
        "x_test_noisy = [] #x_test with noise added\n",
        "for image in x_test:\n",
        "    x_test_noisy.append(corrupt_pixel(image))"
      ],
      "execution_count": null,
      "outputs": []
    },
    {
      "cell_type": "code",
      "metadata": {
        "id": "koQMPCpYZhke"
      },
      "source": [
        "# Replot some of the test images with noise added\n",
        "rn.seed(123)\n",
        "np.random.seed(seed=123)\n",
        "\n",
        "fig, ax = plt.subplots(5, 4)\n",
        "fig.set_size_inches(15, 15)\n",
        "\n",
        "for i in range(5):\n",
        "    for j in range(4):\n",
        "        l=rn.randint(0, len(y_test))\n",
        "        ax[i, j].imshow(x_test_noisy[l], cmap='gray')\n",
        "        ax[i, j].set_title('Label: ' + str(y_test[l]))\n",
        "        # Hide grid lines\n",
        "        ax[i, j].grid(False)\n",
        "        # Hide axes ticks\n",
        "        ax[i, j].set_xticks([])\n",
        "        ax[i, j].set_yticks([])\n",
        "        \n",
        "plt.tight_layout()"
      ],
      "execution_count": null,
      "outputs": []
    },
    {
      "cell_type": "markdown",
      "metadata": {
        "id": "WDGQ3eOaj4dJ"
      },
      "source": [
        "We can now see that we have corrupted the images. We will now build a denoising autoencoder to hopefully remove some of the noise. First, data will be normalize the data and an extra dimension will be added to the images."
      ]
    },
    {
      "cell_type": "code",
      "metadata": {
        "id": "1J9LHYT5kf86"
      },
      "source": [
        "# Scale X_train to 255. which is max\n",
        "x_train  = np.array(x_train)/255.\n",
        "\n",
        "# Reshape X_train to (N,28,28,1) for convolution layers\n",
        "x_train = x_train.reshape(len(x_train),28,28,1)\n",
        "\n",
        "# Scale X_test to 255. which is max\n",
        "x_test  = np.array(x_test)/255.\n",
        "\n",
        "# Reshape X_train to (N,28,28,1) for convolution layers\n",
        "x_test = x_test.reshape(len(x_test),28,28,1)\n",
        "\n",
        "# Scale X_train to 255. which is max\n",
        "x_train_noisy  = np.array(x_train_noisy)/255.\n",
        "\n",
        "# Reshape X_train to (N,28,28,1) for convolution layers\n",
        "x_train_noisy = x_train_noisy.reshape(len(x_train_noisy),28,28,1)\n",
        "\n",
        "# Scale X_test to 255. which is max\n",
        "x_test_noisy  = np.array(x_test_noisy)/255.\n",
        "\n",
        "# Reshape X_train to (N,28,28,1) for convolution layers\n",
        "x_test_noisy = x_test_noisy.reshape(len(x_test_noisy),28,28,1)"
      ],
      "execution_count": null,
      "outputs": []
    },
    {
      "cell_type": "markdown",
      "metadata": {
        "id": "VJxWpFG-8DnD"
      },
      "source": [
        "### Part a) Build the autoencoder (20 points)\n"
      ]
    },
    {
      "cell_type": "markdown",
      "metadata": {
        "id": "KixYF61_C4kB"
      },
      "source": [
        " Now we will build the autoencoder. You are free to build an architecture of your choice. Again, You are welcome to use any code from previous class exercises, section handouts, and lectures. Build your model below and comment on your model's architecture. Do you have convolution layers, or a fully connected encoder, dropout and/or batch normalization, what kind of activation did you use? It may help to think about the encoder/decoder architectures simultaneously.\n",
        "\n",
        "You may use the TensorFlow documentation freely. You might also find online tutorials helpful. However, all code that you submit must be your own.\n"
      ]
    },
    {
      "cell_type": "code",
      "metadata": {
        "id": "bPZtzNoWoBs-"
      },
      "source": [
        "# Build your model\n",
        "\n",
        "### YOUR CODE HERE ###"
      ],
      "execution_count": null,
      "outputs": []
    },
    {
      "cell_type": "markdown",
      "metadata": {
        "id": "nKW__2rBvKRo"
      },
      "source": [
        "[YOUR ANSWER HERE]"
      ]
    },
    {
      "cell_type": "markdown",
      "metadata": {
        "id": "Tl0LytJav9n1"
      },
      "source": [
        "### Part b) Training the autoencoder (10 points)\n",
        "Write code that trains your autoencoder. Use mean square error as your loss, choose an optimizer of your choice. Be\n",
        "\n",
        "Plot the training curve as well."
      ]
    },
    {
      "cell_type": "code",
      "metadata": {
        "id": "PNtqonrfza3E"
      },
      "source": [
        "# Compile your model\n",
        "\n",
        "### YOUR CODE HERE ###\n",
        "\n",
        "# Train the autoencoder\n",
        "\n",
        "### YOUR CODE HERE ###\n"
      ],
      "execution_count": null,
      "outputs": []
    },
    {
      "cell_type": "code",
      "metadata": {
        "id": "vErU2GXOw1qL"
      },
      "source": [
        "# Plot the training curve for loss\n",
        "\n",
        "### YOUR CODE HERE ###\n"
      ],
      "execution_count": null,
      "outputs": []
    },
    {
      "cell_type": "markdown",
      "metadata": {
        "id": "idxeQgj5wvzS"
      },
      "source": [
        "### Part c) Plot images and comment (10 points)"
      ]
    },
    {
      "cell_type": "markdown",
      "metadata": {
        "id": "OtbP4k7oxZtJ"
      },
      "source": [
        "Plot images some of the \"denoised\" images from the test set. Comment on how your model has performed. Was your model able to denoise the image successfully? Is there anything unexpected results about the images? MSE error is known to smooth an image too much, did your model suffere the same result?"
      ]
    },
    {
      "cell_type": "code",
      "metadata": {
        "id": "dYWjzq30xLR2"
      },
      "source": [
        "# Plot images some of the \"denoised\" images from the test set\n",
        "\n",
        "### YOUR CODE HERE ###\n"
      ],
      "execution_count": null,
      "outputs": []
    },
    {
      "cell_type": "markdown",
      "metadata": {
        "id": "L0OhDL1dLyGY"
      },
      "source": [
        "[YOUR ANSWER HERE]"
      ]
    }
  ]
}