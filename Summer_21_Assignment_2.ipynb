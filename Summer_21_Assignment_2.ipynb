{
  "nbformat": 4,
  "nbformat_minor": 0,
  "metadata": {
    "colab": {
      "name": "Summer_21_Assignment_2.ipynb",
      "provenance": [],
      "collapsed_sections": [],
      "include_colab_link": true
    },
    "kernelspec": {
      "display_name": "Python 3",
      "language": "python",
      "name": "python3"
    },
    "language_info": {
      "codemirror_mode": {
        "name": "ipython",
        "version": 3
      },
      "file_extension": ".py",
      "mimetype": "text/x-python",
      "name": "python",
      "nbconvert_exporter": "python",
      "pygments_lexer": "ipython3",
      "version": "3.8.5"
    }
  },
  "cells": [
    {
      "cell_type": "markdown",
      "metadata": {
        "id": "view-in-github",
        "colab_type": "text"
      },
      "source": [
        "<a href=\"https://colab.research.google.com/github/KevinW824/CSE-144-Applied-Machine-Learning/blob/main/Summer_21_Assignment_2.ipynb\" target=\"_parent\"><img src=\"https://colab.research.google.com/assets/colab-badge.svg\" alt=\"Open In Colab\"/></a>"
      ]
    },
    {
      "cell_type": "code",
      "metadata": {
        "id": "2IlwhV0z2nMr"
      },
      "source": [
        "%matplotlib inline"
      ],
      "execution_count": null,
      "outputs": []
    },
    {
      "cell_type": "markdown",
      "metadata": {
        "id": "Chprzdhe2nMw"
      },
      "source": [
        "# Assignment 2\n",
        "\n",
        "**DUE: Sunday July 4 at 11:59pm**\n",
        "\n",
        "Turn in the assignment via Canvas.\n",
        "\n",
        "To write legible answers you will need to be familiar with both [Markdown](https://github.com/adam-p/markdown-here/wiki/Markdown-Cheatsheet) and [Latex](https://www.latex-tutorial.com/tutorials/amsmath/)\n",
        "\n",
        "Before you turn this problem in, make sure everything runs as expected. First, restart the kernel (in the menubar, select Runtime→→Restart runtime) and then run all cells (in the menubar, select Runtime→→Run All).\n",
        "\n",
        "Make sure you fill in any place that says \"YOUR CODE HERE\" or \"YOUR ANSWER HERE\", as well as your name below:"
      ]
    },
    {
      "cell_type": "code",
      "metadata": {
        "id": "8jeWubXE2nMx"
      },
      "source": [
        "NAME = \"\"\n",
        "STUDENT_ID = \"\""
      ],
      "execution_count": null,
      "outputs": []
    },
    {
      "cell_type": "markdown",
      "metadata": {
        "id": "ozDglVovkHJJ"
      },
      "source": [
        "## Problem 1 - Yield Dataset with Polynomial Regression"
      ]
    },
    {
      "cell_type": "code",
      "metadata": {
        "id": "7qm6WAqNPRRu"
      },
      "source": [
        "import numpy as np\n",
        "import matplotlib.pyplot as plt\n",
        "import pandas as pd\n",
        "import seaborn as sns"
      ],
      "execution_count": null,
      "outputs": []
    },
    {
      "cell_type": "markdown",
      "metadata": {
        "id": "q20rkd3LlkHs"
      },
      "source": [
        "This data set of size n = 15 contains measurements of yield from an experiment done at five different temperature levels. The variables are y = yield and x = temperature in degrees Fahrenheit. Download the data from PyDrive."
      ]
    },
    {
      "cell_type": "code",
      "metadata": {
        "id": "oyKWchKWIvPi"
      },
      "source": [
        "!pip install -U -q PyDrive\n",
        "from pydrive.auth import GoogleAuth\n",
        "from pydrive.drive import GoogleDrive\n",
        "from google.colab import auth\n",
        "from oauth2client.client import GoogleCredentials"
      ],
      "execution_count": null,
      "outputs": []
    },
    {
      "cell_type": "code",
      "metadata": {
        "id": "UwexIqp8I_lF"
      },
      "source": [
        "auth.authenticate_user()\n",
        "gauth = GoogleAuth()\n",
        "gauth.credentials = GoogleCredentials.get_application_default()\n",
        "drive = GoogleDrive(gauth)"
      ],
      "execution_count": null,
      "outputs": []
    },
    {
      "cell_type": "code",
      "metadata": {
        "id": "dLF5xucumaai"
      },
      "source": [
        "downloaded = drive.CreateFile({'id':\"1snU4nKrW72fgaEYzWvnrK0iRhsVX2W7N\"})\n",
        "downloaded.GetContentFile('yield.csv')  "
      ],
      "execution_count": null,
      "outputs": []
    },
    {
      "cell_type": "code",
      "metadata": {
        "id": "kpxch0eIm2D3"
      },
      "source": [
        "# Create pandas dataframe\n",
        "data = pd.read_csv('yield.csv')"
      ],
      "execution_count": null,
      "outputs": []
    },
    {
      "cell_type": "code",
      "metadata": {
        "id": "wEGGgoy6nD4w"
      },
      "source": [
        "# Let's look at the data\n",
        "data"
      ],
      "execution_count": null,
      "outputs": []
    },
    {
      "cell_type": "code",
      "metadata": {
        "id": "u1E3XKXgnIqq"
      },
      "source": [
        "# Look at data description\n",
        "data.describe()"
      ],
      "execution_count": null,
      "outputs": []
    },
    {
      "cell_type": "code",
      "metadata": {
        "id": "_CZhvRnRogIL"
      },
      "source": [
        "# Split data in X and y using pandas functionality.\n",
        "X = data.iloc[:,0] # Create vector of explanatory variables\n",
        "y = data.iloc[:,1] # Create vector of target variables\n",
        "\n",
        "#cast dataframes into numpy arrays\n",
        "X = X.values\n",
        "y = y.values\n",
        "\n",
        "\n",
        "# Split data into X_train, Y_train, X_test y_test using sklearn\n",
        "from sklearn.model_selection import train_test_split\n",
        "X_train, X_test, y_train, y_test = train_test_split(X, y, test_size = 0.30, random_state = 0)\n",
        "\n",
        "# Reshape X_train, X_test for sklearn LinearRegression\n",
        "X_train = X_train.reshape(-1,1)\n",
        "X_test = X_test.reshape(-1,1)"
      ],
      "execution_count": null,
      "outputs": []
    },
    {
      "cell_type": "markdown",
      "metadata": {
        "id": "P-6uuoH9m31F"
      },
      "source": [
        "### a) Linear Regression (10 points)"
      ]
    },
    {
      "cell_type": "markdown",
      "metadata": {
        "id": "cO7NdJ0YnNfi"
      },
      "source": [
        "We will run a simple linear regression on this well curated dataset using sklearn's **LinearRegression**.\n",
        "\n",
        "Hint: Review the sklearn docs https://scikit-learn.org/stable/modules/generated/sklearn.linear_model.LinearRegression.html and class exercise."
      ]
    },
    {
      "cell_type": "code",
      "metadata": {
        "id": "dvZTcsNzpZXq"
      },
      "source": [
        "from sklearn.linear_model import LinearRegression\n",
        "# instantiate LinearRegression\n",
        "regressor = ### YOUR CODE HERE ### \n",
        "\n",
        "# Fit the regressor using X_train and y_train\n",
        "### YOUR CODE HERE ###"
      ],
      "execution_count": null,
      "outputs": []
    },
    {
      "cell_type": "markdown",
      "metadata": {
        "id": "YEUvILxltp1o"
      },
      "source": [
        "Let's now visually inspect the model and see how well this model predicts the yield. First, we will plot the yield vs temp. points from training set in black. Then, we will plot the regression line in red. Predictions from the regression model lie along the red line."
      ]
    },
    {
      "cell_type": "code",
      "metadata": {
        "id": "qkaRSeQxs00h"
      },
      "source": [
        "#Plot the actual yield (y_train) vs temp. values from training set\n",
        "plt.scatter(X_train, y_train,  color='black', label = \"yield\")\n",
        "\n",
        "# Plot the regression line\n",
        "x = np.linspace(50, 100,15) # Generate 15 points to plot our regression line\n",
        "x = x.reshape(-1,1) # reshape data for our regression\n",
        "y = regressor.predict(x) # feed x's into regressor\n",
        "plt.plot(x, y, color='red', linewidth=3, label = \"regression line\") # plot the regression line\n",
        "\n",
        "plt.legend(loc='lower right')\n",
        "plt.title('Training set yield vs. temp With Regression Line')\n",
        "plt.show()"
      ],
      "execution_count": null,
      "outputs": []
    },
    {
      "cell_type": "markdown",
      "metadata": {
        "id": "VDEu6LcfuLG4"
      },
      "source": [
        "Let's also visually inspect the prediction results from the test set."
      ]
    },
    {
      "cell_type": "code",
      "metadata": {
        "id": "pNppCKKTrHtW"
      },
      "source": [
        "#Plot the actual yield (y_train) vs temp. values  for the test set\n",
        "plt.scatter(X_test, y_test,  color='black', label = \"yield\")\n",
        "\n",
        "# Plot the regression line\n",
        "x = np.linspace(50, 100,15) # Generate 15 points to plot our regression line\n",
        "x = x.reshape(-1,1) # reshape data for our regression\n",
        "y = regressor.predict(x) # feed x's into regressor\n",
        "plt.plot(x, y, color='red', linewidth=3, label = \"regression line\") # plot the regression line\n",
        "\n",
        "plt.legend(loc='lower right')\n",
        "plt.title('Test set yield vs. temp with regression line')\n",
        "plt.show()"
      ],
      "execution_count": null,
      "outputs": []
    },
    {
      "cell_type": "markdown",
      "metadata": {
        "id": "dlHfuG_UYnfG"
      },
      "source": [
        "### b) Inspecting linear regression model (5 points)"
      ]
    },
    {
      "cell_type": "markdown",
      "metadata": {
        "id": "nNWLywqeuzR9"
      },
      "source": [
        "After inspecting the results visually, does this model appear to be a good or bad fit on the test set and training set? "
      ]
    },
    {
      "cell_type": "markdown",
      "metadata": {
        "id": "og-QtiEOvKgn"
      },
      "source": [
        "[YOUR ANSWER HERE]"
      ]
    },
    {
      "cell_type": "markdown",
      "metadata": {
        "id": "OrI7XG0qP0aW"
      },
      "source": [
        "Does the model display signs of underfitting? If so why?"
      ]
    },
    {
      "cell_type": "markdown",
      "metadata": {
        "id": "1z9GhfWcP_eO"
      },
      "source": [
        "[YOUR ANSWER HERE]"
      ]
    },
    {
      "cell_type": "markdown",
      "metadata": {
        "id": "UfmMI_k5vZLx"
      },
      "source": [
        "### c) Polynomial Regression (10 points)"
      ]
    },
    {
      "cell_type": "markdown",
      "metadata": {
        "id": "-OVJMeKAyb2J"
      },
      "source": [
        "Data may not follow a linear relationship from the independent variable $X$ to the dependent variable $y$. Fitting a linear model to this would be inaccurate and yield a high loss. \n",
        "\n",
        "If we want to model an order $d$ polynomial relationship between $X$ and $y$ we can augment our initial linear model where instead of having:\n",
        "$$\n",
        "y_i = \\theta_0 + \\theta_1 x_i\n",
        "$$\n",
        "\n",
        "We have:\n",
        "\n",
        "$$\n",
        "y_i = \\theta_0 + \\theta_1 x_i + \\theta_2 x_i^2 + \\cdots + \\theta_d x_i^d\n",
        "$$\n",
        "\n",
        "We can use the same linear regression algorithm we if we first augment $X$ and add extra columns (or dimensions). \n",
        "\n",
        "$$ \\textbf X =\n",
        "\\begin{bmatrix}\n",
        "    x_{1}       & x_{1}^2 & \\cdots & x_{1}^d \\\\\n",
        "    x_{2}       & x_{2}^2 & \\cdots & x_{2}^d \\\\\n",
        "    \\vdots       & \\vdots & \\ddots & \\vdots \\\\\n",
        "    x_{n}       & x_{n}^2 & \\cdots & x_{n}^d\n",
        "\\end{bmatrix}$$\n",
        "\n",
        "Then our new higher order $\\hat y$ is computed same as before.\n",
        "\n",
        "$$ \\hat y =  X \\theta =\n",
        "\\begin{bmatrix}\n",
        "    1 & x_{1}       & x_{1}^2 & \\cdots & x_{1}^d \\\\\n",
        "    1 & x_{2}       & x_{2}^2 & \\cdots & x_{2}^d \\\\\n",
        "    \\vdots & \\vdots       & \\vdots & \\ddots & \\vdots \\\\\n",
        "    1 & x_{n}       & x_{n}^2 & \\cdots & x_{n}^d\n",
        "\\end{bmatrix}\n",
        "\\begin{bmatrix}\\theta_0 \\\\ \\theta_1 \\\\ \\vdots \\\\ \\theta_{d} \n",
        "\\end{bmatrix}=\n",
        "\\begin{bmatrix}\n",
        "    \\theta_0 + \\theta_1 x_{1} + \\theta_2 x_{1}^2 + \\cdots + \\theta_{d}  x_{1}^d \\\\\n",
        "    \\theta_0 + \\theta_1 x_{2} + \\theta_2 x_{2}^2 + \\cdots + \\theta_{d}  x_{2}^d  \\\\\n",
        "    \\vdots   \\\\\n",
        "    \\theta_0 + \\theta_1 x_{n} + \\theta_2 x_{n}^2 + \\cdots + \\theta_{d}  x_{n}^d\n",
        "\\end{bmatrix} \n",
        "= \\begin{bmatrix}\\hat y_1 \\\\ \\hat y_2 \\\\ \\vdots \\\\ \\hat y_{n} \n",
        "\\end{bmatrix}$$"
      ]
    },
    {
      "cell_type": "markdown",
      "metadata": {
        "id": "GEgFFYh9vppr"
      },
      "source": [
        "Using sklearn's **PolynomialFeatures** functionality, we will now transform X_train and X_test into second order polynomial space.\n",
        "\n",
        "For more info: https://scikit-learn.org/stable/modules/generated/sklearn.preprocessing.PolynomialFeatures.html"
      ]
    },
    {
      "cell_type": "code",
      "metadata": {
        "id": "KTMHoLIxw61l"
      },
      "source": [
        "# First, lets look at the values of X_train\n",
        "print(X_train)"
      ],
      "execution_count": null,
      "outputs": []
    },
    {
      "cell_type": "code",
      "metadata": {
        "id": "kPEUwbX0wN5-"
      },
      "source": [
        "from sklearn.preprocessing import PolynomialFeatures\n",
        "\n",
        "#Create polynomial transform of degree 2\n",
        "poly = PolynomialFeatures(2)\n",
        "\n",
        "# Transform X_train X_test\n",
        "X_train_pol = poly.fit_transform(X_train)\n",
        "X_test_pol = poly.fit_transform(X_test)\n",
        "\n",
        "# Print X_train_pol\n",
        "print(X_train_pol)"
      ],
      "execution_count": null,
      "outputs": []
    },
    {
      "cell_type": "markdown",
      "metadata": {
        "id": "FByoPNOWxK_o"
      },
      "source": [
        "We can now fit a second degree polynomial regression model to the transformed data."
      ]
    },
    {
      "cell_type": "code",
      "metadata": {
        "id": "z2nbImhTzHDV"
      },
      "source": [
        "from sklearn.linear_model import LinearRegression\n",
        "# instantiate LinearRegression\n",
        "regressor = ### YOUR CODE HERE ### \n",
        "\n",
        "# Fit the regressor using X_train_pol and y_train\n",
        "### YOUR CODE HERE ###"
      ],
      "execution_count": null,
      "outputs": []
    },
    {
      "cell_type": "markdown",
      "metadata": {
        "id": "P2mFEIoB0IdM"
      },
      "source": [
        "Now, visually inspect the polynomial regression model and see how well this model predicts the yield on the training set. yield vs. temp. points are plotted in black along with the polynomial regression line in red."
      ]
    },
    {
      "cell_type": "code",
      "metadata": {
        "id": "nZ3TpGZ30IdN"
      },
      "source": [
        "#Plot the actual yield (y_train) vs temp. values from training set\n",
        "plt.scatter(X_train, y_train,  color='black', label = \"yield\")\n",
        "\n",
        "# Plot the regression line\n",
        "x = np.linspace(50, 100,15) # Generate 15 points to plot our regression line\n",
        "x = x.reshape(-1,1) # reshape for our regression\n",
        "y = regressor.predict(poly.fit_transform(x)) # feed transformed x's into regressor\n",
        "plt.plot(x, y, color='red', label = \"regression line\") # plot regression line\n",
        "\n",
        "plt.legend(loc='lower right')\n",
        "plt.title('Test set yield vs. temp with polynomial regression line')\n",
        "plt.show()"
      ],
      "execution_count": null,
      "outputs": []
    },
    {
      "cell_type": "markdown",
      "metadata": {
        "id": "eiN6blfA0zsr"
      },
      "source": [
        "Lastly, lets plot the test set yield vs. temp. points along with the polynomial regression line."
      ]
    },
    {
      "cell_type": "code",
      "metadata": {
        "id": "3fcQtM8g00_z"
      },
      "source": [
        "#Plot the actual yield (y_train) vs temp. values from training set\n",
        "plt.scatter(X_test, y_test,  color='black', label = \"yield\")\n",
        "\n",
        "# Plot the regression line\n",
        "x = np.linspace(50, 100,15) # Generate 15 points to plot our regression line\n",
        "x = x.reshape(-1,1) # reshape for our regression\n",
        "y = regressor.predict(poly.fit_transform(x)) # feed transformed x's into regressor\n",
        "plt.plot(x, y, color='red', label = \"regression line\") # plot regression line\n",
        "\n",
        "plt.legend(loc='lower right')\n",
        "plt.title('Test set yield vs. temp with polynomial regression line')\n",
        "plt.show()"
      ],
      "execution_count": null,
      "outputs": []
    },
    {
      "cell_type": "markdown",
      "metadata": {
        "id": "Di8yHQU2Yukr"
      },
      "source": [
        "### d) Inpsecting polynomial regression model (5 points)"
      ]
    },
    {
      "cell_type": "markdown",
      "metadata": {
        "id": "czHSwZxX-WfG"
      },
      "source": [
        "After inspecting the polynomial regression model, does the model appear to be a better fit than simple linear regression? "
      ]
    },
    {
      "cell_type": "markdown",
      "metadata": {
        "id": "nEXJnHhG-pJ-"
      },
      "source": [
        "[YOUR ANSWER HERE]"
      ]
    },
    {
      "cell_type": "markdown",
      "metadata": {
        "id": "1_-ZNVBuQJ0X"
      },
      "source": [
        "Does the model address display more or less underfitting than the simple linear regression model and why?"
      ]
    },
    {
      "cell_type": "markdown",
      "metadata": {
        "id": "dLeDdBynQO0Y"
      },
      "source": [
        "[YOUR ANSWER HERE]"
      ]
    },
    {
      "cell_type": "markdown",
      "metadata": {
        "id": "CazISR8X_HUG"
      },
      "source": [
        "## Problem 2 - Fish Dataset"
      ]
    },
    {
      "cell_type": "markdown",
      "metadata": {
        "id": "vgC61-ah_WIz"
      },
      "source": [
        "## Importing the dataset"
      ]
    },
    {
      "cell_type": "markdown",
      "metadata": {
        "id": "QlPD4uh5ImZE"
      },
      "source": [
        "We will now perform different variations of linear regression to predict fish weight given Species, weight, and physical measurements. The different attributes of the data are:\n",
        "\n",
        "- Species: species name of fish\n",
        "\n",
        "- Weight: weight of fish in Gram g\n",
        "\n",
        "- Length1: vertical length in cm\n",
        "\n",
        "- Length2: diagonal length in cm\n",
        "\n",
        "- Length3: cross length in cm\n",
        "\n",
        "- Height: height in cm\n",
        "\n",
        "- Width: diagonal width in cm\n",
        "\n",
        "Begin by downloading the Fish.csv file from google drive. Make sure to select your @ucsc.edu email when authorizing access to your account. "
      ]
    },
    {
      "cell_type": "code",
      "metadata": {
        "id": "RMy-21iKABVc"
      },
      "source": [
        "!pip install -U -q PyDrive\n",
        "from pydrive.auth import GoogleAuth\n",
        "from pydrive.drive import GoogleDrive\n",
        "from google.colab import auth\n",
        "from oauth2client.client import GoogleCredentials"
      ],
      "execution_count": null,
      "outputs": []
    },
    {
      "cell_type": "code",
      "metadata": {
        "id": "BTvM0_JzABVc"
      },
      "source": [
        "auth.authenticate_user()\n",
        "gauth = GoogleAuth()\n",
        "gauth.credentials = GoogleCredentials.get_application_default()\n",
        "drive = GoogleDrive(gauth)"
      ],
      "execution_count": null,
      "outputs": []
    },
    {
      "cell_type": "code",
      "metadata": {
        "id": "NLDSqS7_JD0j"
      },
      "source": [
        "# Download the Fish data\n",
        "downloaded = drive.CreateFile({'id':\"1AtMi-xCejVlhYS5qjgjjW4gH-TLuWJjC\"})\n",
        "downloaded.GetContentFile('Fish.csv')  "
      ],
      "execution_count": null,
      "outputs": []
    },
    {
      "cell_type": "code",
      "metadata": {
        "id": "lWS9rMQjImZF"
      },
      "source": [
        "# Create pandas dataframe\n",
        "fish_data = pd.read_csv('Fish.csv')"
      ],
      "execution_count": null,
      "outputs": []
    },
    {
      "cell_type": "markdown",
      "metadata": {
        "id": "tdr40HJxNb8Q"
      },
      "source": [
        "Let's look at some of the data and check some of the dataset descriptors."
      ]
    },
    {
      "cell_type": "code",
      "metadata": {
        "id": "L7jhsbgiNiWu"
      },
      "source": [
        "# Let's print out the first few rows\n",
        "fish_data.head()"
      ],
      "execution_count": null,
      "outputs": []
    },
    {
      "cell_type": "code",
      "metadata": {
        "id": "iL6vmfTMNqeI"
      },
      "source": [
        "# Let's get the data shape\n",
        "fish_data.shape"
      ],
      "execution_count": null,
      "outputs": []
    },
    {
      "cell_type": "code",
      "metadata": {
        "id": "uYMy04YkImZG"
      },
      "source": [
        "# Let's describe the data\n",
        "fish_data.describe()"
      ],
      "execution_count": null,
      "outputs": []
    },
    {
      "cell_type": "code",
      "metadata": {
        "id": "qPM2fT7pImZH",
        "scrolled": true
      },
      "source": [
        "# Lastly, let's get data info\n",
        "fish_data.info()"
      ],
      "execution_count": null,
      "outputs": []
    },
    {
      "cell_type": "markdown",
      "metadata": {
        "id": "nG9NvytqOK7s"
      },
      "source": [
        "### a) Removing 0's from data (5 points)"
      ]
    },
    {
      "cell_type": "markdown",
      "metadata": {
        "id": "expaCW7rOZO1"
      },
      "source": [
        "We can see that there aren't any null values in this dataset by using the .info() function. However, .describe() shows us there are weights of 0.0g which is ambiguous and is likely a recording error. \n",
        "\n",
        "Drop any row that has a weight of 0.0."
      ]
    },
    {
      "cell_type": "code",
      "metadata": {
        "id": "7yfCamcEImZJ"
      },
      "source": [
        "# Delete any rows for which there is a measurement of 0.0.\n",
        "### YOUR CODE HERE ###\n",
        "\n",
        "# Let's take another look.\n",
        "fish_data.describe()"
      ],
      "execution_count": null,
      "outputs": []
    },
    {
      "cell_type": "markdown",
      "metadata": {
        "id": "YldeqJEoImZJ"
      },
      "source": [
        "### b) Outlier Detection \\& Elimination (5 points)"
      ]
    },
    {
      "cell_type": "markdown",
      "metadata": {
        "id": "WSqQRkpJPQSb"
      },
      "source": [
        "Using 4 deviations from the mean as our cutoff, and using the data listed using the describe function above, are there any outliers?"
      ]
    },
    {
      "cell_type": "markdown",
      "metadata": {
        "id": "W-DoY4ozjeel"
      },
      "source": [
        "[YOUR ANSWER HERE]"
      ]
    },
    {
      "cell_type": "markdown",
      "metadata": {
        "id": "se3W2x_PThhC"
      },
      "source": [
        "## Problem 3 - Fish Linear Regression"
      ]
    },
    {
      "cell_type": "markdown",
      "metadata": {
        "id": "3aOeXbcUeZJL"
      },
      "source": [
        "You will now run different versions of linear regression in order to predict fish Weight using the 6 explanatory variables."
      ]
    },
    {
      "cell_type": "markdown",
      "metadata": {
        "id": "TD6Ixu2Welbe"
      },
      "source": [
        "### a) Multiple Linear Regression (6 points)"
      ]
    },
    {
      "cell_type": "markdown",
      "metadata": {
        "id": "E2DFm5KrU7N9"
      },
      "source": [
        "First, run a multiple linear regression using only the height, width, and length measurements to predict weight. We will begin by splitting the data into features **X_fish** and target variable **y_fish**."
      ]
    },
    {
      "cell_type": "code",
      "metadata": {
        "id": "HPuMcF23Vbyl"
      },
      "source": [
        "y_fish = fish_data.iloc[:, 1] # Get Fish Weights\n",
        "X_fish = fish_data.drop(columns=['Weight']) # Get Fish measurements plus species\n",
        "X_fish = X_fish.drop(columns=['Species']) # Drop the Fish Species for now\n",
        "\n",
        "# print X.head(), you should have 5 features for each sample\n",
        "print(\"X_fish.head():\")\n",
        "print(X_fish.head())\n",
        "\n",
        "# print y.head(), you should have one label for each sample\n",
        "print(\"\\ny_fish.head()\")\n",
        "print(y_fish.head())"
      ],
      "execution_count": null,
      "outputs": []
    },
    {
      "cell_type": "markdown",
      "metadata": {
        "id": "jypw17XkXuDv"
      },
      "source": [
        "Now, we are almost ready to run regression with scikit-learn. We need to first convert **X_fish** and **y_fish** into numpy arrays and split the data into training and validation splits using sklearn **train_test_split**. \n",
        "\n",
        "sklearn's train_test_split offers customizable functionality when creating training and test sets. For more information, checkout https://scikit-learn.org/stable/modules/generated/sklearn.model_selection.train_test_split.html ."
      ]
    },
    {
      "cell_type": "code",
      "metadata": {
        "id": "I0UOI7KvYA0x"
      },
      "source": [
        "# Convert X, and y into np arrays\n",
        "X_fish = X_fish.values\n",
        "y_fish = y_fish.values\n",
        "\n",
        "# Split data into train test split\n",
        "from sklearn.model_selection import train_test_split\n",
        "X_fish_train, X_fish_test, y_fish_train, y_fish_test = train_test_split(X_fish, y_fish, test_size = 0.2, random_state = 0)"
      ],
      "execution_count": null,
      "outputs": []
    },
    {
      "cell_type": "markdown",
      "metadata": {
        "id": "qFCSJJ7MYsMj"
      },
      "source": [
        "Now we are ready to run a multiple linear regression. Use sklearn's **LinearRegression** to carry out the regression."
      ]
    },
    {
      "cell_type": "code",
      "metadata": {
        "id": "GHcbvBTTYsF2"
      },
      "source": [
        "from sklearn.linear_model import LinearRegression\n",
        "regressor = ### YOUR CODE HERE ### \n",
        "\n",
        "# Fit the regressor using X_fish_train and y_fish_train\n",
        "### YOUR CODE HERE ###\n"
      ],
      "execution_count": null,
      "outputs": []
    },
    {
      "cell_type": "markdown",
      "metadata": {
        "id": "acTg_PwUabeY"
      },
      "source": [
        "Now let's see how we did, generate predictions using X_fish_test."
      ]
    },
    {
      "cell_type": "code",
      "metadata": {
        "id": "u3BTynP2Yr-B"
      },
      "source": [
        "# generate predictions using X_fish_test\n",
        "y_fish_pred = ### YOUR CODE HERE ### \n",
        "\n",
        "# Print the predictions along with actual weights\n",
        "np.set_printoptions(precision=2)\n",
        "print(np.concatenate((y_fish_pred.reshape(len(y_fish_pred),1), y_fish_test.reshape(len(y_fish_test),1)),1))"
      ],
      "execution_count": null,
      "outputs": []
    },
    {
      "cell_type": "markdown",
      "metadata": {
        "id": "JEoRzxdUZEXE"
      },
      "source": [
        "### b) Computing MSE and R-squared for MLR (5 points)"
      ]
    },
    {
      "cell_type": "markdown",
      "metadata": {
        "id": "J1H01fjoYr3I"
      },
      "source": [
        "The model appears to do an okay job predicting some weights while missing the mark on others. Let's quantify the results by computing mean squared error (MSE) and the coefficient of determination (R-squared). sklearn's metrics package provides functions to compute the values for you. \n",
        "\n",
        "More info can be found here: \n",
        "\n",
        "https://scikit-learn.org/stable/modules/generated/sklearn.metrics.mean_squared_error.html\n",
        "https://scikit-learn.org/stable/modules/generated/sklearn.metrics.r2_score.html"
      ]
    },
    {
      "cell_type": "code",
      "metadata": {
        "id": "_KUunCUyYrvX"
      },
      "source": [
        "from sklearn.metrics import mean_squared_error\n",
        "from sklearn.metrics import r2_score\n",
        "\n",
        "# Compute the mean squared error using y_fish_test and y_fish_pred\n",
        "### YOUR CODE HERE ###\n",
        "\n",
        "# Compute the coefficient of determination using y_fish_test and y_fish_pred\n",
        "### YOUR CODE HERE ###\n"
      ],
      "execution_count": null,
      "outputs": []
    },
    {
      "cell_type": "markdown",
      "metadata": {
        "id": "jiKHKbSzdWZQ"
      },
      "source": [
        "Using the y_fish_test and y_fish_pred, what was the mean squared error for this model?"
      ]
    },
    {
      "cell_type": "markdown",
      "metadata": {
        "id": "CFUrwJv7dn5d"
      },
      "source": [
        "[YOUR ANSWER HERE]"
      ]
    },
    {
      "cell_type": "markdown",
      "metadata": {
        "id": "dsC4S8pWdrHE"
      },
      "source": [
        "Using the y_fish_test and y_fish_pred, what was the coefficient of detemination for this model?"
      ]
    },
    {
      "cell_type": "markdown",
      "metadata": {
        "id": "M-xqx9NUdrHF"
      },
      "source": [
        "[YOUR ANSWER HERE]"
      ]
    },
    {
      "cell_type": "markdown",
      "metadata": {
        "id": "K-UjZojxjv5W"
      },
      "source": [
        "### c) Polynomial Multiple Linear Regression (12 points)"
      ]
    },
    {
      "cell_type": "markdown",
      "metadata": {
        "id": "z8EgAGkAjzCP"
      },
      "source": [
        "We have seen how polynomial regression can increase the predictive power of linear regression models. We will now run a polynomial multiple linear regression model in order to gain a more accurate model. Begin by transforming the features X_fish_test and X_fish_train into second order polynomial space. There will be interaction terms in the transformed dataset as well. For more on interaction terms visit the sklearn docs."
      ]
    },
    {
      "cell_type": "code",
      "metadata": {
        "id": "QlKOME90kDmY"
      },
      "source": [
        "from sklearn.preprocessing import PolynomialFeatures\n",
        "#Create polynomial transform of degree 2. hint: problem 1\n",
        "poly = ### YOUR CODE HERE ###\n",
        "\n",
        "# Transform X_fish_train X_fish_test to second order polynomial space\n",
        "X_fish_train_pol = ### YOUR CODE HERE ###\n",
        "X_fish_test_pol = ### YOUR CODE HERE ###\n",
        "\n",
        "# Print 5 rows of X_fish_train_poly, shape should be (5,21)\n",
        "print(X_fish_train_pol[0:5,:])"
      ],
      "execution_count": null,
      "outputs": []
    },
    {
      "cell_type": "markdown",
      "metadata": {
        "id": "21wLW5Y0DTXR"
      },
      "source": [
        "Next run the second order polynomial regression using the transformed data. Instantiate a new regression model and use X_fish_train_pol and y_fish_train to fit the model."
      ]
    },
    {
      "cell_type": "code",
      "metadata": {
        "id": "mRK0BdUlDZOf"
      },
      "source": [
        "from sklearn.linear_model import LinearRegression\n",
        "regressor = ### YOUR CODE HERE ### \n",
        "\n",
        "\n",
        "regressor = LinearRegression()\n",
        "\n",
        "# Fit the regressor using X_fish_train_pol and y_fish_train\n",
        "### YOUR CODE HERE ###\n"
      ],
      "execution_count": null,
      "outputs": []
    },
    {
      "cell_type": "markdown",
      "metadata": {
        "id": "8Ue0vEm4D0fC"
      },
      "source": [
        "Now let's see how we did with the second model, generate predictions using X_fish_test_pol."
      ]
    },
    {
      "cell_type": "code",
      "metadata": {
        "id": "dptAnGEhEc1D"
      },
      "source": [
        "# generate predictions using X_test\n",
        "y_fish_pol_pred = ### YOUR CODE HERE ### \n",
        "\n",
        "\n",
        "y_fish_pol_pred = regressor.predict(X_fish_test_pol)\n",
        "\n",
        "# Print the predictions along with actual weights\n",
        "np.set_printoptions(precision=2)\n",
        "print(np.concatenate((y_fish_pred.reshape(len(y_fish_pol_pred),1), y_fish_test.reshape(len(y_fish_test),1)),1))"
      ],
      "execution_count": null,
      "outputs": []
    },
    {
      "cell_type": "markdown",
      "metadata": {
        "id": "Duo5OHehZYHG"
      },
      "source": [
        "### d) Computing MSE and R-squared for Polynomial Regression (5 points)"
      ]
    },
    {
      "cell_type": "markdown",
      "metadata": {
        "id": "ZBBJcKlcZi4g"
      },
      "source": [
        "Now, compute the mean squared error using y_fish_test and y_fish_pol_pred"
      ]
    },
    {
      "cell_type": "code",
      "metadata": {
        "id": "v9cUc-z_EwJa"
      },
      "source": [
        "from sklearn.metrics import mean_squared_error\n",
        "from sklearn.metrics import r2_score\n",
        "\n",
        "# Compute the mean squared error using y_fish_test and y_fish_pol_pred\n",
        "### YOUR CODE HERE ###\n",
        "\n",
        "# Compute the coefficient of determination using y_fish_test and y_fish_pol_pred\n",
        "### YOUR CODE HERE ###\n"
      ],
      "execution_count": null,
      "outputs": []
    },
    {
      "cell_type": "markdown",
      "metadata": {
        "id": "EibvMRnCFSN1"
      },
      "source": [
        "Using the y_fish_test and y_fish_pol_pred, what was the mean squared error for this model?"
      ]
    },
    {
      "cell_type": "markdown",
      "metadata": {
        "id": "il_tGDNsFSN1"
      },
      "source": [
        "[YOUR ANSWER HERE]"
      ]
    },
    {
      "cell_type": "markdown",
      "metadata": {
        "id": "-N2v3ly4FSN2"
      },
      "source": [
        "Using the y_fish_test and y_fish_pol_pred, what was the coefficient of detemination for this model?"
      ]
    },
    {
      "cell_type": "markdown",
      "metadata": {
        "id": "rMdHoxc1Znt4"
      },
      "source": [
        "[YOUR ANSWER HERE]"
      ]
    },
    {
      "cell_type": "markdown",
      "metadata": {
        "id": "9hKsk6BrImZL"
      },
      "source": [
        "### e) Multiple Linear Regression With Categorical Variable (12 points)"
      ]
    },
    {
      "cell_type": "markdown",
      "metadata": {
        "id": "mx2i-jbiF5oP"
      },
      "source": [
        "Now that we have done multiple linear regression, and polynomial multiple linear regression, we will now do a multiple linear regression that takes into account the species of fish by creating numeric levels."
      ]
    },
    {
      "cell_type": "code",
      "metadata": {
        "id": "q1stDO11ImZL"
      },
      "source": [
        "# Create a copy of fish_data\n",
        "fish_data_species = fish_data\n",
        "\n",
        "# Begin by generating a dictionary that maps all unique species in fish_data to a unique id\n",
        "level_dict = ### YOUR CODE HERE ###\n",
        "\n",
        "# Uses the level dictionary to retrieve the id\n",
        "def integer_encode_level(level):\n",
        "    ### YOUR CODE HERE ###\n",
        "\n",
        "# Apply the function to the Species column and store in Species column (you should overwrite the species current data with the numeric representations)\n",
        "fish_data_species['Species'] = ### YOUR CODE HERE ###\n",
        "\n",
        "# Check data\n",
        "fish_data_species"
      ],
      "execution_count": null,
      "outputs": []
    },
    {
      "cell_type": "markdown",
      "metadata": {
        "id": "wY-3cKNAK3cX"
      },
      "source": [
        "We will now create a dataset with 1 target column and 6 feature columns: Species, Length1, Length2, Length3, Height, Width. "
      ]
    },
    {
      "cell_type": "code",
      "metadata": {
        "id": "t49zhMyUJni-"
      },
      "source": [
        "# Split fish_data into \n",
        "y_fish_categorical = fish_data_species.iloc[:, 1] # Get Fish Weights\n",
        "X_fish_categorical = fish_data_species.drop(columns=['Weight']) # Get Fish measurements plus species\n",
        "\n",
        "# print X_fish_categorical.head(), you should have 6 features for each sample\n",
        "print(\"X_fish_categorical.head():\")\n",
        "print(X_fish_categorical.head())\n",
        "\n",
        "# print y_fish_categorical.head(), you should have one label for each sample\n",
        "print(\"\\ny_fish_categorical.head()\")\n",
        "print(y_fish_categorical.head())"
      ],
      "execution_count": null,
      "outputs": []
    },
    {
      "cell_type": "markdown",
      "metadata": {
        "id": "-vlKZB6CK6U-"
      },
      "source": [
        "Create training and test sets for the fish data with categorical species variable:"
      ]
    },
    {
      "cell_type": "code",
      "metadata": {
        "id": "JzzEthUHJndk"
      },
      "source": [
        "# Convert X, and y into np arrays\n",
        "X_fish_categorical = X_fish_categorical.values\n",
        "y_fish_categorical = y_fish_categorical.values\n",
        "\n",
        "# Split data into train test split\n",
        "from sklearn.model_selection import train_test_split\n",
        "X_fish_train_categorical, X_fish_test_categorical, y_fish_train_categorical, y_fish_test_categorical = train_test_split(X_fish_categorical, y_fish_categorical, test_size = 0.2, random_state = 0)"
      ],
      "execution_count": null,
      "outputs": []
    },
    {
      "cell_type": "markdown",
      "metadata": {
        "id": "gTp4MctlI3WL"
      },
      "source": [
        "Now we are ready to run a our final multiple linear regression. As a recap, we added a categorical variable to represent the species of fish. We encoded the species as levels, and overwrote the species column with the numeric representations of the species. Now, use sklearn's **LinearRegression** to carry out regression one last time."
      ]
    },
    {
      "cell_type": "code",
      "metadata": {
        "id": "E3anA9_dLZEy"
      },
      "source": [
        "from sklearn.linear_model import LinearRegression\n",
        "regressor = ### YOUR CODE HERE ### \n",
        "\n",
        "# Fit the regressor using X_fish_train_categorical and y_fish_train_categorical\n",
        "### YOUR CODE HERE ###\n"
      ],
      "execution_count": null,
      "outputs": []
    },
    {
      "cell_type": "markdown",
      "metadata": {
        "id": "6Oac4Ng3L_h3"
      },
      "source": [
        "Let's check the predictions for this model. Generate predictions using X_fish_test_categorical and compare to the test set weights."
      ]
    },
    {
      "cell_type": "code",
      "metadata": {
        "id": "-e63kqUtL3PW"
      },
      "source": [
        "# generate predictions using X_fish_test_categorical\n",
        "y_fish_pred_categorical = ### YOUR CODE HERE ### \n",
        "\n",
        "\n",
        "# Print the predictions along with actual weights\n",
        "np.set_printoptions(precision=2)\n",
        "print(np.concatenate((y_fish_pred.reshape(len(y_fish_pred_categorical),1), y_fish_test.reshape(len(y_fish_test_categorical),1)),1))"
      ],
      "execution_count": null,
      "outputs": []
    },
    {
      "cell_type": "markdown",
      "metadata": {
        "id": "lz031lPOZuDJ"
      },
      "source": [
        "### f) Computing MSE and R-squared for MLR with Categorical Variable (5 points)"
      ]
    },
    {
      "cell_type": "code",
      "metadata": {
        "id": "vxN7AuQKMkii"
      },
      "source": [
        "# Compute the mean squared error using y_fish_test_categorical and y_fish_pred_categorical\n",
        "### YOUR CODE HERE ###\n",
        "\n",
        "# Compute the coefficient of determination using y_fish_test_categorical and y_fish_pred_categorical\n",
        "### YOUR CODE HERE ###\n"
      ],
      "execution_count": null,
      "outputs": []
    },
    {
      "cell_type": "markdown",
      "metadata": {
        "id": "-PNcaCIHMkij"
      },
      "source": [
        "Using y_fish_test_categorical and y_fish_pred_categorical, what was the mean squared error for this model?"
      ]
    },
    {
      "cell_type": "markdown",
      "metadata": {
        "id": "3qdvVAuyMkij"
      },
      "source": [
        "[YOUR ANSWER HERE]"
      ]
    },
    {
      "cell_type": "markdown",
      "metadata": {
        "id": "wwUEH3VwMkij"
      },
      "source": [
        "Using y_fish_test_categorical and y_fish_pred_categorical, what was the coefficient of detemination for this model?"
      ]
    },
    {
      "cell_type": "markdown",
      "metadata": {
        "id": "9eCKexTmNNQI"
      },
      "source": [
        "[YOUR ANSWER HERE]"
      ]
    },
    {
      "cell_type": "markdown",
      "metadata": {
        "id": "E7Mj2JJcImZW"
      },
      "source": [
        "### g) Model selection (15 points)"
      ]
    },
    {
      "cell_type": "markdown",
      "metadata": {
        "id": "Iqy3IOXwNXuw"
      },
      "source": [
        "MSE and the coefficient of determination (R-squared) are used to provide quick statistics on how a model performs. In general a lower MSE means that the labels $y$ are close to the regression line. R-squared is always between 0 and 100%. In general, the higher the R-squared, the better the model fits your data. Based upon the MSE and  R-squared values you computed in parts a,b, and c which model fits the data the best? Also, do the numeric predictions generated by your models reflect your hypothesis?"
      ]
    },
    {
      "cell_type": "markdown",
      "metadata": {
        "id": "xxOSRtkkOxYb"
      },
      "source": [
        "[YOUR ANSWER HERE]"
      ]
    }
  ]
}